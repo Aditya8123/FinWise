{
 "cells": [
  {
   "cell_type": "markdown",
   "id": "8ab1e035",
   "metadata": {},
   "source": [
    "# 02_chunking_experiments.ipynb\n",
    "\n",
    "## FinWise — Chunking Experiments\n",
    "\n",
    "### Goal\n",
    "\n",
    "- Test and compare multiple chunking strategies for cleaned PDF text.\n",
    "- Compare **chunk sizes and overlaps**.\n",
    "- Generate chunks ready for embeddings and RAG experiments.\n"
   ]
  },
  {
   "cell_type": "markdown",
   "id": "b5c5c999",
   "metadata": {},
   "source": [
    "# 1️. Setup & Imports\n"
   ]
  },
  {
   "cell_type": "code",
   "execution_count": 1,
   "id": "099798ae",
   "metadata": {},
   "outputs": [],
   "source": [
    "from pathlib import Path\n",
    "import json\n",
    "from tqdm import tqdm\n",
    "import sys\n",
    "import pandas as pd\n",
    "import matplotlib.pyplot as plt\n",
    "import seaborn as sns\n",
    "\n",
    "# If your notebook is in notebooks/, this adds the project root to sys.path\n",
    "project_root = Path().resolve().parent  # adjust if needed\n",
    "sys.path.append(str(project_root))\n",
    "\n",
    "from src.data.chunkers import chunk_docs_streaming\n",
    "# Paths\n",
    "INTERIM_DIR = Path(\"../data/interim/split\")\n",
    "PROCESSED_DIR = Path(\"../data/experiments\")\n",
    "PROCESSED_DIR.mkdir(exist_ok=True, parents=True)\n"
   ]
  },
  {
   "cell_type": "markdown",
   "id": "86a75397",
   "metadata": {},
   "source": [
    "## 2️. Define Experiment Parameters\n",
    "\n",
    "We will experiment with **different chunk sizes** and **overlap ratios** to see how they affect:\n",
    "\n",
    "- Number of chunks generated\n",
    "- Average chunk length\n",
    "- Preservation of semantic structure\n"
   ]
  },
  {
   "cell_type": "code",
   "execution_count": 2,
   "id": "c02633fc",
   "metadata": {},
   "outputs": [],
   "source": [
    "# Full range of chunk sizes and overlaps\n",
    "experiment_configs = [\n",
    "    {\"chunk_size\": 100, \"overlap\": 20},\n",
    "    {\"chunk_size\": 150, \"overlap\": 30},\n",
    "    {\"chunk_size\": 200, \"overlap\": 40},\n",
    "    {\"chunk_size\": 250, \"overlap\": 50},\n",
    "    {\"chunk_size\": 300, \"overlap\": 50},\n",
    "    {\"chunk_size\": 350, \"overlap\": 60},\n",
    "    {\"chunk_size\": 400, \"overlap\": 60},\n",
    "    {\"chunk_size\": 450, \"overlap\": 75},\n",
    "    {\"chunk_size\": 500, \"overlap\": 50},\n",
    "    {\"chunk_size\": 500, \"overlap\": 100},\n",
    "    {\"chunk_size\": 550, \"overlap\": 100},\n",
    "    {\"chunk_size\": 600, \"overlap\": 100},\n",
    "    {\"chunk_size\": 650, \"overlap\": 100},\n",
    "    {\"chunk_size\": 700, \"overlap\": 100},\n",
    "    {\"chunk_size\": 750, \"overlap\": 100},\n",
    "    {\"chunk_size\": 800, \"overlap\": 100},\n",
    "    {\"chunk_size\": 900, \"overlap\": 120},\n",
    "    {\"chunk_size\": 1000, \"overlap\": 120},\n",
    "    {\"chunk_size\": 1200, \"overlap\": 150},\n",
    "    {\"chunk_size\": 1500, \"overlap\": 200},\n",
    "]\n",
    "\n",
    "jsonl_output = True  # JSONL recommended for streaming large PDFs"
   ]
  },
  {
   "cell_type": "markdown",
   "id": "40d11d7c",
   "metadata": {},
   "source": [
    "## 3️. Run Chunking Experiments\n",
    "\n",
    "We will loop through each configuration, run the streaming chunker, and collect statistics such as:\n",
    "\n",
    "- Number of chunks generated\n",
    "- Average chunk length\n"
   ]
  },
  {
   "cell_type": "code",
   "execution_count": 3,
   "id": "e4c8285f",
   "metadata": {},
   "outputs": [
    {
     "name": "stdout",
     "output_type": "stream",
     "text": [
      "\n",
      "Running experiment: chunk_size=100, overlap=20\n",
      "\n",
      "Processing all_pdfs_sebi_education_cleaned_part1.json ...\n"
     ]
    },
    {
     "name": "stderr",
     "output_type": "stream",
     "text": [
      "Chunking all_pdfs_sebi_education_cleaned_part1.json: 100%|██████████| 200/200 [00:00<00:00, 16227.74page/s]\n"
     ]
    },
    {
     "name": "stdout",
     "output_type": "stream",
     "text": [
      "Saved chunks to ..\\data\\experiments\\chunks_100_overlap20\\all_pdfs_sebi_education_cleaned_part1_chunks.jsonl\n",
      "\n",
      "Processing all_pdfs_sebi_education_cleaned_part2.json ...\n"
     ]
    },
    {
     "name": "stderr",
     "output_type": "stream",
     "text": [
      "Chunking all_pdfs_sebi_education_cleaned_part2.json: 100%|██████████| 200/200 [00:00<00:00, 19981.92page/s]\n"
     ]
    },
    {
     "name": "stdout",
     "output_type": "stream",
     "text": [
      "Saved chunks to ..\\data\\experiments\\chunks_100_overlap20\\all_pdfs_sebi_education_cleaned_part2_chunks.jsonl\n",
      "\n",
      "Processing all_pdfs_sebi_education_cleaned_part3.json ...\n"
     ]
    },
    {
     "name": "stderr",
     "output_type": "stream",
     "text": [
      "Chunking all_pdfs_sebi_education_cleaned_part3.json: 100%|██████████| 200/200 [00:00<00:00, 16183.91page/s]\n"
     ]
    },
    {
     "name": "stdout",
     "output_type": "stream",
     "text": [
      "Saved chunks to ..\\data\\experiments\\chunks_100_overlap20\\all_pdfs_sebi_education_cleaned_part3_chunks.jsonl\n",
      "\n",
      "Processing all_pdfs_sebi_education_cleaned_part4.json ...\n"
     ]
    },
    {
     "name": "stderr",
     "output_type": "stream",
     "text": [
      "Chunking all_pdfs_sebi_education_cleaned_part4.json: 100%|██████████| 143/143 [00:00<00:00, 9798.82page/s]\n"
     ]
    },
    {
     "name": "stdout",
     "output_type": "stream",
     "text": [
      "Saved chunks to ..\\data\\experiments\\chunks_100_overlap20\\all_pdfs_sebi_education_cleaned_part4_chunks.jsonl\n",
      "\n",
      "Processing all_pdfs_varsity_cleaned_part1.json ...\n"
     ]
    },
    {
     "name": "stderr",
     "output_type": "stream",
     "text": [
      "Chunking all_pdfs_varsity_cleaned_part1.json: 100%|██████████| 200/200 [00:00<00:00, 6450.00page/s]\n"
     ]
    },
    {
     "name": "stdout",
     "output_type": "stream",
     "text": [
      "Saved chunks to ..\\data\\experiments\\chunks_100_overlap20\\all_pdfs_varsity_cleaned_part1_chunks.jsonl\n",
      "\n",
      "Processing all_pdfs_varsity_cleaned_part10.json ...\n"
     ]
    },
    {
     "name": "stderr",
     "output_type": "stream",
     "text": [
      "Chunking all_pdfs_varsity_cleaned_part10.json: 100%|██████████| 200/200 [00:00<00:00, 10464.18page/s]\n"
     ]
    },
    {
     "name": "stdout",
     "output_type": "stream",
     "text": [
      "Saved chunks to ..\\data\\experiments\\chunks_100_overlap20\\all_pdfs_varsity_cleaned_part10_chunks.jsonl\n",
      "\n",
      "Processing all_pdfs_varsity_cleaned_part11.json ...\n"
     ]
    },
    {
     "name": "stderr",
     "output_type": "stream",
     "text": [
      "Chunking all_pdfs_varsity_cleaned_part11.json: 100%|██████████| 186/186 [00:00<00:00, 8479.05page/s]\n"
     ]
    },
    {
     "name": "stdout",
     "output_type": "stream",
     "text": [
      "Saved chunks to ..\\data\\experiments\\chunks_100_overlap20\\all_pdfs_varsity_cleaned_part11_chunks.jsonl\n",
      "\n",
      "Processing all_pdfs_varsity_cleaned_part2.json ...\n"
     ]
    },
    {
     "name": "stderr",
     "output_type": "stream",
     "text": [
      "Chunking all_pdfs_varsity_cleaned_part2.json: 100%|██████████| 200/200 [00:00<00:00, 7013.77page/s]\n"
     ]
    },
    {
     "name": "stdout",
     "output_type": "stream",
     "text": [
      "Saved chunks to ..\\data\\experiments\\chunks_100_overlap20\\all_pdfs_varsity_cleaned_part2_chunks.jsonl\n",
      "\n",
      "Processing all_pdfs_varsity_cleaned_part3.json ...\n"
     ]
    },
    {
     "name": "stderr",
     "output_type": "stream",
     "text": [
      "Chunking all_pdfs_varsity_cleaned_part3.json: 100%|██████████| 200/200 [00:00<00:00, 6451.63page/s]\n"
     ]
    },
    {
     "name": "stdout",
     "output_type": "stream",
     "text": [
      "Saved chunks to ..\\data\\experiments\\chunks_100_overlap20\\all_pdfs_varsity_cleaned_part3_chunks.jsonl\n",
      "\n",
      "Processing all_pdfs_varsity_cleaned_part4.json ...\n"
     ]
    },
    {
     "name": "stderr",
     "output_type": "stream",
     "text": [
      "Chunking all_pdfs_varsity_cleaned_part4.json: 100%|██████████| 200/200 [00:00<00:00, 5910.72page/s]\n"
     ]
    },
    {
     "name": "stdout",
     "output_type": "stream",
     "text": [
      "Saved chunks to ..\\data\\experiments\\chunks_100_overlap20\\all_pdfs_varsity_cleaned_part4_chunks.jsonl\n",
      "\n",
      "Processing all_pdfs_varsity_cleaned_part5.json ...\n"
     ]
    },
    {
     "name": "stderr",
     "output_type": "stream",
     "text": [
      "Chunking all_pdfs_varsity_cleaned_part5.json: 100%|██████████| 200/200 [00:00<00:00, 6001.25page/s]\n"
     ]
    },
    {
     "name": "stdout",
     "output_type": "stream",
     "text": [
      "Saved chunks to ..\\data\\experiments\\chunks_100_overlap20\\all_pdfs_varsity_cleaned_part5_chunks.jsonl\n",
      "\n",
      "Processing all_pdfs_varsity_cleaned_part6.json ...\n"
     ]
    },
    {
     "name": "stderr",
     "output_type": "stream",
     "text": [
      "Chunking all_pdfs_varsity_cleaned_part6.json: 100%|██████████| 200/200 [00:00<00:00, 4111.30page/s]\n"
     ]
    },
    {
     "name": "stdout",
     "output_type": "stream",
     "text": [
      "Saved chunks to ..\\data\\experiments\\chunks_100_overlap20\\all_pdfs_varsity_cleaned_part6_chunks.jsonl\n",
      "\n",
      "Processing all_pdfs_varsity_cleaned_part7.json ...\n"
     ]
    },
    {
     "name": "stderr",
     "output_type": "stream",
     "text": [
      "Chunking all_pdfs_varsity_cleaned_part7.json: 100%|██████████| 200/200 [00:00<00:00, 5086.07page/s]\n"
     ]
    },
    {
     "name": "stdout",
     "output_type": "stream",
     "text": [
      "Saved chunks to ..\\data\\experiments\\chunks_100_overlap20\\all_pdfs_varsity_cleaned_part7_chunks.jsonl\n",
      "\n",
      "Processing all_pdfs_varsity_cleaned_part8.json ...\n"
     ]
    },
    {
     "name": "stderr",
     "output_type": "stream",
     "text": [
      "Chunking all_pdfs_varsity_cleaned_part8.json: 100%|██████████| 200/200 [00:00<00:00, 5574.05page/s]\n"
     ]
    },
    {
     "name": "stdout",
     "output_type": "stream",
     "text": [
      "Saved chunks to ..\\data\\experiments\\chunks_100_overlap20\\all_pdfs_varsity_cleaned_part8_chunks.jsonl\n",
      "\n",
      "Processing all_pdfs_varsity_cleaned_part9.json ...\n"
     ]
    },
    {
     "name": "stderr",
     "output_type": "stream",
     "text": [
      "Chunking all_pdfs_varsity_cleaned_part9.json: 100%|██████████| 200/200 [00:00<00:00, 8253.74page/s]\n"
     ]
    },
    {
     "name": "stdout",
     "output_type": "stream",
     "text": [
      "Saved chunks to ..\\data\\experiments\\chunks_100_overlap20\\all_pdfs_varsity_cleaned_part9_chunks.jsonl\n",
      "\n",
      "Running experiment: chunk_size=150, overlap=30\n",
      "\n",
      "Processing all_pdfs_sebi_education_cleaned_part1.json ...\n"
     ]
    },
    {
     "name": "stderr",
     "output_type": "stream",
     "text": [
      "Chunking all_pdfs_sebi_education_cleaned_part1.json: 100%|██████████| 200/200 [00:00<00:00, 29248.98page/s]\n"
     ]
    },
    {
     "name": "stdout",
     "output_type": "stream",
     "text": [
      "Saved chunks to ..\\data\\experiments\\chunks_150_overlap30\\all_pdfs_sebi_education_cleaned_part1_chunks.jsonl\n",
      "\n",
      "Processing all_pdfs_sebi_education_cleaned_part2.json ...\n"
     ]
    },
    {
     "name": "stderr",
     "output_type": "stream",
     "text": [
      "Chunking all_pdfs_sebi_education_cleaned_part2.json: 100%|██████████| 200/200 [00:00<00:00, 37781.42page/s]\n"
     ]
    },
    {
     "name": "stdout",
     "output_type": "stream",
     "text": [
      "Saved chunks to ..\\data\\experiments\\chunks_150_overlap30\\all_pdfs_sebi_education_cleaned_part2_chunks.jsonl\n",
      "\n",
      "Processing all_pdfs_sebi_education_cleaned_part3.json ...\n"
     ]
    },
    {
     "name": "stderr",
     "output_type": "stream",
     "text": [
      "Chunking all_pdfs_sebi_education_cleaned_part3.json: 100%|██████████| 200/200 [00:00<00:00, 38400.59page/s]\n"
     ]
    },
    {
     "name": "stdout",
     "output_type": "stream",
     "text": [
      "Saved chunks to ..\\data\\experiments\\chunks_150_overlap30\\all_pdfs_sebi_education_cleaned_part3_chunks.jsonl\n",
      "\n",
      "Processing all_pdfs_sebi_education_cleaned_part4.json ...\n"
     ]
    },
    {
     "name": "stderr",
     "output_type": "stream",
     "text": [
      "Chunking all_pdfs_sebi_education_cleaned_part4.json: 100%|██████████| 143/143 [00:00<00:00, 14901.50page/s]\n"
     ]
    },
    {
     "name": "stdout",
     "output_type": "stream",
     "text": [
      "Saved chunks to ..\\data\\experiments\\chunks_150_overlap30\\all_pdfs_sebi_education_cleaned_part4_chunks.jsonl\n",
      "\n",
      "Processing all_pdfs_varsity_cleaned_part1.json ...\n"
     ]
    },
    {
     "name": "stderr",
     "output_type": "stream",
     "text": [
      "Chunking all_pdfs_varsity_cleaned_part1.json: 100%|██████████| 200/200 [00:00<00:00, 11381.79page/s]\n"
     ]
    },
    {
     "name": "stdout",
     "output_type": "stream",
     "text": [
      "Saved chunks to ..\\data\\experiments\\chunks_150_overlap30\\all_pdfs_varsity_cleaned_part1_chunks.jsonl\n",
      "\n",
      "Processing all_pdfs_varsity_cleaned_part10.json ...\n"
     ]
    },
    {
     "name": "stderr",
     "output_type": "stream",
     "text": [
      "Chunking all_pdfs_varsity_cleaned_part10.json: 100%|██████████| 200/200 [00:00<00:00, 13183.83page/s]\n"
     ]
    },
    {
     "name": "stdout",
     "output_type": "stream",
     "text": [
      "Saved chunks to ..\\data\\experiments\\chunks_150_overlap30\\all_pdfs_varsity_cleaned_part10_chunks.jsonl\n",
      "\n",
      "Processing all_pdfs_varsity_cleaned_part11.json ...\n"
     ]
    },
    {
     "name": "stderr",
     "output_type": "stream",
     "text": [
      "Chunking all_pdfs_varsity_cleaned_part11.json: 100%|██████████| 186/186 [00:00<00:00, 12154.37page/s]\n"
     ]
    },
    {
     "name": "stdout",
     "output_type": "stream",
     "text": [
      "Saved chunks to ..\\data\\experiments\\chunks_150_overlap30\\all_pdfs_varsity_cleaned_part11_chunks.jsonl\n",
      "\n",
      "Processing all_pdfs_varsity_cleaned_part2.json ...\n"
     ]
    },
    {
     "name": "stderr",
     "output_type": "stream",
     "text": [
      "Chunking all_pdfs_varsity_cleaned_part2.json: 100%|██████████| 200/200 [00:00<00:00, 9094.43page/s]\n"
     ]
    },
    {
     "name": "stdout",
     "output_type": "stream",
     "text": [
      "Saved chunks to ..\\data\\experiments\\chunks_150_overlap30\\all_pdfs_varsity_cleaned_part2_chunks.jsonl\n",
      "\n",
      "Processing all_pdfs_varsity_cleaned_part3.json ...\n"
     ]
    },
    {
     "name": "stderr",
     "output_type": "stream",
     "text": [
      "Chunking all_pdfs_varsity_cleaned_part3.json: 100%|██████████| 200/200 [00:00<00:00, 9417.68page/s]\n"
     ]
    },
    {
     "name": "stdout",
     "output_type": "stream",
     "text": [
      "Saved chunks to ..\\data\\experiments\\chunks_150_overlap30\\all_pdfs_varsity_cleaned_part3_chunks.jsonl\n",
      "\n",
      "Processing all_pdfs_varsity_cleaned_part4.json ...\n"
     ]
    },
    {
     "name": "stderr",
     "output_type": "stream",
     "text": [
      "Chunking all_pdfs_varsity_cleaned_part4.json: 100%|██████████| 200/200 [00:00<00:00, 8338.91page/s]\n"
     ]
    },
    {
     "name": "stdout",
     "output_type": "stream",
     "text": [
      "Saved chunks to ..\\data\\experiments\\chunks_150_overlap30\\all_pdfs_varsity_cleaned_part4_chunks.jsonl\n",
      "\n",
      "Processing all_pdfs_varsity_cleaned_part5.json ...\n"
     ]
    },
    {
     "name": "stderr",
     "output_type": "stream",
     "text": [
      "Chunking all_pdfs_varsity_cleaned_part5.json: 100%|██████████| 200/200 [00:00<00:00, 12171.16page/s]\n"
     ]
    },
    {
     "name": "stdout",
     "output_type": "stream",
     "text": [
      "Saved chunks to ..\\data\\experiments\\chunks_150_overlap30\\all_pdfs_varsity_cleaned_part5_chunks.jsonl\n",
      "\n",
      "Processing all_pdfs_varsity_cleaned_part6.json ...\n"
     ]
    },
    {
     "name": "stderr",
     "output_type": "stream",
     "text": [
      "Chunking all_pdfs_varsity_cleaned_part6.json: 100%|██████████| 200/200 [00:00<00:00, 10113.21page/s]\n"
     ]
    },
    {
     "name": "stdout",
     "output_type": "stream",
     "text": [
      "Saved chunks to ..\\data\\experiments\\chunks_150_overlap30\\all_pdfs_varsity_cleaned_part6_chunks.jsonl\n",
      "\n",
      "Processing all_pdfs_varsity_cleaned_part7.json ...\n"
     ]
    },
    {
     "name": "stderr",
     "output_type": "stream",
     "text": [
      "Chunking all_pdfs_varsity_cleaned_part7.json: 100%|██████████| 200/200 [00:00<00:00, 8887.08page/s]\n"
     ]
    },
    {
     "name": "stdout",
     "output_type": "stream",
     "text": [
      "Saved chunks to ..\\data\\experiments\\chunks_150_overlap30\\all_pdfs_varsity_cleaned_part7_chunks.jsonl\n",
      "\n",
      "Processing all_pdfs_varsity_cleaned_part8.json ...\n"
     ]
    },
    {
     "name": "stderr",
     "output_type": "stream",
     "text": [
      "Chunking all_pdfs_varsity_cleaned_part8.json: 100%|██████████| 200/200 [00:00<00:00, 7387.78page/s]\n"
     ]
    },
    {
     "name": "stdout",
     "output_type": "stream",
     "text": [
      "Saved chunks to ..\\data\\experiments\\chunks_150_overlap30\\all_pdfs_varsity_cleaned_part8_chunks.jsonl\n",
      "\n",
      "Processing all_pdfs_varsity_cleaned_part9.json ...\n"
     ]
    },
    {
     "name": "stderr",
     "output_type": "stream",
     "text": [
      "Chunking all_pdfs_varsity_cleaned_part9.json: 100%|██████████| 200/200 [00:00<00:00, 7012.83page/s]\n"
     ]
    },
    {
     "name": "stdout",
     "output_type": "stream",
     "text": [
      "Saved chunks to ..\\data\\experiments\\chunks_150_overlap30\\all_pdfs_varsity_cleaned_part9_chunks.jsonl\n",
      "\n",
      "Running experiment: chunk_size=200, overlap=40\n",
      "\n",
      "Processing all_pdfs_sebi_education_cleaned_part1.json ...\n"
     ]
    },
    {
     "name": "stderr",
     "output_type": "stream",
     "text": [
      "Chunking all_pdfs_sebi_education_cleaned_part1.json: 100%|██████████| 200/200 [00:00<00:00, 19524.74page/s]\n"
     ]
    },
    {
     "name": "stdout",
     "output_type": "stream",
     "text": [
      "Saved chunks to ..\\data\\experiments\\chunks_200_overlap40\\all_pdfs_sebi_education_cleaned_part1_chunks.jsonl\n",
      "\n",
      "Processing all_pdfs_sebi_education_cleaned_part2.json ...\n"
     ]
    },
    {
     "name": "stderr",
     "output_type": "stream",
     "text": [
      "Chunking all_pdfs_sebi_education_cleaned_part2.json: 100%|██████████| 200/200 [00:00<00:00, 21808.99page/s]\n"
     ]
    },
    {
     "name": "stdout",
     "output_type": "stream",
     "text": [
      "Saved chunks to ..\\data\\experiments\\chunks_200_overlap40\\all_pdfs_sebi_education_cleaned_part2_chunks.jsonl\n",
      "\n",
      "Processing all_pdfs_sebi_education_cleaned_part3.json ...\n"
     ]
    },
    {
     "name": "stderr",
     "output_type": "stream",
     "text": [
      "Chunking all_pdfs_sebi_education_cleaned_part3.json: 100%|██████████| 200/200 [00:00<00:00, 22832.36page/s]\n"
     ]
    },
    {
     "name": "stdout",
     "output_type": "stream",
     "text": [
      "Saved chunks to ..\\data\\experiments\\chunks_200_overlap40\\all_pdfs_sebi_education_cleaned_part3_chunks.jsonl\n",
      "\n",
      "Processing all_pdfs_sebi_education_cleaned_part4.json ...\n"
     ]
    },
    {
     "name": "stderr",
     "output_type": "stream",
     "text": [
      "Chunking all_pdfs_sebi_education_cleaned_part4.json: 100%|██████████| 143/143 [00:00<00:00, 12712.98page/s]\n"
     ]
    },
    {
     "name": "stdout",
     "output_type": "stream",
     "text": [
      "Saved chunks to ..\\data\\experiments\\chunks_200_overlap40\\all_pdfs_sebi_education_cleaned_part4_chunks.jsonl\n",
      "\n",
      "Processing all_pdfs_varsity_cleaned_part1.json ...\n"
     ]
    },
    {
     "name": "stderr",
     "output_type": "stream",
     "text": [
      "Chunking all_pdfs_varsity_cleaned_part1.json: 100%|██████████| 200/200 [00:00<00:00, 10333.98page/s]\n"
     ]
    },
    {
     "name": "stdout",
     "output_type": "stream",
     "text": [
      "Saved chunks to ..\\data\\experiments\\chunks_200_overlap40\\all_pdfs_varsity_cleaned_part1_chunks.jsonl\n",
      "\n",
      "Processing all_pdfs_varsity_cleaned_part10.json ...\n"
     ]
    },
    {
     "name": "stderr",
     "output_type": "stream",
     "text": [
      "Chunking all_pdfs_varsity_cleaned_part10.json: 100%|██████████| 200/200 [00:00<00:00, 13676.04page/s]\n"
     ]
    },
    {
     "name": "stdout",
     "output_type": "stream",
     "text": [
      "Saved chunks to ..\\data\\experiments\\chunks_200_overlap40\\all_pdfs_varsity_cleaned_part10_chunks.jsonl\n",
      "\n",
      "Processing all_pdfs_varsity_cleaned_part11.json ...\n"
     ]
    },
    {
     "name": "stderr",
     "output_type": "stream",
     "text": [
      "Chunking all_pdfs_varsity_cleaned_part11.json: 100%|██████████| 186/186 [00:00<00:00, 16197.25page/s]\n"
     ]
    },
    {
     "name": "stdout",
     "output_type": "stream",
     "text": [
      "Saved chunks to ..\\data\\experiments\\chunks_200_overlap40\\all_pdfs_varsity_cleaned_part11_chunks.jsonl\n",
      "\n",
      "Processing all_pdfs_varsity_cleaned_part2.json ...\n"
     ]
    },
    {
     "name": "stderr",
     "output_type": "stream",
     "text": [
      "Chunking all_pdfs_varsity_cleaned_part2.json: 100%|██████████| 200/200 [00:00<00:00, 13668.91page/s]\n"
     ]
    },
    {
     "name": "stdout",
     "output_type": "stream",
     "text": [
      "Saved chunks to ..\\data\\experiments\\chunks_200_overlap40\\all_pdfs_varsity_cleaned_part2_chunks.jsonl\n",
      "\n",
      "Processing all_pdfs_varsity_cleaned_part3.json ...\n"
     ]
    },
    {
     "name": "stderr",
     "output_type": "stream",
     "text": [
      "Chunking all_pdfs_varsity_cleaned_part3.json: 100%|██████████| 200/200 [00:00<00:00, 11794.84page/s]\n"
     ]
    },
    {
     "name": "stdout",
     "output_type": "stream",
     "text": [
      "Saved chunks to ..\\data\\experiments\\chunks_200_overlap40\\all_pdfs_varsity_cleaned_part3_chunks.jsonl\n",
      "\n",
      "Processing all_pdfs_varsity_cleaned_part4.json ...\n"
     ]
    },
    {
     "name": "stderr",
     "output_type": "stream",
     "text": [
      "Chunking all_pdfs_varsity_cleaned_part4.json: 100%|██████████| 200/200 [00:00<00:00, 13552.09page/s]\n"
     ]
    },
    {
     "name": "stdout",
     "output_type": "stream",
     "text": [
      "Saved chunks to ..\\data\\experiments\\chunks_200_overlap40\\all_pdfs_varsity_cleaned_part4_chunks.jsonl\n",
      "\n",
      "Processing all_pdfs_varsity_cleaned_part5.json ...\n"
     ]
    },
    {
     "name": "stderr",
     "output_type": "stream",
     "text": [
      "Chunking all_pdfs_varsity_cleaned_part5.json: 100%|██████████| 200/200 [00:00<00:00, 15103.45page/s]\n"
     ]
    },
    {
     "name": "stdout",
     "output_type": "stream",
     "text": [
      "Saved chunks to ..\\data\\experiments\\chunks_200_overlap40\\all_pdfs_varsity_cleaned_part5_chunks.jsonl\n",
      "\n",
      "Processing all_pdfs_varsity_cleaned_part6.json ...\n"
     ]
    },
    {
     "name": "stderr",
     "output_type": "stream",
     "text": [
      "Chunking all_pdfs_varsity_cleaned_part6.json: 100%|██████████| 200/200 [00:00<00:00, 13716.51page/s]\n"
     ]
    },
    {
     "name": "stdout",
     "output_type": "stream",
     "text": [
      "Saved chunks to ..\\data\\experiments\\chunks_200_overlap40\\all_pdfs_varsity_cleaned_part6_chunks.jsonl\n",
      "\n",
      "Processing all_pdfs_varsity_cleaned_part7.json ...\n"
     ]
    },
    {
     "name": "stderr",
     "output_type": "stream",
     "text": [
      "Chunking all_pdfs_varsity_cleaned_part7.json: 100%|██████████| 200/200 [00:00<00:00, 12029.44page/s]\n"
     ]
    },
    {
     "name": "stdout",
     "output_type": "stream",
     "text": [
      "Saved chunks to ..\\data\\experiments\\chunks_200_overlap40\\all_pdfs_varsity_cleaned_part7_chunks.jsonl\n",
      "\n",
      "Processing all_pdfs_varsity_cleaned_part8.json ...\n"
     ]
    },
    {
     "name": "stderr",
     "output_type": "stream",
     "text": [
      "Chunking all_pdfs_varsity_cleaned_part8.json: 100%|██████████| 200/200 [00:00<00:00, 14234.63page/s]\n"
     ]
    },
    {
     "name": "stdout",
     "output_type": "stream",
     "text": [
      "Saved chunks to ..\\data\\experiments\\chunks_200_overlap40\\all_pdfs_varsity_cleaned_part8_chunks.jsonl\n",
      "\n",
      "Processing all_pdfs_varsity_cleaned_part9.json ...\n"
     ]
    },
    {
     "name": "stderr",
     "output_type": "stream",
     "text": [
      "Chunking all_pdfs_varsity_cleaned_part9.json: 100%|██████████| 200/200 [00:00<00:00, 15883.00page/s]\n"
     ]
    },
    {
     "name": "stdout",
     "output_type": "stream",
     "text": [
      "Saved chunks to ..\\data\\experiments\\chunks_200_overlap40\\all_pdfs_varsity_cleaned_part9_chunks.jsonl\n",
      "\n",
      "Running experiment: chunk_size=250, overlap=50\n",
      "\n",
      "Processing all_pdfs_sebi_education_cleaned_part1.json ...\n"
     ]
    },
    {
     "name": "stderr",
     "output_type": "stream",
     "text": [
      "Chunking all_pdfs_sebi_education_cleaned_part1.json: 100%|██████████| 200/200 [00:00<00:00, 22405.47page/s]\n"
     ]
    },
    {
     "name": "stdout",
     "output_type": "stream",
     "text": [
      "Saved chunks to ..\\data\\experiments\\chunks_250_overlap50\\all_pdfs_sebi_education_cleaned_part1_chunks.jsonl\n",
      "\n",
      "Processing all_pdfs_sebi_education_cleaned_part2.json ...\n"
     ]
    },
    {
     "name": "stderr",
     "output_type": "stream",
     "text": [
      "Chunking all_pdfs_sebi_education_cleaned_part2.json: 100%|██████████| 200/200 [00:00<00:00, 28324.58page/s]\n"
     ]
    },
    {
     "name": "stdout",
     "output_type": "stream",
     "text": [
      "Saved chunks to ..\\data\\experiments\\chunks_250_overlap50\\all_pdfs_sebi_education_cleaned_part2_chunks.jsonl\n",
      "\n",
      "Processing all_pdfs_sebi_education_cleaned_part3.json ...\n"
     ]
    },
    {
     "name": "stderr",
     "output_type": "stream",
     "text": [
      "Chunking all_pdfs_sebi_education_cleaned_part3.json: 100%|██████████| 200/200 [00:00<00:00, 26650.81page/s]\n"
     ]
    },
    {
     "name": "stdout",
     "output_type": "stream",
     "text": [
      "Saved chunks to ..\\data\\experiments\\chunks_250_overlap50\\all_pdfs_sebi_education_cleaned_part3_chunks.jsonl\n",
      "\n",
      "Processing all_pdfs_sebi_education_cleaned_part4.json ...\n"
     ]
    },
    {
     "name": "stderr",
     "output_type": "stream",
     "text": [
      "Chunking all_pdfs_sebi_education_cleaned_part4.json: 100%|██████████| 143/143 [00:00<00:00, 19095.37page/s]\n"
     ]
    },
    {
     "name": "stdout",
     "output_type": "stream",
     "text": [
      "Saved chunks to ..\\data\\experiments\\chunks_250_overlap50\\all_pdfs_sebi_education_cleaned_part4_chunks.jsonl\n",
      "\n",
      "Processing all_pdfs_varsity_cleaned_part1.json ...\n"
     ]
    },
    {
     "name": "stderr",
     "output_type": "stream",
     "text": [
      "Chunking all_pdfs_varsity_cleaned_part1.json: 100%|██████████| 200/200 [00:00<00:00, 14936.18page/s]\n"
     ]
    },
    {
     "name": "stdout",
     "output_type": "stream",
     "text": [
      "Saved chunks to ..\\data\\experiments\\chunks_250_overlap50\\all_pdfs_varsity_cleaned_part1_chunks.jsonl\n",
      "\n",
      "Processing all_pdfs_varsity_cleaned_part10.json ...\n"
     ]
    },
    {
     "name": "stderr",
     "output_type": "stream",
     "text": [
      "Chunking all_pdfs_varsity_cleaned_part10.json: 100%|██████████| 200/200 [00:00<00:00, 23386.79page/s]\n"
     ]
    },
    {
     "name": "stdout",
     "output_type": "stream",
     "text": [
      "Saved chunks to ..\\data\\experiments\\chunks_250_overlap50\\all_pdfs_varsity_cleaned_part10_chunks.jsonl\n",
      "\n",
      "Processing all_pdfs_varsity_cleaned_part11.json ...\n"
     ]
    },
    {
     "name": "stderr",
     "output_type": "stream",
     "text": [
      "Chunking all_pdfs_varsity_cleaned_part11.json: 100%|██████████| 186/186 [00:00<00:00, 21083.17page/s]\n"
     ]
    },
    {
     "name": "stdout",
     "output_type": "stream",
     "text": [
      "Saved chunks to ..\\data\\experiments\\chunks_250_overlap50\\all_pdfs_varsity_cleaned_part11_chunks.jsonl\n",
      "\n",
      "Processing all_pdfs_varsity_cleaned_part2.json ...\n"
     ]
    },
    {
     "name": "stderr",
     "output_type": "stream",
     "text": [
      "Chunking all_pdfs_varsity_cleaned_part2.json: 100%|██████████| 200/200 [00:00<00:00, 14033.87page/s]\n"
     ]
    },
    {
     "name": "stdout",
     "output_type": "stream",
     "text": [
      "Saved chunks to ..\\data\\experiments\\chunks_250_overlap50\\all_pdfs_varsity_cleaned_part2_chunks.jsonl\n",
      "\n",
      "Processing all_pdfs_varsity_cleaned_part3.json ...\n"
     ]
    },
    {
     "name": "stderr",
     "output_type": "stream",
     "text": [
      "Chunking all_pdfs_varsity_cleaned_part3.json: 100%|██████████| 200/200 [00:00<00:00, 12871.10page/s]\n"
     ]
    },
    {
     "name": "stdout",
     "output_type": "stream",
     "text": [
      "Saved chunks to ..\\data\\experiments\\chunks_250_overlap50\\all_pdfs_varsity_cleaned_part3_chunks.jsonl\n",
      "\n",
      "Processing all_pdfs_varsity_cleaned_part4.json ...\n"
     ]
    },
    {
     "name": "stderr",
     "output_type": "stream",
     "text": [
      "Chunking all_pdfs_varsity_cleaned_part4.json: 100%|██████████| 200/200 [00:00<00:00, 14231.25page/s]\n"
     ]
    },
    {
     "name": "stdout",
     "output_type": "stream",
     "text": [
      "Saved chunks to ..\\data\\experiments\\chunks_250_overlap50\\all_pdfs_varsity_cleaned_part4_chunks.jsonl\n",
      "\n",
      "Processing all_pdfs_varsity_cleaned_part5.json ...\n"
     ]
    },
    {
     "name": "stderr",
     "output_type": "stream",
     "text": [
      "Chunking all_pdfs_varsity_cleaned_part5.json: 100%|██████████| 200/200 [00:00<00:00, 21040.96page/s]\n"
     ]
    },
    {
     "name": "stdout",
     "output_type": "stream",
     "text": [
      "Saved chunks to ..\\data\\experiments\\chunks_250_overlap50\\all_pdfs_varsity_cleaned_part5_chunks.jsonl\n",
      "\n",
      "Processing all_pdfs_varsity_cleaned_part6.json ...\n"
     ]
    },
    {
     "name": "stderr",
     "output_type": "stream",
     "text": [
      "Chunking all_pdfs_varsity_cleaned_part6.json: 100%|██████████| 200/200 [00:00<00:00, 17919.78page/s]\n"
     ]
    },
    {
     "name": "stdout",
     "output_type": "stream",
     "text": [
      "Saved chunks to ..\\data\\experiments\\chunks_250_overlap50\\all_pdfs_varsity_cleaned_part6_chunks.jsonl\n",
      "\n",
      "Processing all_pdfs_varsity_cleaned_part7.json ...\n"
     ]
    },
    {
     "name": "stderr",
     "output_type": "stream",
     "text": [
      "Chunking all_pdfs_varsity_cleaned_part7.json: 100%|██████████| 200/200 [00:00<00:00, 14451.41page/s]\n"
     ]
    },
    {
     "name": "stdout",
     "output_type": "stream",
     "text": [
      "Saved chunks to ..\\data\\experiments\\chunks_250_overlap50\\all_pdfs_varsity_cleaned_part7_chunks.jsonl\n",
      "\n",
      "Processing all_pdfs_varsity_cleaned_part8.json ...\n"
     ]
    },
    {
     "name": "stderr",
     "output_type": "stream",
     "text": [
      "Chunking all_pdfs_varsity_cleaned_part8.json: 100%|██████████| 200/200 [00:00<00:00, 13088.39page/s]\n"
     ]
    },
    {
     "name": "stdout",
     "output_type": "stream",
     "text": [
      "Saved chunks to ..\\data\\experiments\\chunks_250_overlap50\\all_pdfs_varsity_cleaned_part8_chunks.jsonl\n",
      "\n",
      "Processing all_pdfs_varsity_cleaned_part9.json ...\n"
     ]
    },
    {
     "name": "stderr",
     "output_type": "stream",
     "text": [
      "Chunking all_pdfs_varsity_cleaned_part9.json: 100%|██████████| 200/200 [00:00<00:00, 14588.12page/s]\n"
     ]
    },
    {
     "name": "stdout",
     "output_type": "stream",
     "text": [
      "Saved chunks to ..\\data\\experiments\\chunks_250_overlap50\\all_pdfs_varsity_cleaned_part9_chunks.jsonl\n",
      "\n",
      "Running experiment: chunk_size=300, overlap=50\n",
      "\n",
      "Processing all_pdfs_sebi_education_cleaned_part1.json ...\n"
     ]
    },
    {
     "name": "stderr",
     "output_type": "stream",
     "text": [
      "Chunking all_pdfs_sebi_education_cleaned_part1.json: 100%|██████████| 200/200 [00:00<00:00, 23021.59page/s]\n"
     ]
    },
    {
     "name": "stdout",
     "output_type": "stream",
     "text": [
      "Saved chunks to ..\\data\\experiments\\chunks_300_overlap50\\all_pdfs_sebi_education_cleaned_part1_chunks.jsonl\n",
      "\n",
      "Processing all_pdfs_sebi_education_cleaned_part2.json ...\n"
     ]
    },
    {
     "name": "stderr",
     "output_type": "stream",
     "text": [
      "Chunking all_pdfs_sebi_education_cleaned_part2.json: 100%|██████████| 200/200 [00:00<00:00, 23581.39page/s]\n"
     ]
    },
    {
     "name": "stdout",
     "output_type": "stream",
     "text": [
      "Saved chunks to ..\\data\\experiments\\chunks_300_overlap50\\all_pdfs_sebi_education_cleaned_part2_chunks.jsonl\n",
      "\n",
      "Processing all_pdfs_sebi_education_cleaned_part3.json ...\n"
     ]
    },
    {
     "name": "stderr",
     "output_type": "stream",
     "text": [
      "Chunking all_pdfs_sebi_education_cleaned_part3.json: 100%|██████████| 200/200 [00:00<00:00, 30777.11page/s]\n"
     ]
    },
    {
     "name": "stdout",
     "output_type": "stream",
     "text": [
      "Saved chunks to ..\\data\\experiments\\chunks_300_overlap50\\all_pdfs_sebi_education_cleaned_part3_chunks.jsonl\n",
      "\n",
      "Processing all_pdfs_sebi_education_cleaned_part4.json ...\n"
     ]
    },
    {
     "name": "stderr",
     "output_type": "stream",
     "text": [
      "Chunking all_pdfs_sebi_education_cleaned_part4.json: 100%|██████████| 143/143 [00:00<00:00, 16668.58page/s]\n"
     ]
    },
    {
     "name": "stdout",
     "output_type": "stream",
     "text": [
      "Saved chunks to ..\\data\\experiments\\chunks_300_overlap50\\all_pdfs_sebi_education_cleaned_part4_chunks.jsonl\n",
      "\n",
      "Processing all_pdfs_varsity_cleaned_part1.json ...\n"
     ]
    },
    {
     "name": "stderr",
     "output_type": "stream",
     "text": [
      "Chunking all_pdfs_varsity_cleaned_part1.json: 100%|██████████| 200/200 [00:00<00:00, 5033.64page/s]\n"
     ]
    },
    {
     "name": "stdout",
     "output_type": "stream",
     "text": [
      "Saved chunks to ..\\data\\experiments\\chunks_300_overlap50\\all_pdfs_varsity_cleaned_part1_chunks.jsonl\n",
      "\n",
      "Processing all_pdfs_varsity_cleaned_part10.json ...\n"
     ]
    },
    {
     "name": "stderr",
     "output_type": "stream",
     "text": [
      "Chunking all_pdfs_varsity_cleaned_part10.json: 100%|██████████| 200/200 [00:00<00:00, 13088.59page/s]\n"
     ]
    },
    {
     "name": "stdout",
     "output_type": "stream",
     "text": [
      "Saved chunks to ..\\data\\experiments\\chunks_300_overlap50\\all_pdfs_varsity_cleaned_part10_chunks.jsonl\n",
      "\n",
      "Processing all_pdfs_varsity_cleaned_part11.json ...\n"
     ]
    },
    {
     "name": "stderr",
     "output_type": "stream",
     "text": [
      "Chunking all_pdfs_varsity_cleaned_part11.json: 100%|██████████| 186/186 [00:00<00:00, 6911.48page/s]\n"
     ]
    },
    {
     "name": "stdout",
     "output_type": "stream",
     "text": [
      "Saved chunks to ..\\data\\experiments\\chunks_300_overlap50\\all_pdfs_varsity_cleaned_part11_chunks.jsonl\n",
      "\n",
      "Processing all_pdfs_varsity_cleaned_part2.json ...\n"
     ]
    },
    {
     "name": "stderr",
     "output_type": "stream",
     "text": [
      "Chunking all_pdfs_varsity_cleaned_part2.json: 100%|██████████| 200/200 [00:00<00:00, 11071.73page/s]\n"
     ]
    },
    {
     "name": "stdout",
     "output_type": "stream",
     "text": [
      "Saved chunks to ..\\data\\experiments\\chunks_300_overlap50\\all_pdfs_varsity_cleaned_part2_chunks.jsonl\n",
      "\n",
      "Processing all_pdfs_varsity_cleaned_part3.json ...\n"
     ]
    },
    {
     "name": "stderr",
     "output_type": "stream",
     "text": [
      "Chunking all_pdfs_varsity_cleaned_part3.json: 100%|██████████| 200/200 [00:00<00:00, 9973.85page/s]\n"
     ]
    },
    {
     "name": "stdout",
     "output_type": "stream",
     "text": [
      "Saved chunks to ..\\data\\experiments\\chunks_300_overlap50\\all_pdfs_varsity_cleaned_part3_chunks.jsonl\n",
      "\n",
      "Processing all_pdfs_varsity_cleaned_part4.json ...\n"
     ]
    },
    {
     "name": "stderr",
     "output_type": "stream",
     "text": [
      "Chunking all_pdfs_varsity_cleaned_part4.json: 100%|██████████| 200/200 [00:00<00:00, 11831.77page/s]\n"
     ]
    },
    {
     "name": "stdout",
     "output_type": "stream",
     "text": [
      "Saved chunks to ..\\data\\experiments\\chunks_300_overlap50\\all_pdfs_varsity_cleaned_part4_chunks.jsonl\n",
      "\n",
      "Processing all_pdfs_varsity_cleaned_part5.json ...\n"
     ]
    },
    {
     "name": "stderr",
     "output_type": "stream",
     "text": [
      "Chunking all_pdfs_varsity_cleaned_part5.json: 100%|██████████| 200/200 [00:00<00:00, 14389.43page/s]\n"
     ]
    },
    {
     "name": "stdout",
     "output_type": "stream",
     "text": [
      "Saved chunks to ..\\data\\experiments\\chunks_300_overlap50\\all_pdfs_varsity_cleaned_part5_chunks.jsonl\n",
      "\n",
      "Processing all_pdfs_varsity_cleaned_part6.json ...\n"
     ]
    },
    {
     "name": "stderr",
     "output_type": "stream",
     "text": [
      "Chunking all_pdfs_varsity_cleaned_part6.json: 100%|██████████| 200/200 [00:00<00:00, 13495.62page/s]\n"
     ]
    },
    {
     "name": "stdout",
     "output_type": "stream",
     "text": [
      "Saved chunks to ..\\data\\experiments\\chunks_300_overlap50\\all_pdfs_varsity_cleaned_part6_chunks.jsonl\n",
      "\n",
      "Processing all_pdfs_varsity_cleaned_part7.json ...\n"
     ]
    },
    {
     "name": "stderr",
     "output_type": "stream",
     "text": [
      "Chunking all_pdfs_varsity_cleaned_part7.json: 100%|██████████| 200/200 [00:00<00:00, 11731.66page/s]\n"
     ]
    },
    {
     "name": "stdout",
     "output_type": "stream",
     "text": [
      "Saved chunks to ..\\data\\experiments\\chunks_300_overlap50\\all_pdfs_varsity_cleaned_part7_chunks.jsonl\n",
      "\n",
      "Processing all_pdfs_varsity_cleaned_part8.json ...\n"
     ]
    },
    {
     "name": "stderr",
     "output_type": "stream",
     "text": [
      "Chunking all_pdfs_varsity_cleaned_part8.json: 100%|██████████| 200/200 [00:00<00:00, 11344.23page/s]\n"
     ]
    },
    {
     "name": "stdout",
     "output_type": "stream",
     "text": [
      "Saved chunks to ..\\data\\experiments\\chunks_300_overlap50\\all_pdfs_varsity_cleaned_part8_chunks.jsonl\n",
      "\n",
      "Processing all_pdfs_varsity_cleaned_part9.json ...\n"
     ]
    },
    {
     "name": "stderr",
     "output_type": "stream",
     "text": [
      "Chunking all_pdfs_varsity_cleaned_part9.json: 100%|██████████| 200/200 [00:00<00:00, 11589.52page/s]\n"
     ]
    },
    {
     "name": "stdout",
     "output_type": "stream",
     "text": [
      "Saved chunks to ..\\data\\experiments\\chunks_300_overlap50\\all_pdfs_varsity_cleaned_part9_chunks.jsonl\n",
      "\n",
      "Running experiment: chunk_size=350, overlap=60\n",
      "\n",
      "Processing all_pdfs_sebi_education_cleaned_part1.json ...\n"
     ]
    },
    {
     "name": "stderr",
     "output_type": "stream",
     "text": [
      "Chunking all_pdfs_sebi_education_cleaned_part1.json: 100%|██████████| 200/200 [00:00<00:00, 38333.90page/s]\n"
     ]
    },
    {
     "name": "stdout",
     "output_type": "stream",
     "text": [
      "Saved chunks to ..\\data\\experiments\\chunks_350_overlap60\\all_pdfs_sebi_education_cleaned_part1_chunks.jsonl\n",
      "\n",
      "Processing all_pdfs_sebi_education_cleaned_part2.json ...\n"
     ]
    },
    {
     "name": "stderr",
     "output_type": "stream",
     "text": [
      "Chunking all_pdfs_sebi_education_cleaned_part2.json: 100%|██████████| 200/200 [00:00<00:00, 30359.41page/s]\n"
     ]
    },
    {
     "name": "stdout",
     "output_type": "stream",
     "text": [
      "Saved chunks to ..\\data\\experiments\\chunks_350_overlap60\\all_pdfs_sebi_education_cleaned_part2_chunks.jsonl\n",
      "\n",
      "Processing all_pdfs_sebi_education_cleaned_part3.json ...\n"
     ]
    },
    {
     "name": "stderr",
     "output_type": "stream",
     "text": [
      "Chunking all_pdfs_sebi_education_cleaned_part3.json: 100%|██████████| 200/200 [00:00<00:00, 21897.23page/s]\n"
     ]
    },
    {
     "name": "stdout",
     "output_type": "stream",
     "text": [
      "Saved chunks to ..\\data\\experiments\\chunks_350_overlap60\\all_pdfs_sebi_education_cleaned_part3_chunks.jsonl\n",
      "\n",
      "Processing all_pdfs_sebi_education_cleaned_part4.json ...\n"
     ]
    },
    {
     "name": "stderr",
     "output_type": "stream",
     "text": [
      "Chunking all_pdfs_sebi_education_cleaned_part4.json: 100%|██████████| 143/143 [00:00<00:00, 14925.98page/s]\n"
     ]
    },
    {
     "name": "stdout",
     "output_type": "stream",
     "text": [
      "Saved chunks to ..\\data\\experiments\\chunks_350_overlap60\\all_pdfs_sebi_education_cleaned_part4_chunks.jsonl\n",
      "\n",
      "Processing all_pdfs_varsity_cleaned_part1.json ...\n"
     ]
    },
    {
     "name": "stderr",
     "output_type": "stream",
     "text": [
      "Chunking all_pdfs_varsity_cleaned_part1.json: 100%|██████████| 200/200 [00:00<00:00, 12287.22page/s]\n"
     ]
    },
    {
     "name": "stdout",
     "output_type": "stream",
     "text": [
      "Saved chunks to ..\\data\\experiments\\chunks_350_overlap60\\all_pdfs_varsity_cleaned_part1_chunks.jsonl\n",
      "\n",
      "Processing all_pdfs_varsity_cleaned_part10.json ...\n"
     ]
    },
    {
     "name": "stderr",
     "output_type": "stream",
     "text": [
      "Chunking all_pdfs_varsity_cleaned_part10.json: 100%|██████████| 200/200 [00:00<00:00, 15801.33page/s]\n"
     ]
    },
    {
     "name": "stdout",
     "output_type": "stream",
     "text": [
      "Saved chunks to ..\\data\\experiments\\chunks_350_overlap60\\all_pdfs_varsity_cleaned_part10_chunks.jsonl\n",
      "\n",
      "Processing all_pdfs_varsity_cleaned_part11.json ...\n"
     ]
    },
    {
     "name": "stderr",
     "output_type": "stream",
     "text": [
      "Chunking all_pdfs_varsity_cleaned_part11.json: 100%|██████████| 186/186 [00:00<00:00, 17959.04page/s]\n"
     ]
    },
    {
     "name": "stdout",
     "output_type": "stream",
     "text": [
      "Saved chunks to ..\\data\\experiments\\chunks_350_overlap60\\all_pdfs_varsity_cleaned_part11_chunks.jsonl\n",
      "\n",
      "Processing all_pdfs_varsity_cleaned_part2.json ...\n"
     ]
    },
    {
     "name": "stderr",
     "output_type": "stream",
     "text": [
      "Chunking all_pdfs_varsity_cleaned_part2.json: 100%|██████████| 200/200 [00:00<00:00, 15846.10page/s]\n"
     ]
    },
    {
     "name": "stdout",
     "output_type": "stream",
     "text": [
      "Saved chunks to ..\\data\\experiments\\chunks_350_overlap60\\all_pdfs_varsity_cleaned_part2_chunks.jsonl\n",
      "\n",
      "Processing all_pdfs_varsity_cleaned_part3.json ...\n"
     ]
    },
    {
     "name": "stderr",
     "output_type": "stream",
     "text": [
      "Chunking all_pdfs_varsity_cleaned_part3.json: 100%|██████████| 200/200 [00:00<00:00, 13544.43page/s]\n"
     ]
    },
    {
     "name": "stdout",
     "output_type": "stream",
     "text": [
      "Saved chunks to ..\\data\\experiments\\chunks_350_overlap60\\all_pdfs_varsity_cleaned_part3_chunks.jsonl\n",
      "\n",
      "Processing all_pdfs_varsity_cleaned_part4.json ...\n"
     ]
    },
    {
     "name": "stderr",
     "output_type": "stream",
     "text": [
      "Chunking all_pdfs_varsity_cleaned_part4.json: 100%|██████████| 200/200 [00:00<00:00, 18304.95page/s]\n"
     ]
    },
    {
     "name": "stdout",
     "output_type": "stream",
     "text": [
      "Saved chunks to ..\\data\\experiments\\chunks_350_overlap60\\all_pdfs_varsity_cleaned_part4_chunks.jsonl\n",
      "\n",
      "Processing all_pdfs_varsity_cleaned_part5.json ...\n"
     ]
    },
    {
     "name": "stderr",
     "output_type": "stream",
     "text": [
      "Chunking all_pdfs_varsity_cleaned_part5.json: 100%|██████████| 200/200 [00:00<00:00, 23323.07page/s]\n"
     ]
    },
    {
     "name": "stdout",
     "output_type": "stream",
     "text": [
      "Saved chunks to ..\\data\\experiments\\chunks_350_overlap60\\all_pdfs_varsity_cleaned_part5_chunks.jsonl\n",
      "\n",
      "Processing all_pdfs_varsity_cleaned_part6.json ...\n"
     ]
    },
    {
     "name": "stderr",
     "output_type": "stream",
     "text": [
      "Chunking all_pdfs_varsity_cleaned_part6.json: 100%|██████████| 200/200 [00:00<00:00, 20089.11page/s]\n"
     ]
    },
    {
     "name": "stdout",
     "output_type": "stream",
     "text": [
      "Saved chunks to ..\\data\\experiments\\chunks_350_overlap60\\all_pdfs_varsity_cleaned_part6_chunks.jsonl\n",
      "\n",
      "Processing all_pdfs_varsity_cleaned_part7.json ...\n"
     ]
    },
    {
     "name": "stderr",
     "output_type": "stream",
     "text": [
      "Chunking all_pdfs_varsity_cleaned_part7.json: 100%|██████████| 200/200 [00:00<00:00, 19074.56page/s]\n"
     ]
    },
    {
     "name": "stdout",
     "output_type": "stream",
     "text": [
      "Saved chunks to ..\\data\\experiments\\chunks_350_overlap60\\all_pdfs_varsity_cleaned_part7_chunks.jsonl\n",
      "\n",
      "Processing all_pdfs_varsity_cleaned_part8.json ...\n"
     ]
    },
    {
     "name": "stderr",
     "output_type": "stream",
     "text": [
      "Chunking all_pdfs_varsity_cleaned_part8.json: 100%|██████████| 200/200 [00:00<00:00, 31917.69page/s]\n"
     ]
    },
    {
     "name": "stdout",
     "output_type": "stream",
     "text": [
      "Saved chunks to ..\\data\\experiments\\chunks_350_overlap60\\all_pdfs_varsity_cleaned_part8_chunks.jsonl\n",
      "\n",
      "Processing all_pdfs_varsity_cleaned_part9.json ...\n"
     ]
    },
    {
     "name": "stderr",
     "output_type": "stream",
     "text": [
      "Chunking all_pdfs_varsity_cleaned_part9.json: 100%|██████████| 200/200 [00:00<00:00, 30699.39page/s]\n"
     ]
    },
    {
     "name": "stdout",
     "output_type": "stream",
     "text": [
      "Saved chunks to ..\\data\\experiments\\chunks_350_overlap60\\all_pdfs_varsity_cleaned_part9_chunks.jsonl\n",
      "\n",
      "Running experiment: chunk_size=400, overlap=60\n",
      "\n",
      "Processing all_pdfs_sebi_education_cleaned_part1.json ...\n"
     ]
    },
    {
     "name": "stderr",
     "output_type": "stream",
     "text": [
      "Chunking all_pdfs_sebi_education_cleaned_part1.json: 100%|██████████| 200/200 [00:00<00:00, 56496.55page/s]\n"
     ]
    },
    {
     "name": "stdout",
     "output_type": "stream",
     "text": [
      "Saved chunks to ..\\data\\experiments\\chunks_400_overlap60\\all_pdfs_sebi_education_cleaned_part1_chunks.jsonl\n",
      "\n",
      "Processing all_pdfs_sebi_education_cleaned_part2.json ...\n"
     ]
    },
    {
     "name": "stderr",
     "output_type": "stream",
     "text": [
      "Chunking all_pdfs_sebi_education_cleaned_part2.json: 100%|██████████| 200/200 [00:00<00:00, 62055.10page/s]\n"
     ]
    },
    {
     "name": "stdout",
     "output_type": "stream",
     "text": [
      "Saved chunks to ..\\data\\experiments\\chunks_400_overlap60\\all_pdfs_sebi_education_cleaned_part2_chunks.jsonl\n",
      "\n",
      "Processing all_pdfs_sebi_education_cleaned_part3.json ...\n"
     ]
    },
    {
     "name": "stderr",
     "output_type": "stream",
     "text": [
      "Chunking all_pdfs_sebi_education_cleaned_part3.json: 100%|██████████| 200/200 [00:00<00:00, 72215.98page/s]\n"
     ]
    },
    {
     "name": "stdout",
     "output_type": "stream",
     "text": [
      "Saved chunks to ..\\data\\experiments\\chunks_400_overlap60\\all_pdfs_sebi_education_cleaned_part3_chunks.jsonl\n",
      "\n",
      "Processing all_pdfs_sebi_education_cleaned_part4.json ...\n"
     ]
    },
    {
     "name": "stderr",
     "output_type": "stream",
     "text": [
      "Chunking all_pdfs_sebi_education_cleaned_part4.json: 100%|██████████| 143/143 [00:00<00:00, 4707.60page/s]\n"
     ]
    },
    {
     "name": "stdout",
     "output_type": "stream",
     "text": [
      "Saved chunks to ..\\data\\experiments\\chunks_400_overlap60\\all_pdfs_sebi_education_cleaned_part4_chunks.jsonl\n",
      "\n",
      "Processing all_pdfs_varsity_cleaned_part1.json ...\n"
     ]
    },
    {
     "name": "stderr",
     "output_type": "stream",
     "text": [
      "Chunking all_pdfs_varsity_cleaned_part1.json: 100%|██████████| 200/200 [00:00<00:00, 6134.13page/s]\n"
     ]
    },
    {
     "name": "stdout",
     "output_type": "stream",
     "text": [
      "Saved chunks to ..\\data\\experiments\\chunks_400_overlap60\\all_pdfs_varsity_cleaned_part1_chunks.jsonl\n",
      "\n",
      "Processing all_pdfs_varsity_cleaned_part10.json ...\n"
     ]
    },
    {
     "name": "stderr",
     "output_type": "stream",
     "text": [
      "Chunking all_pdfs_varsity_cleaned_part10.json: 100%|██████████| 200/200 [00:00<00:00, 21610.10page/s]\n"
     ]
    },
    {
     "name": "stdout",
     "output_type": "stream",
     "text": [
      "Saved chunks to ..\\data\\experiments\\chunks_400_overlap60\\all_pdfs_varsity_cleaned_part10_chunks.jsonl\n",
      "\n",
      "Processing all_pdfs_varsity_cleaned_part11.json ...\n"
     ]
    },
    {
     "name": "stderr",
     "output_type": "stream",
     "text": [
      "Chunking all_pdfs_varsity_cleaned_part11.json: 100%|██████████| 186/186 [00:00<00:00, 20475.59page/s]\n"
     ]
    },
    {
     "name": "stdout",
     "output_type": "stream",
     "text": [
      "Saved chunks to ..\\data\\experiments\\chunks_400_overlap60\\all_pdfs_varsity_cleaned_part11_chunks.jsonl\n",
      "\n",
      "Processing all_pdfs_varsity_cleaned_part2.json ...\n"
     ]
    },
    {
     "name": "stderr",
     "output_type": "stream",
     "text": [
      "Chunking all_pdfs_varsity_cleaned_part2.json: 100%|██████████| 200/200 [00:00<00:00, 19363.39page/s]\n"
     ]
    },
    {
     "name": "stdout",
     "output_type": "stream",
     "text": [
      "Saved chunks to ..\\data\\experiments\\chunks_400_overlap60\\all_pdfs_varsity_cleaned_part2_chunks.jsonl\n",
      "\n",
      "Processing all_pdfs_varsity_cleaned_part3.json ...\n"
     ]
    },
    {
     "name": "stderr",
     "output_type": "stream",
     "text": [
      "Chunking all_pdfs_varsity_cleaned_part3.json: 100%|██████████| 200/200 [00:00<00:00, 18003.24page/s]\n"
     ]
    },
    {
     "name": "stdout",
     "output_type": "stream",
     "text": [
      "Saved chunks to ..\\data\\experiments\\chunks_400_overlap60\\all_pdfs_varsity_cleaned_part3_chunks.jsonl\n",
      "\n",
      "Processing all_pdfs_varsity_cleaned_part4.json ...\n"
     ]
    },
    {
     "name": "stderr",
     "output_type": "stream",
     "text": [
      "Chunking all_pdfs_varsity_cleaned_part4.json: 100%|██████████| 200/200 [00:00<00:00, 19535.65page/s]\n"
     ]
    },
    {
     "name": "stdout",
     "output_type": "stream",
     "text": [
      "Saved chunks to ..\\data\\experiments\\chunks_400_overlap60\\all_pdfs_varsity_cleaned_part4_chunks.jsonl\n",
      "\n",
      "Processing all_pdfs_varsity_cleaned_part5.json ...\n"
     ]
    },
    {
     "name": "stderr",
     "output_type": "stream",
     "text": [
      "Chunking all_pdfs_varsity_cleaned_part5.json: 100%|██████████| 200/200 [00:00<00:00, 22668.85page/s]\n"
     ]
    },
    {
     "name": "stdout",
     "output_type": "stream",
     "text": [
      "Saved chunks to ..\\data\\experiments\\chunks_400_overlap60\\all_pdfs_varsity_cleaned_part5_chunks.jsonl\n",
      "\n",
      "Processing all_pdfs_varsity_cleaned_part6.json ...\n"
     ]
    },
    {
     "name": "stderr",
     "output_type": "stream",
     "text": [
      "Chunking all_pdfs_varsity_cleaned_part6.json: 100%|██████████| 200/200 [00:00<00:00, 20241.80page/s]\n"
     ]
    },
    {
     "name": "stdout",
     "output_type": "stream",
     "text": [
      "Saved chunks to ..\\data\\experiments\\chunks_400_overlap60\\all_pdfs_varsity_cleaned_part6_chunks.jsonl\n",
      "\n",
      "Processing all_pdfs_varsity_cleaned_part7.json ...\n"
     ]
    },
    {
     "name": "stderr",
     "output_type": "stream",
     "text": [
      "Chunking all_pdfs_varsity_cleaned_part7.json: 100%|██████████| 200/200 [00:00<00:00, 22590.71page/s]\n"
     ]
    },
    {
     "name": "stdout",
     "output_type": "stream",
     "text": [
      "Saved chunks to ..\\data\\experiments\\chunks_400_overlap60\\all_pdfs_varsity_cleaned_part7_chunks.jsonl\n",
      "\n",
      "Processing all_pdfs_varsity_cleaned_part8.json ...\n"
     ]
    },
    {
     "name": "stderr",
     "output_type": "stream",
     "text": [
      "Chunking all_pdfs_varsity_cleaned_part8.json: 100%|██████████| 200/200 [00:00<00:00, 21176.94page/s]\n"
     ]
    },
    {
     "name": "stdout",
     "output_type": "stream",
     "text": [
      "Saved chunks to ..\\data\\experiments\\chunks_400_overlap60\\all_pdfs_varsity_cleaned_part8_chunks.jsonl\n",
      "\n",
      "Processing all_pdfs_varsity_cleaned_part9.json ...\n"
     ]
    },
    {
     "name": "stderr",
     "output_type": "stream",
     "text": [
      "Chunking all_pdfs_varsity_cleaned_part9.json: 100%|██████████| 200/200 [00:00<00:00, 26960.88page/s]\n"
     ]
    },
    {
     "name": "stdout",
     "output_type": "stream",
     "text": [
      "Saved chunks to ..\\data\\experiments\\chunks_400_overlap60\\all_pdfs_varsity_cleaned_part9_chunks.jsonl\n",
      "\n",
      "Running experiment: chunk_size=450, overlap=75\n",
      "\n",
      "Processing all_pdfs_sebi_education_cleaned_part1.json ...\n"
     ]
    },
    {
     "name": "stderr",
     "output_type": "stream",
     "text": [
      "Chunking all_pdfs_sebi_education_cleaned_part1.json: 100%|██████████| 200/200 [00:00<00:00, 32811.58page/s]\n"
     ]
    },
    {
     "name": "stdout",
     "output_type": "stream",
     "text": [
      "Saved chunks to ..\\data\\experiments\\chunks_450_overlap75\\all_pdfs_sebi_education_cleaned_part1_chunks.jsonl\n",
      "\n",
      "Processing all_pdfs_sebi_education_cleaned_part2.json ...\n"
     ]
    },
    {
     "name": "stderr",
     "output_type": "stream",
     "text": [
      "Chunking all_pdfs_sebi_education_cleaned_part2.json: 100%|██████████| 200/200 [00:00<00:00, 33901.58page/s]\n"
     ]
    },
    {
     "name": "stdout",
     "output_type": "stream",
     "text": [
      "Saved chunks to ..\\data\\experiments\\chunks_450_overlap75\\all_pdfs_sebi_education_cleaned_part2_chunks.jsonl\n",
      "\n",
      "Processing all_pdfs_sebi_education_cleaned_part3.json ...\n"
     ]
    },
    {
     "name": "stderr",
     "output_type": "stream",
     "text": [
      "Chunking all_pdfs_sebi_education_cleaned_part3.json: 100%|██████████| 200/200 [00:00<00:00, 28984.20page/s]\n"
     ]
    },
    {
     "name": "stdout",
     "output_type": "stream",
     "text": [
      "Saved chunks to ..\\data\\experiments\\chunks_450_overlap75\\all_pdfs_sebi_education_cleaned_part3_chunks.jsonl\n",
      "\n",
      "Processing all_pdfs_sebi_education_cleaned_part4.json ...\n"
     ]
    },
    {
     "name": "stderr",
     "output_type": "stream",
     "text": [
      "Chunking all_pdfs_sebi_education_cleaned_part4.json: 100%|██████████| 143/143 [00:00<00:00, 21848.52page/s]\n"
     ]
    },
    {
     "name": "stdout",
     "output_type": "stream",
     "text": [
      "Saved chunks to ..\\data\\experiments\\chunks_450_overlap75\\all_pdfs_sebi_education_cleaned_part4_chunks.jsonl\n",
      "\n",
      "Processing all_pdfs_varsity_cleaned_part1.json ...\n"
     ]
    },
    {
     "name": "stderr",
     "output_type": "stream",
     "text": [
      "Chunking all_pdfs_varsity_cleaned_part1.json: 100%|██████████| 200/200 [00:00<00:00, 13485.42page/s]\n"
     ]
    },
    {
     "name": "stdout",
     "output_type": "stream",
     "text": [
      "Saved chunks to ..\\data\\experiments\\chunks_450_overlap75\\all_pdfs_varsity_cleaned_part1_chunks.jsonl\n",
      "\n",
      "Processing all_pdfs_varsity_cleaned_part10.json ...\n"
     ]
    },
    {
     "name": "stderr",
     "output_type": "stream",
     "text": [
      "Chunking all_pdfs_varsity_cleaned_part10.json: 100%|██████████| 200/200 [00:00<00:00, 17049.67page/s]\n"
     ]
    },
    {
     "name": "stdout",
     "output_type": "stream",
     "text": [
      "Saved chunks to ..\\data\\experiments\\chunks_450_overlap75\\all_pdfs_varsity_cleaned_part10_chunks.jsonl\n",
      "\n",
      "Processing all_pdfs_varsity_cleaned_part11.json ...\n"
     ]
    },
    {
     "name": "stderr",
     "output_type": "stream",
     "text": [
      "Chunking all_pdfs_varsity_cleaned_part11.json: 100%|██████████| 186/186 [00:00<00:00, 18550.48page/s]\n"
     ]
    },
    {
     "name": "stdout",
     "output_type": "stream",
     "text": [
      "Saved chunks to ..\\data\\experiments\\chunks_450_overlap75\\all_pdfs_varsity_cleaned_part11_chunks.jsonl\n",
      "\n",
      "Processing all_pdfs_varsity_cleaned_part2.json ...\n"
     ]
    },
    {
     "name": "stderr",
     "output_type": "stream",
     "text": [
      "Chunking all_pdfs_varsity_cleaned_part2.json: 100%|██████████| 200/200 [00:00<00:00, 21996.56page/s]\n"
     ]
    },
    {
     "name": "stdout",
     "output_type": "stream",
     "text": [
      "Saved chunks to ..\\data\\experiments\\chunks_450_overlap75\\all_pdfs_varsity_cleaned_part2_chunks.jsonl\n",
      "\n",
      "Processing all_pdfs_varsity_cleaned_part3.json ...\n"
     ]
    },
    {
     "name": "stderr",
     "output_type": "stream",
     "text": [
      "Chunking all_pdfs_varsity_cleaned_part3.json: 100%|██████████| 200/200 [00:00<00:00, 18110.90page/s]\n"
     ]
    },
    {
     "name": "stdout",
     "output_type": "stream",
     "text": [
      "Saved chunks to ..\\data\\experiments\\chunks_450_overlap75\\all_pdfs_varsity_cleaned_part3_chunks.jsonl\n",
      "\n",
      "Processing all_pdfs_varsity_cleaned_part4.json ...\n"
     ]
    },
    {
     "name": "stderr",
     "output_type": "stream",
     "text": [
      "Chunking all_pdfs_varsity_cleaned_part4.json: 100%|██████████| 200/200 [00:00<00:00, 18269.07page/s]\n"
     ]
    },
    {
     "name": "stdout",
     "output_type": "stream",
     "text": [
      "Saved chunks to ..\\data\\experiments\\chunks_450_overlap75\\all_pdfs_varsity_cleaned_part4_chunks.jsonl\n",
      "\n",
      "Processing all_pdfs_varsity_cleaned_part5.json ...\n"
     ]
    },
    {
     "name": "stderr",
     "output_type": "stream",
     "text": [
      "Chunking all_pdfs_varsity_cleaned_part5.json: 100%|██████████| 200/200 [00:00<00:00, 20663.12page/s]\n"
     ]
    },
    {
     "name": "stdout",
     "output_type": "stream",
     "text": [
      "Saved chunks to ..\\data\\experiments\\chunks_450_overlap75\\all_pdfs_varsity_cleaned_part5_chunks.jsonl\n",
      "\n",
      "Processing all_pdfs_varsity_cleaned_part6.json ...\n"
     ]
    },
    {
     "name": "stderr",
     "output_type": "stream",
     "text": [
      "Chunking all_pdfs_varsity_cleaned_part6.json: 100%|██████████| 200/200 [00:00<00:00, 17809.45page/s]\n"
     ]
    },
    {
     "name": "stdout",
     "output_type": "stream",
     "text": [
      "Saved chunks to ..\\data\\experiments\\chunks_450_overlap75\\all_pdfs_varsity_cleaned_part6_chunks.jsonl\n",
      "\n",
      "Processing all_pdfs_varsity_cleaned_part7.json ...\n"
     ]
    },
    {
     "name": "stderr",
     "output_type": "stream",
     "text": [
      "Chunking all_pdfs_varsity_cleaned_part7.json: 100%|██████████| 200/200 [00:00<00:00, 16903.66page/s]\n"
     ]
    },
    {
     "name": "stdout",
     "output_type": "stream",
     "text": [
      "Saved chunks to ..\\data\\experiments\\chunks_450_overlap75\\all_pdfs_varsity_cleaned_part7_chunks.jsonl\n",
      "\n",
      "Processing all_pdfs_varsity_cleaned_part8.json ...\n"
     ]
    },
    {
     "name": "stderr",
     "output_type": "stream",
     "text": [
      "Chunking all_pdfs_varsity_cleaned_part8.json: 100%|██████████| 200/200 [00:00<00:00, 17320.03page/s]\n"
     ]
    },
    {
     "name": "stdout",
     "output_type": "stream",
     "text": [
      "Saved chunks to ..\\data\\experiments\\chunks_450_overlap75\\all_pdfs_varsity_cleaned_part8_chunks.jsonl\n",
      "\n",
      "Processing all_pdfs_varsity_cleaned_part9.json ...\n"
     ]
    },
    {
     "name": "stderr",
     "output_type": "stream",
     "text": [
      "Chunking all_pdfs_varsity_cleaned_part9.json: 100%|██████████| 200/200 [00:00<00:00, 20459.52page/s]\n"
     ]
    },
    {
     "name": "stdout",
     "output_type": "stream",
     "text": [
      "Saved chunks to ..\\data\\experiments\\chunks_450_overlap75\\all_pdfs_varsity_cleaned_part9_chunks.jsonl\n",
      "\n",
      "Running experiment: chunk_size=500, overlap=50\n",
      "\n",
      "Processing all_pdfs_sebi_education_cleaned_part1.json ...\n"
     ]
    },
    {
     "name": "stderr",
     "output_type": "stream",
     "text": [
      "Chunking all_pdfs_sebi_education_cleaned_part1.json: 100%|██████████| 200/200 [00:00<00:00, 32409.72page/s]\n"
     ]
    },
    {
     "name": "stdout",
     "output_type": "stream",
     "text": [
      "Saved chunks to ..\\data\\experiments\\chunks_500_overlap50\\all_pdfs_sebi_education_cleaned_part1_chunks.jsonl\n",
      "\n",
      "Processing all_pdfs_sebi_education_cleaned_part2.json ...\n"
     ]
    },
    {
     "name": "stderr",
     "output_type": "stream",
     "text": [
      "Chunking all_pdfs_sebi_education_cleaned_part2.json: 100%|██████████| 200/200 [00:00<00:00, 55834.72page/s]\n"
     ]
    },
    {
     "name": "stdout",
     "output_type": "stream",
     "text": [
      "Saved chunks to ..\\data\\experiments\\chunks_500_overlap50\\all_pdfs_sebi_education_cleaned_part2_chunks.jsonl\n",
      "\n",
      "Processing all_pdfs_sebi_education_cleaned_part3.json ...\n"
     ]
    },
    {
     "name": "stderr",
     "output_type": "stream",
     "text": [
      "Chunking all_pdfs_sebi_education_cleaned_part3.json: 100%|██████████| 200/200 [00:00<00:00, 64049.84page/s]\n"
     ]
    },
    {
     "name": "stdout",
     "output_type": "stream",
     "text": [
      "Saved chunks to ..\\data\\experiments\\chunks_500_overlap50\\all_pdfs_sebi_education_cleaned_part3_chunks.jsonl\n",
      "\n",
      "Processing all_pdfs_sebi_education_cleaned_part4.json ...\n"
     ]
    },
    {
     "name": "stderr",
     "output_type": "stream",
     "text": [
      "Chunking all_pdfs_sebi_education_cleaned_part4.json: 100%|██████████| 143/143 [00:00<00:00, 22257.14page/s]\n"
     ]
    },
    {
     "name": "stdout",
     "output_type": "stream",
     "text": [
      "Saved chunks to ..\\data\\experiments\\chunks_500_overlap50\\all_pdfs_sebi_education_cleaned_part4_chunks.jsonl\n",
      "\n",
      "Processing all_pdfs_varsity_cleaned_part1.json ...\n"
     ]
    },
    {
     "name": "stderr",
     "output_type": "stream",
     "text": [
      "Chunking all_pdfs_varsity_cleaned_part1.json: 100%|██████████| 200/200 [00:00<00:00, 21691.68page/s]\n"
     ]
    },
    {
     "name": "stdout",
     "output_type": "stream",
     "text": [
      "Saved chunks to ..\\data\\experiments\\chunks_500_overlap50\\all_pdfs_varsity_cleaned_part1_chunks.jsonl\n",
      "\n",
      "Processing all_pdfs_varsity_cleaned_part10.json ...\n"
     ]
    },
    {
     "name": "stderr",
     "output_type": "stream",
     "text": [
      "Chunking all_pdfs_varsity_cleaned_part10.json: 100%|██████████| 200/200 [00:00<00:00, 33957.85page/s]\n"
     ]
    },
    {
     "name": "stdout",
     "output_type": "stream",
     "text": [
      "Saved chunks to ..\\data\\experiments\\chunks_500_overlap50\\all_pdfs_varsity_cleaned_part10_chunks.jsonl\n",
      "\n",
      "Processing all_pdfs_varsity_cleaned_part11.json ...\n"
     ]
    },
    {
     "name": "stderr",
     "output_type": "stream",
     "text": [
      "Chunking all_pdfs_varsity_cleaned_part11.json: 100%|██████████| 186/186 [00:00<00:00, 24620.99page/s]\n"
     ]
    },
    {
     "name": "stdout",
     "output_type": "stream",
     "text": [
      "Saved chunks to ..\\data\\experiments\\chunks_500_overlap50\\all_pdfs_varsity_cleaned_part11_chunks.jsonl\n",
      "\n",
      "Processing all_pdfs_varsity_cleaned_part2.json ...\n"
     ]
    },
    {
     "name": "stderr",
     "output_type": "stream",
     "text": [
      "Chunking all_pdfs_varsity_cleaned_part2.json: 100%|██████████| 200/200 [00:00<00:00, 21008.81page/s]\n"
     ]
    },
    {
     "name": "stdout",
     "output_type": "stream",
     "text": [
      "Saved chunks to ..\\data\\experiments\\chunks_500_overlap50\\all_pdfs_varsity_cleaned_part2_chunks.jsonl\n",
      "\n",
      "Processing all_pdfs_varsity_cleaned_part3.json ...\n"
     ]
    },
    {
     "name": "stderr",
     "output_type": "stream",
     "text": [
      "Chunking all_pdfs_varsity_cleaned_part3.json: 100%|██████████| 200/200 [00:00<00:00, 18406.57page/s]\n"
     ]
    },
    {
     "name": "stdout",
     "output_type": "stream",
     "text": [
      "Saved chunks to ..\\data\\experiments\\chunks_500_overlap50\\all_pdfs_varsity_cleaned_part3_chunks.jsonl\n",
      "\n",
      "Processing all_pdfs_varsity_cleaned_part4.json ...\n"
     ]
    },
    {
     "name": "stderr",
     "output_type": "stream",
     "text": [
      "Chunking all_pdfs_varsity_cleaned_part4.json: 100%|██████████| 200/200 [00:00<00:00, 21234.29page/s]\n"
     ]
    },
    {
     "name": "stdout",
     "output_type": "stream",
     "text": [
      "Saved chunks to ..\\data\\experiments\\chunks_500_overlap50\\all_pdfs_varsity_cleaned_part4_chunks.jsonl\n",
      "\n",
      "Processing all_pdfs_varsity_cleaned_part5.json ...\n"
     ]
    },
    {
     "name": "stderr",
     "output_type": "stream",
     "text": [
      "Chunking all_pdfs_varsity_cleaned_part5.json: 100%|██████████| 200/200 [00:00<00:00, 23813.68page/s]\n"
     ]
    },
    {
     "name": "stdout",
     "output_type": "stream",
     "text": [
      "Saved chunks to ..\\data\\experiments\\chunks_500_overlap50\\all_pdfs_varsity_cleaned_part5_chunks.jsonl\n",
      "\n",
      "Processing all_pdfs_varsity_cleaned_part6.json ...\n"
     ]
    },
    {
     "name": "stderr",
     "output_type": "stream",
     "text": [
      "Chunking all_pdfs_varsity_cleaned_part6.json: 100%|██████████| 200/200 [00:00<00:00, 25439.30page/s]\n"
     ]
    },
    {
     "name": "stdout",
     "output_type": "stream",
     "text": [
      "Saved chunks to ..\\data\\experiments\\chunks_500_overlap50\\all_pdfs_varsity_cleaned_part6_chunks.jsonl\n",
      "\n",
      "Processing all_pdfs_varsity_cleaned_part7.json ...\n"
     ]
    },
    {
     "name": "stderr",
     "output_type": "stream",
     "text": [
      "Chunking all_pdfs_varsity_cleaned_part7.json: 100%|██████████| 200/200 [00:00<00:00, 20410.74page/s]\n"
     ]
    },
    {
     "name": "stdout",
     "output_type": "stream",
     "text": [
      "Saved chunks to ..\\data\\experiments\\chunks_500_overlap50\\all_pdfs_varsity_cleaned_part7_chunks.jsonl\n",
      "\n",
      "Processing all_pdfs_varsity_cleaned_part8.json ...\n"
     ]
    },
    {
     "name": "stderr",
     "output_type": "stream",
     "text": [
      "Chunking all_pdfs_varsity_cleaned_part8.json: 100%|██████████| 200/200 [00:00<00:00, 18249.20page/s]\n"
     ]
    },
    {
     "name": "stdout",
     "output_type": "stream",
     "text": [
      "Saved chunks to ..\\data\\experiments\\chunks_500_overlap50\\all_pdfs_varsity_cleaned_part8_chunks.jsonl\n",
      "\n",
      "Processing all_pdfs_varsity_cleaned_part9.json ...\n"
     ]
    },
    {
     "name": "stderr",
     "output_type": "stream",
     "text": [
      "Chunking all_pdfs_varsity_cleaned_part9.json: 100%|██████████| 200/200 [00:00<00:00, 21530.23page/s]\n"
     ]
    },
    {
     "name": "stdout",
     "output_type": "stream",
     "text": [
      "Saved chunks to ..\\data\\experiments\\chunks_500_overlap50\\all_pdfs_varsity_cleaned_part9_chunks.jsonl\n",
      "\n",
      "Running experiment: chunk_size=500, overlap=100\n",
      "\n",
      "Processing all_pdfs_sebi_education_cleaned_part1.json ...\n"
     ]
    },
    {
     "name": "stderr",
     "output_type": "stream",
     "text": [
      "Chunking all_pdfs_sebi_education_cleaned_part1.json: 100%|██████████| 200/200 [00:00<00:00, 33535.65page/s]\n"
     ]
    },
    {
     "name": "stdout",
     "output_type": "stream",
     "text": [
      "Saved chunks to ..\\data\\experiments\\chunks_500_overlap100\\all_pdfs_sebi_education_cleaned_part1_chunks.jsonl\n",
      "\n",
      "Processing all_pdfs_sebi_education_cleaned_part2.json ...\n"
     ]
    },
    {
     "name": "stderr",
     "output_type": "stream",
     "text": [
      "Chunking all_pdfs_sebi_education_cleaned_part2.json: 100%|██████████| 200/200 [00:00<00:00, 37650.84page/s]\n"
     ]
    },
    {
     "name": "stdout",
     "output_type": "stream",
     "text": [
      "Saved chunks to ..\\data\\experiments\\chunks_500_overlap100\\all_pdfs_sebi_education_cleaned_part2_chunks.jsonl\n",
      "\n",
      "Processing all_pdfs_sebi_education_cleaned_part3.json ...\n"
     ]
    },
    {
     "name": "stderr",
     "output_type": "stream",
     "text": [
      "Chunking all_pdfs_sebi_education_cleaned_part3.json: 100%|██████████| 200/200 [00:00<00:00, 33117.28page/s]\n"
     ]
    },
    {
     "name": "stdout",
     "output_type": "stream",
     "text": [
      "Saved chunks to ..\\data\\experiments\\chunks_500_overlap100\\all_pdfs_sebi_education_cleaned_part3_chunks.jsonl\n",
      "\n",
      "Processing all_pdfs_sebi_education_cleaned_part4.json ...\n"
     ]
    },
    {
     "name": "stderr",
     "output_type": "stream",
     "text": [
      "Chunking all_pdfs_sebi_education_cleaned_part4.json: 100%|██████████| 143/143 [00:00<00:00, 25723.10page/s]\n"
     ]
    },
    {
     "name": "stdout",
     "output_type": "stream",
     "text": [
      "Saved chunks to ..\\data\\experiments\\chunks_500_overlap100\\all_pdfs_sebi_education_cleaned_part4_chunks.jsonl\n",
      "\n",
      "Processing all_pdfs_varsity_cleaned_part1.json ...\n"
     ]
    },
    {
     "name": "stderr",
     "output_type": "stream",
     "text": [
      "Chunking all_pdfs_varsity_cleaned_part1.json: 100%|██████████| 200/200 [00:00<00:00, 20318.78page/s]\n"
     ]
    },
    {
     "name": "stdout",
     "output_type": "stream",
     "text": [
      "Saved chunks to ..\\data\\experiments\\chunks_500_overlap100\\all_pdfs_varsity_cleaned_part1_chunks.jsonl\n",
      "\n",
      "Processing all_pdfs_varsity_cleaned_part10.json ...\n"
     ]
    },
    {
     "name": "stderr",
     "output_type": "stream",
     "text": [
      "Chunking all_pdfs_varsity_cleaned_part10.json: 100%|██████████| 200/200 [00:00<00:00, 36894.08page/s]\n"
     ]
    },
    {
     "name": "stdout",
     "output_type": "stream",
     "text": [
      "Saved chunks to ..\\data\\experiments\\chunks_500_overlap100\\all_pdfs_varsity_cleaned_part10_chunks.jsonl\n",
      "\n",
      "Processing all_pdfs_varsity_cleaned_part11.json ...\n"
     ]
    },
    {
     "name": "stderr",
     "output_type": "stream",
     "text": [
      "Chunking all_pdfs_varsity_cleaned_part11.json: 100%|██████████| 186/186 [00:00<00:00, 31179.43page/s]\n"
     ]
    },
    {
     "name": "stdout",
     "output_type": "stream",
     "text": [
      "Saved chunks to ..\\data\\experiments\\chunks_500_overlap100\\all_pdfs_varsity_cleaned_part11_chunks.jsonl\n",
      "\n",
      "Processing all_pdfs_varsity_cleaned_part2.json ...\n"
     ]
    },
    {
     "name": "stderr",
     "output_type": "stream",
     "text": [
      "Chunking all_pdfs_varsity_cleaned_part2.json: 100%|██████████| 200/200 [00:00<00:00, 28454.29page/s]\n"
     ]
    },
    {
     "name": "stdout",
     "output_type": "stream",
     "text": [
      "Saved chunks to ..\\data\\experiments\\chunks_500_overlap100\\all_pdfs_varsity_cleaned_part2_chunks.jsonl\n",
      "\n",
      "Processing all_pdfs_varsity_cleaned_part3.json ...\n"
     ]
    },
    {
     "name": "stderr",
     "output_type": "stream",
     "text": [
      "Chunking all_pdfs_varsity_cleaned_part3.json: 100%|██████████| 200/200 [00:00<00:00, 15217.98page/s]\n"
     ]
    },
    {
     "name": "stdout",
     "output_type": "stream",
     "text": [
      "Saved chunks to ..\\data\\experiments\\chunks_500_overlap100\\all_pdfs_varsity_cleaned_part3_chunks.jsonl\n",
      "\n",
      "Processing all_pdfs_varsity_cleaned_part4.json ...\n"
     ]
    },
    {
     "name": "stderr",
     "output_type": "stream",
     "text": [
      "Chunking all_pdfs_varsity_cleaned_part4.json: 100%|██████████| 200/200 [00:00<00:00, 27282.69page/s]\n"
     ]
    },
    {
     "name": "stdout",
     "output_type": "stream",
     "text": [
      "Saved chunks to ..\\data\\experiments\\chunks_500_overlap100\\all_pdfs_varsity_cleaned_part4_chunks.jsonl\n",
      "\n",
      "Processing all_pdfs_varsity_cleaned_part5.json ...\n"
     ]
    },
    {
     "name": "stderr",
     "output_type": "stream",
     "text": [
      "Chunking all_pdfs_varsity_cleaned_part5.json: 100%|██████████| 200/200 [00:00<00:00, 29273.48page/s]\n"
     ]
    },
    {
     "name": "stdout",
     "output_type": "stream",
     "text": [
      "Saved chunks to ..\\data\\experiments\\chunks_500_overlap100\\all_pdfs_varsity_cleaned_part5_chunks.jsonl\n",
      "\n",
      "Processing all_pdfs_varsity_cleaned_part6.json ...\n"
     ]
    },
    {
     "name": "stderr",
     "output_type": "stream",
     "text": [
      "Chunking all_pdfs_varsity_cleaned_part6.json: 100%|██████████| 200/200 [00:00<00:00, 26540.35page/s]\n"
     ]
    },
    {
     "name": "stdout",
     "output_type": "stream",
     "text": [
      "Saved chunks to ..\\data\\experiments\\chunks_500_overlap100\\all_pdfs_varsity_cleaned_part6_chunks.jsonl\n",
      "\n",
      "Processing all_pdfs_varsity_cleaned_part7.json ...\n"
     ]
    },
    {
     "name": "stderr",
     "output_type": "stream",
     "text": [
      "Chunking all_pdfs_varsity_cleaned_part7.json: 100%|██████████| 200/200 [00:00<00:00, 27339.60page/s]\n"
     ]
    },
    {
     "name": "stdout",
     "output_type": "stream",
     "text": [
      "Saved chunks to ..\\data\\experiments\\chunks_500_overlap100\\all_pdfs_varsity_cleaned_part7_chunks.jsonl\n",
      "\n",
      "Processing all_pdfs_varsity_cleaned_part8.json ...\n"
     ]
    },
    {
     "name": "stderr",
     "output_type": "stream",
     "text": [
      "Chunking all_pdfs_varsity_cleaned_part8.json: 100%|██████████| 200/200 [00:00<00:00, 24654.25page/s]\n"
     ]
    },
    {
     "name": "stdout",
     "output_type": "stream",
     "text": [
      "Saved chunks to ..\\data\\experiments\\chunks_500_overlap100\\all_pdfs_varsity_cleaned_part8_chunks.jsonl\n",
      "\n",
      "Processing all_pdfs_varsity_cleaned_part9.json ...\n"
     ]
    },
    {
     "name": "stderr",
     "output_type": "stream",
     "text": [
      "Chunking all_pdfs_varsity_cleaned_part9.json: 100%|██████████| 200/200 [00:00<00:00, 24369.20page/s]\n"
     ]
    },
    {
     "name": "stdout",
     "output_type": "stream",
     "text": [
      "Saved chunks to ..\\data\\experiments\\chunks_500_overlap100\\all_pdfs_varsity_cleaned_part9_chunks.jsonl\n",
      "\n",
      "Running experiment: chunk_size=550, overlap=100\n",
      "\n",
      "Processing all_pdfs_sebi_education_cleaned_part1.json ...\n"
     ]
    },
    {
     "name": "stderr",
     "output_type": "stream",
     "text": [
      "Chunking all_pdfs_sebi_education_cleaned_part1.json: 100%|██████████| 200/200 [00:00<00:00, 35974.82page/s]\n"
     ]
    },
    {
     "name": "stdout",
     "output_type": "stream",
     "text": [
      "Saved chunks to ..\\data\\experiments\\chunks_550_overlap100\\all_pdfs_sebi_education_cleaned_part1_chunks.jsonl\n",
      "\n",
      "Processing all_pdfs_sebi_education_cleaned_part2.json ...\n"
     ]
    },
    {
     "name": "stderr",
     "output_type": "stream",
     "text": [
      "Chunking all_pdfs_sebi_education_cleaned_part2.json: 100%|██████████| 200/200 [00:00<00:00, 59493.67page/s]\n"
     ]
    },
    {
     "name": "stdout",
     "output_type": "stream",
     "text": [
      "Saved chunks to ..\\data\\experiments\\chunks_550_overlap100\\all_pdfs_sebi_education_cleaned_part2_chunks.jsonl\n",
      "\n",
      "Processing all_pdfs_sebi_education_cleaned_part3.json ...\n"
     ]
    },
    {
     "name": "stderr",
     "output_type": "stream",
     "text": [
      "Chunking all_pdfs_sebi_education_cleaned_part3.json: 100%|██████████| 200/200 [00:00<00:00, 20666.18page/s]\n"
     ]
    },
    {
     "name": "stdout",
     "output_type": "stream",
     "text": [
      "Saved chunks to ..\\data\\experiments\\chunks_550_overlap100\\all_pdfs_sebi_education_cleaned_part3_chunks.jsonl\n",
      "\n",
      "Processing all_pdfs_sebi_education_cleaned_part4.json ...\n"
     ]
    },
    {
     "name": "stderr",
     "output_type": "stream",
     "text": [
      "Chunking all_pdfs_sebi_education_cleaned_part4.json: 100%|██████████| 143/143 [00:00<00:00, 37810.34page/s]\n"
     ]
    },
    {
     "name": "stdout",
     "output_type": "stream",
     "text": [
      "Saved chunks to ..\\data\\experiments\\chunks_550_overlap100\\all_pdfs_sebi_education_cleaned_part4_chunks.jsonl\n",
      "\n",
      "Processing all_pdfs_varsity_cleaned_part1.json ...\n"
     ]
    },
    {
     "name": "stderr",
     "output_type": "stream",
     "text": [
      "Chunking all_pdfs_varsity_cleaned_part1.json: 100%|██████████| 200/200 [00:00<00:00, 19536.10page/s]\n"
     ]
    },
    {
     "name": "stdout",
     "output_type": "stream",
     "text": [
      "Saved chunks to ..\\data\\experiments\\chunks_550_overlap100\\all_pdfs_varsity_cleaned_part1_chunks.jsonl\n",
      "\n",
      "Processing all_pdfs_varsity_cleaned_part10.json ...\n"
     ]
    },
    {
     "name": "stderr",
     "output_type": "stream",
     "text": [
      "Chunking all_pdfs_varsity_cleaned_part10.json: 100%|██████████| 200/200 [00:00<00:00, 23266.14page/s]\n"
     ]
    },
    {
     "name": "stdout",
     "output_type": "stream",
     "text": [
      "Saved chunks to ..\\data\\experiments\\chunks_550_overlap100\\all_pdfs_varsity_cleaned_part10_chunks.jsonl\n",
      "\n",
      "Processing all_pdfs_varsity_cleaned_part11.json ...\n"
     ]
    },
    {
     "name": "stderr",
     "output_type": "stream",
     "text": [
      "Chunking all_pdfs_varsity_cleaned_part11.json: 100%|██████████| 186/186 [00:00<00:00, 20005.66page/s]\n"
     ]
    },
    {
     "name": "stdout",
     "output_type": "stream",
     "text": [
      "Saved chunks to ..\\data\\experiments\\chunks_550_overlap100\\all_pdfs_varsity_cleaned_part11_chunks.jsonl\n",
      "\n",
      "Processing all_pdfs_varsity_cleaned_part2.json ...\n"
     ]
    },
    {
     "name": "stderr",
     "output_type": "stream",
     "text": [
      "Chunking all_pdfs_varsity_cleaned_part2.json: 100%|██████████| 200/200 [00:00<00:00, 22586.45page/s]\n"
     ]
    },
    {
     "name": "stdout",
     "output_type": "stream",
     "text": [
      "Saved chunks to ..\\data\\experiments\\chunks_550_overlap100\\all_pdfs_varsity_cleaned_part2_chunks.jsonl\n",
      "\n",
      "Processing all_pdfs_varsity_cleaned_part3.json ...\n"
     ]
    },
    {
     "name": "stderr",
     "output_type": "stream",
     "text": [
      "Chunking all_pdfs_varsity_cleaned_part3.json: 100%|██████████| 200/200 [00:00<00:00, 21745.10page/s]\n"
     ]
    },
    {
     "name": "stdout",
     "output_type": "stream",
     "text": [
      "Saved chunks to ..\\data\\experiments\\chunks_550_overlap100\\all_pdfs_varsity_cleaned_part3_chunks.jsonl\n",
      "\n",
      "Processing all_pdfs_varsity_cleaned_part4.json ...\n"
     ]
    },
    {
     "name": "stderr",
     "output_type": "stream",
     "text": [
      "Chunking all_pdfs_varsity_cleaned_part4.json: 100%|██████████| 200/200 [00:00<00:00, 20351.81page/s]\n"
     ]
    },
    {
     "name": "stdout",
     "output_type": "stream",
     "text": [
      "Saved chunks to ..\\data\\experiments\\chunks_550_overlap100\\all_pdfs_varsity_cleaned_part4_chunks.jsonl\n",
      "\n",
      "Processing all_pdfs_varsity_cleaned_part5.json ...\n"
     ]
    },
    {
     "name": "stderr",
     "output_type": "stream",
     "text": [
      "Chunking all_pdfs_varsity_cleaned_part5.json: 100%|██████████| 200/200 [00:00<00:00, 26437.47page/s]\n"
     ]
    },
    {
     "name": "stdout",
     "output_type": "stream",
     "text": [
      "Saved chunks to ..\\data\\experiments\\chunks_550_overlap100\\all_pdfs_varsity_cleaned_part5_chunks.jsonl\n",
      "\n",
      "Processing all_pdfs_varsity_cleaned_part6.json ...\n"
     ]
    },
    {
     "name": "stderr",
     "output_type": "stream",
     "text": [
      "Chunking all_pdfs_varsity_cleaned_part6.json: 100%|██████████| 200/200 [00:00<00:00, 27199.53page/s]\n"
     ]
    },
    {
     "name": "stdout",
     "output_type": "stream",
     "text": [
      "Saved chunks to ..\\data\\experiments\\chunks_550_overlap100\\all_pdfs_varsity_cleaned_part6_chunks.jsonl\n",
      "\n",
      "Processing all_pdfs_varsity_cleaned_part7.json ...\n"
     ]
    },
    {
     "name": "stderr",
     "output_type": "stream",
     "text": [
      "Chunking all_pdfs_varsity_cleaned_part7.json: 100%|██████████| 200/200 [00:00<00:00, 26213.58page/s]\n"
     ]
    },
    {
     "name": "stdout",
     "output_type": "stream",
     "text": [
      "Saved chunks to ..\\data\\experiments\\chunks_550_overlap100\\all_pdfs_varsity_cleaned_part7_chunks.jsonl\n",
      "\n",
      "Processing all_pdfs_varsity_cleaned_part8.json ...\n"
     ]
    },
    {
     "name": "stderr",
     "output_type": "stream",
     "text": [
      "Chunking all_pdfs_varsity_cleaned_part8.json: 100%|██████████| 200/200 [00:00<00:00, 25584.38page/s]\n"
     ]
    },
    {
     "name": "stdout",
     "output_type": "stream",
     "text": [
      "Saved chunks to ..\\data\\experiments\\chunks_550_overlap100\\all_pdfs_varsity_cleaned_part8_chunks.jsonl\n",
      "\n",
      "Processing all_pdfs_varsity_cleaned_part9.json ...\n"
     ]
    },
    {
     "name": "stderr",
     "output_type": "stream",
     "text": [
      "Chunking all_pdfs_varsity_cleaned_part9.json: 100%|██████████| 200/200 [00:00<00:00, 22201.48page/s]\n"
     ]
    },
    {
     "name": "stdout",
     "output_type": "stream",
     "text": [
      "Saved chunks to ..\\data\\experiments\\chunks_550_overlap100\\all_pdfs_varsity_cleaned_part9_chunks.jsonl\n",
      "\n",
      "Running experiment: chunk_size=600, overlap=100\n",
      "\n",
      "Processing all_pdfs_sebi_education_cleaned_part1.json ...\n"
     ]
    },
    {
     "name": "stderr",
     "output_type": "stream",
     "text": [
      "Chunking all_pdfs_sebi_education_cleaned_part1.json: 100%|██████████| 200/200 [00:00<00:00, 22386.93page/s]\n"
     ]
    },
    {
     "name": "stdout",
     "output_type": "stream",
     "text": [
      "Saved chunks to ..\\data\\experiments\\chunks_600_overlap100\\all_pdfs_sebi_education_cleaned_part1_chunks.jsonl\n",
      "\n",
      "Processing all_pdfs_sebi_education_cleaned_part2.json ...\n"
     ]
    },
    {
     "name": "stderr",
     "output_type": "stream",
     "text": [
      "Chunking all_pdfs_sebi_education_cleaned_part2.json: 100%|██████████| 200/200 [00:00<00:00, 20971.52page/s]\n"
     ]
    },
    {
     "name": "stdout",
     "output_type": "stream",
     "text": [
      "Saved chunks to ..\\data\\experiments\\chunks_600_overlap100\\all_pdfs_sebi_education_cleaned_part2_chunks.jsonl\n",
      "\n",
      "Processing all_pdfs_sebi_education_cleaned_part3.json ...\n"
     ]
    },
    {
     "name": "stderr",
     "output_type": "stream",
     "text": [
      "Chunking all_pdfs_sebi_education_cleaned_part3.json: 100%|██████████| 200/200 [00:00<00:00, 36126.65page/s]\n"
     ]
    },
    {
     "name": "stdout",
     "output_type": "stream",
     "text": [
      "Saved chunks to ..\\data\\experiments\\chunks_600_overlap100\\all_pdfs_sebi_education_cleaned_part3_chunks.jsonl\n",
      "\n",
      "Processing all_pdfs_sebi_education_cleaned_part4.json ...\n"
     ]
    },
    {
     "name": "stderr",
     "output_type": "stream",
     "text": [
      "Chunking all_pdfs_sebi_education_cleaned_part4.json: 100%|██████████| 143/143 [00:00<00:00, 17592.11page/s]\n"
     ]
    },
    {
     "name": "stdout",
     "output_type": "stream",
     "text": [
      "Saved chunks to ..\\data\\experiments\\chunks_600_overlap100\\all_pdfs_sebi_education_cleaned_part4_chunks.jsonl\n",
      "\n",
      "Processing all_pdfs_varsity_cleaned_part1.json ...\n"
     ]
    },
    {
     "name": "stderr",
     "output_type": "stream",
     "text": [
      "Chunking all_pdfs_varsity_cleaned_part1.json: 100%|██████████| 200/200 [00:00<00:00, 11559.49page/s]\n"
     ]
    },
    {
     "name": "stdout",
     "output_type": "stream",
     "text": [
      "Saved chunks to ..\\data\\experiments\\chunks_600_overlap100\\all_pdfs_varsity_cleaned_part1_chunks.jsonl\n",
      "\n",
      "Processing all_pdfs_varsity_cleaned_part10.json ...\n"
     ]
    },
    {
     "name": "stderr",
     "output_type": "stream",
     "text": [
      "Chunking all_pdfs_varsity_cleaned_part10.json: 100%|██████████| 200/200 [00:00<00:00, 15831.15page/s]\n"
     ]
    },
    {
     "name": "stdout",
     "output_type": "stream",
     "text": [
      "Saved chunks to ..\\data\\experiments\\chunks_600_overlap100\\all_pdfs_varsity_cleaned_part10_chunks.jsonl\n",
      "\n",
      "Processing all_pdfs_varsity_cleaned_part11.json ...\n"
     ]
    },
    {
     "name": "stderr",
     "output_type": "stream",
     "text": [
      "Chunking all_pdfs_varsity_cleaned_part11.json: 100%|██████████| 186/186 [00:00<00:00, 14004.35page/s]\n"
     ]
    },
    {
     "name": "stdout",
     "output_type": "stream",
     "text": [
      "Saved chunks to ..\\data\\experiments\\chunks_600_overlap100\\all_pdfs_varsity_cleaned_part11_chunks.jsonl\n",
      "\n",
      "Processing all_pdfs_varsity_cleaned_part2.json ...\n"
     ]
    },
    {
     "name": "stderr",
     "output_type": "stream",
     "text": [
      "Chunking all_pdfs_varsity_cleaned_part2.json: 100%|██████████| 200/200 [00:00<00:00, 11154.92page/s]\n"
     ]
    },
    {
     "name": "stdout",
     "output_type": "stream",
     "text": [
      "Saved chunks to ..\\data\\experiments\\chunks_600_overlap100\\all_pdfs_varsity_cleaned_part2_chunks.jsonl\n",
      "\n",
      "Processing all_pdfs_varsity_cleaned_part3.json ...\n"
     ]
    },
    {
     "name": "stderr",
     "output_type": "stream",
     "text": [
      "Chunking all_pdfs_varsity_cleaned_part3.json: 100%|██████████| 200/200 [00:00<00:00, 11034.01page/s]\n"
     ]
    },
    {
     "name": "stdout",
     "output_type": "stream",
     "text": [
      "Saved chunks to ..\\data\\experiments\\chunks_600_overlap100\\all_pdfs_varsity_cleaned_part3_chunks.jsonl\n",
      "\n",
      "Processing all_pdfs_varsity_cleaned_part4.json ...\n"
     ]
    },
    {
     "name": "stderr",
     "output_type": "stream",
     "text": [
      "Chunking all_pdfs_varsity_cleaned_part4.json: 100%|██████████| 200/200 [00:00<00:00, 12801.95page/s]\n"
     ]
    },
    {
     "name": "stdout",
     "output_type": "stream",
     "text": [
      "Saved chunks to ..\\data\\experiments\\chunks_600_overlap100\\all_pdfs_varsity_cleaned_part4_chunks.jsonl\n",
      "\n",
      "Processing all_pdfs_varsity_cleaned_part5.json ...\n"
     ]
    },
    {
     "name": "stderr",
     "output_type": "stream",
     "text": [
      "Chunking all_pdfs_varsity_cleaned_part5.json: 100%|██████████| 200/200 [00:00<00:00, 12667.98page/s]\n"
     ]
    },
    {
     "name": "stdout",
     "output_type": "stream",
     "text": [
      "Saved chunks to ..\\data\\experiments\\chunks_600_overlap100\\all_pdfs_varsity_cleaned_part5_chunks.jsonl\n",
      "\n",
      "Processing all_pdfs_varsity_cleaned_part6.json ...\n"
     ]
    },
    {
     "name": "stderr",
     "output_type": "stream",
     "text": [
      "Chunking all_pdfs_varsity_cleaned_part6.json: 100%|██████████| 200/200 [00:00<00:00, 11030.68page/s]\n"
     ]
    },
    {
     "name": "stdout",
     "output_type": "stream",
     "text": [
      "Saved chunks to ..\\data\\experiments\\chunks_600_overlap100\\all_pdfs_varsity_cleaned_part6_chunks.jsonl\n",
      "\n",
      "Processing all_pdfs_varsity_cleaned_part7.json ...\n"
     ]
    },
    {
     "name": "stderr",
     "output_type": "stream",
     "text": [
      "Chunking all_pdfs_varsity_cleaned_part7.json: 100%|██████████| 200/200 [00:00<00:00, 12749.81page/s]\n"
     ]
    },
    {
     "name": "stdout",
     "output_type": "stream",
     "text": [
      "Saved chunks to ..\\data\\experiments\\chunks_600_overlap100\\all_pdfs_varsity_cleaned_part7_chunks.jsonl\n",
      "\n",
      "Processing all_pdfs_varsity_cleaned_part8.json ...\n"
     ]
    },
    {
     "name": "stderr",
     "output_type": "stream",
     "text": [
      "Chunking all_pdfs_varsity_cleaned_part8.json: 100%|██████████| 200/200 [00:00<00:00, 13735.60page/s]\n"
     ]
    },
    {
     "name": "stdout",
     "output_type": "stream",
     "text": [
      "Saved chunks to ..\\data\\experiments\\chunks_600_overlap100\\all_pdfs_varsity_cleaned_part8_chunks.jsonl\n",
      "\n",
      "Processing all_pdfs_varsity_cleaned_part9.json ...\n"
     ]
    },
    {
     "name": "stderr",
     "output_type": "stream",
     "text": [
      "Chunking all_pdfs_varsity_cleaned_part9.json: 100%|██████████| 200/200 [00:00<00:00, 14956.69page/s]\n"
     ]
    },
    {
     "name": "stdout",
     "output_type": "stream",
     "text": [
      "Saved chunks to ..\\data\\experiments\\chunks_600_overlap100\\all_pdfs_varsity_cleaned_part9_chunks.jsonl\n",
      "\n",
      "Running experiment: chunk_size=650, overlap=100\n",
      "\n",
      "Processing all_pdfs_sebi_education_cleaned_part1.json ...\n"
     ]
    },
    {
     "name": "stderr",
     "output_type": "stream",
     "text": [
      "Chunking all_pdfs_sebi_education_cleaned_part1.json: 100%|██████████| 200/200 [00:00<00:00, 37718.56page/s]\n"
     ]
    },
    {
     "name": "stdout",
     "output_type": "stream",
     "text": [
      "Saved chunks to ..\\data\\experiments\\chunks_650_overlap100\\all_pdfs_sebi_education_cleaned_part1_chunks.jsonl\n",
      "\n",
      "Processing all_pdfs_sebi_education_cleaned_part2.json ...\n"
     ]
    },
    {
     "name": "stderr",
     "output_type": "stream",
     "text": [
      "Chunking all_pdfs_sebi_education_cleaned_part2.json: 100%|██████████| 200/200 [00:00<00:00, 36418.37page/s]\n"
     ]
    },
    {
     "name": "stdout",
     "output_type": "stream",
     "text": [
      "Saved chunks to ..\\data\\experiments\\chunks_650_overlap100\\all_pdfs_sebi_education_cleaned_part2_chunks.jsonl\n",
      "\n",
      "Processing all_pdfs_sebi_education_cleaned_part3.json ...\n"
     ]
    },
    {
     "name": "stderr",
     "output_type": "stream",
     "text": [
      "Chunking all_pdfs_sebi_education_cleaned_part3.json: 100%|██████████| 200/200 [00:00<00:00, 32023.70page/s]\n"
     ]
    },
    {
     "name": "stdout",
     "output_type": "stream",
     "text": [
      "Saved chunks to ..\\data\\experiments\\chunks_650_overlap100\\all_pdfs_sebi_education_cleaned_part3_chunks.jsonl\n",
      "\n",
      "Processing all_pdfs_sebi_education_cleaned_part4.json ...\n"
     ]
    },
    {
     "name": "stderr",
     "output_type": "stream",
     "text": [
      "Chunking all_pdfs_sebi_education_cleaned_part4.json: 100%|██████████| 143/143 [00:00<00:00, 21453.09page/s]\n"
     ]
    },
    {
     "name": "stdout",
     "output_type": "stream",
     "text": [
      "Saved chunks to ..\\data\\experiments\\chunks_650_overlap100\\all_pdfs_sebi_education_cleaned_part4_chunks.jsonl\n",
      "\n",
      "Processing all_pdfs_varsity_cleaned_part1.json ...\n"
     ]
    },
    {
     "name": "stderr",
     "output_type": "stream",
     "text": [
      "Chunking all_pdfs_varsity_cleaned_part1.json: 100%|██████████| 200/200 [00:00<00:00, 12193.45page/s]\n"
     ]
    },
    {
     "name": "stdout",
     "output_type": "stream",
     "text": [
      "Saved chunks to ..\\data\\experiments\\chunks_650_overlap100\\all_pdfs_varsity_cleaned_part1_chunks.jsonl\n",
      "\n",
      "Processing all_pdfs_varsity_cleaned_part10.json ...\n"
     ]
    },
    {
     "name": "stderr",
     "output_type": "stream",
     "text": [
      "Chunking all_pdfs_varsity_cleaned_part10.json: 100%|██████████| 200/200 [00:00<00:00, 16506.18page/s]\n"
     ]
    },
    {
     "name": "stdout",
     "output_type": "stream",
     "text": [
      "Saved chunks to ..\\data\\experiments\\chunks_650_overlap100\\all_pdfs_varsity_cleaned_part10_chunks.jsonl\n",
      "\n",
      "Processing all_pdfs_varsity_cleaned_part11.json ...\n"
     ]
    },
    {
     "name": "stderr",
     "output_type": "stream",
     "text": [
      "Chunking all_pdfs_varsity_cleaned_part11.json: 100%|██████████| 186/186 [00:00<00:00, 15545.60page/s]\n"
     ]
    },
    {
     "name": "stdout",
     "output_type": "stream",
     "text": [
      "Saved chunks to ..\\data\\experiments\\chunks_650_overlap100\\all_pdfs_varsity_cleaned_part11_chunks.jsonl\n",
      "\n",
      "Processing all_pdfs_varsity_cleaned_part2.json ...\n"
     ]
    },
    {
     "name": "stderr",
     "output_type": "stream",
     "text": [
      "Chunking all_pdfs_varsity_cleaned_part2.json: 100%|██████████| 200/200 [00:00<00:00, 12333.10page/s]\n"
     ]
    },
    {
     "name": "stdout",
     "output_type": "stream",
     "text": [
      "Saved chunks to ..\\data\\experiments\\chunks_650_overlap100\\all_pdfs_varsity_cleaned_part2_chunks.jsonl\n",
      "\n",
      "Processing all_pdfs_varsity_cleaned_part3.json ...\n"
     ]
    },
    {
     "name": "stderr",
     "output_type": "stream",
     "text": [
      "Chunking all_pdfs_varsity_cleaned_part3.json: 100%|██████████| 200/200 [00:00<00:00, 12254.19page/s]\n"
     ]
    },
    {
     "name": "stdout",
     "output_type": "stream",
     "text": [
      "Saved chunks to ..\\data\\experiments\\chunks_650_overlap100\\all_pdfs_varsity_cleaned_part3_chunks.jsonl\n",
      "\n",
      "Processing all_pdfs_varsity_cleaned_part4.json ...\n"
     ]
    },
    {
     "name": "stderr",
     "output_type": "stream",
     "text": [
      "Chunking all_pdfs_varsity_cleaned_part4.json: 100%|██████████| 200/200 [00:00<00:00, 13100.45page/s]\n"
     ]
    },
    {
     "name": "stdout",
     "output_type": "stream",
     "text": [
      "Saved chunks to ..\\data\\experiments\\chunks_650_overlap100\\all_pdfs_varsity_cleaned_part4_chunks.jsonl\n",
      "\n",
      "Processing all_pdfs_varsity_cleaned_part5.json ...\n"
     ]
    },
    {
     "name": "stderr",
     "output_type": "stream",
     "text": [
      "Chunking all_pdfs_varsity_cleaned_part5.json: 100%|██████████| 200/200 [00:00<00:00, 12773.49page/s]\n"
     ]
    },
    {
     "name": "stdout",
     "output_type": "stream",
     "text": [
      "Saved chunks to ..\\data\\experiments\\chunks_650_overlap100\\all_pdfs_varsity_cleaned_part5_chunks.jsonl\n",
      "\n",
      "Processing all_pdfs_varsity_cleaned_part6.json ...\n"
     ]
    },
    {
     "name": "stderr",
     "output_type": "stream",
     "text": [
      "Chunking all_pdfs_varsity_cleaned_part6.json: 100%|██████████| 200/200 [00:00<00:00, 14835.54page/s]\n"
     ]
    },
    {
     "name": "stdout",
     "output_type": "stream",
     "text": [
      "Saved chunks to ..\\data\\experiments\\chunks_650_overlap100\\all_pdfs_varsity_cleaned_part6_chunks.jsonl\n",
      "\n",
      "Processing all_pdfs_varsity_cleaned_part7.json ...\n"
     ]
    },
    {
     "name": "stderr",
     "output_type": "stream",
     "text": [
      "Chunking all_pdfs_varsity_cleaned_part7.json: 100%|██████████| 200/200 [00:00<00:00, 13628.27page/s]\n"
     ]
    },
    {
     "name": "stdout",
     "output_type": "stream",
     "text": [
      "Saved chunks to ..\\data\\experiments\\chunks_650_overlap100\\all_pdfs_varsity_cleaned_part7_chunks.jsonl\n",
      "\n",
      "Processing all_pdfs_varsity_cleaned_part8.json ...\n"
     ]
    },
    {
     "name": "stderr",
     "output_type": "stream",
     "text": [
      "Chunking all_pdfs_varsity_cleaned_part8.json: 100%|██████████| 200/200 [00:00<00:00, 14260.76page/s]\n"
     ]
    },
    {
     "name": "stdout",
     "output_type": "stream",
     "text": [
      "Saved chunks to ..\\data\\experiments\\chunks_650_overlap100\\all_pdfs_varsity_cleaned_part8_chunks.jsonl\n",
      "\n",
      "Processing all_pdfs_varsity_cleaned_part9.json ...\n"
     ]
    },
    {
     "name": "stderr",
     "output_type": "stream",
     "text": [
      "Chunking all_pdfs_varsity_cleaned_part9.json: 100%|██████████| 200/200 [00:00<00:00, 16911.15page/s]\n"
     ]
    },
    {
     "name": "stdout",
     "output_type": "stream",
     "text": [
      "Saved chunks to ..\\data\\experiments\\chunks_650_overlap100\\all_pdfs_varsity_cleaned_part9_chunks.jsonl\n",
      "\n",
      "Running experiment: chunk_size=700, overlap=100\n",
      "\n",
      "Processing all_pdfs_sebi_education_cleaned_part1.json ...\n"
     ]
    },
    {
     "name": "stderr",
     "output_type": "stream",
     "text": [
      "Chunking all_pdfs_sebi_education_cleaned_part1.json: 100%|██████████| 200/200 [00:00<00:00, 27986.28page/s]\n"
     ]
    },
    {
     "name": "stdout",
     "output_type": "stream",
     "text": [
      "Saved chunks to ..\\data\\experiments\\chunks_700_overlap100\\all_pdfs_sebi_education_cleaned_part1_chunks.jsonl\n",
      "\n",
      "Processing all_pdfs_sebi_education_cleaned_part2.json ...\n"
     ]
    },
    {
     "name": "stderr",
     "output_type": "stream",
     "text": [
      "Chunking all_pdfs_sebi_education_cleaned_part2.json: 100%|██████████| 200/200 [00:00<00:00, 28034.92page/s]\n"
     ]
    },
    {
     "name": "stdout",
     "output_type": "stream",
     "text": [
      "Saved chunks to ..\\data\\experiments\\chunks_700_overlap100\\all_pdfs_sebi_education_cleaned_part2_chunks.jsonl\n",
      "\n",
      "Processing all_pdfs_sebi_education_cleaned_part3.json ...\n"
     ]
    },
    {
     "name": "stderr",
     "output_type": "stream",
     "text": [
      "Chunking all_pdfs_sebi_education_cleaned_part3.json: 100%|██████████| 200/200 [00:00<00:00, 35549.47page/s]\n"
     ]
    },
    {
     "name": "stdout",
     "output_type": "stream",
     "text": [
      "Saved chunks to ..\\data\\experiments\\chunks_700_overlap100\\all_pdfs_sebi_education_cleaned_part3_chunks.jsonl\n",
      "\n",
      "Processing all_pdfs_sebi_education_cleaned_part4.json ...\n"
     ]
    },
    {
     "name": "stderr",
     "output_type": "stream",
     "text": [
      "Chunking all_pdfs_sebi_education_cleaned_part4.json: 100%|██████████| 143/143 [00:00<00:00, 19175.34page/s]\n"
     ]
    },
    {
     "name": "stdout",
     "output_type": "stream",
     "text": [
      "Saved chunks to ..\\data\\experiments\\chunks_700_overlap100\\all_pdfs_sebi_education_cleaned_part4_chunks.jsonl\n",
      "\n",
      "Processing all_pdfs_varsity_cleaned_part1.json ...\n"
     ]
    },
    {
     "name": "stderr",
     "output_type": "stream",
     "text": [
      "Chunking all_pdfs_varsity_cleaned_part1.json: 100%|██████████| 200/200 [00:00<00:00, 14357.66page/s]\n"
     ]
    },
    {
     "name": "stdout",
     "output_type": "stream",
     "text": [
      "Saved chunks to ..\\data\\experiments\\chunks_700_overlap100\\all_pdfs_varsity_cleaned_part1_chunks.jsonl\n",
      "\n",
      "Processing all_pdfs_varsity_cleaned_part10.json ...\n"
     ]
    },
    {
     "name": "stderr",
     "output_type": "stream",
     "text": [
      "Chunking all_pdfs_varsity_cleaned_part10.json: 100%|██████████| 200/200 [00:00<00:00, 16365.78page/s]\n"
     ]
    },
    {
     "name": "stdout",
     "output_type": "stream",
     "text": [
      "Saved chunks to ..\\data\\experiments\\chunks_700_overlap100\\all_pdfs_varsity_cleaned_part10_chunks.jsonl\n",
      "\n",
      "Processing all_pdfs_varsity_cleaned_part11.json ...\n"
     ]
    },
    {
     "name": "stderr",
     "output_type": "stream",
     "text": [
      "Chunking all_pdfs_varsity_cleaned_part11.json: 100%|██████████| 186/186 [00:00<00:00, 14506.15page/s]\n"
     ]
    },
    {
     "name": "stdout",
     "output_type": "stream",
     "text": [
      "Saved chunks to ..\\data\\experiments\\chunks_700_overlap100\\all_pdfs_varsity_cleaned_part11_chunks.jsonl\n",
      "\n",
      "Processing all_pdfs_varsity_cleaned_part2.json ...\n"
     ]
    },
    {
     "name": "stderr",
     "output_type": "stream",
     "text": [
      "Chunking all_pdfs_varsity_cleaned_part2.json: 100%|██████████| 200/200 [00:00<00:00, 12970.00page/s]\n"
     ]
    },
    {
     "name": "stdout",
     "output_type": "stream",
     "text": [
      "Saved chunks to ..\\data\\experiments\\chunks_700_overlap100\\all_pdfs_varsity_cleaned_part2_chunks.jsonl\n",
      "\n",
      "Processing all_pdfs_varsity_cleaned_part3.json ...\n"
     ]
    },
    {
     "name": "stderr",
     "output_type": "stream",
     "text": [
      "Chunking all_pdfs_varsity_cleaned_part3.json: 100%|██████████| 200/200 [00:00<00:00, 11920.89page/s]\n"
     ]
    },
    {
     "name": "stdout",
     "output_type": "stream",
     "text": [
      "Saved chunks to ..\\data\\experiments\\chunks_700_overlap100\\all_pdfs_varsity_cleaned_part3_chunks.jsonl\n",
      "\n",
      "Processing all_pdfs_varsity_cleaned_part4.json ...\n"
     ]
    },
    {
     "name": "stderr",
     "output_type": "stream",
     "text": [
      "Chunking all_pdfs_varsity_cleaned_part4.json: 100%|██████████| 200/200 [00:00<00:00, 13771.01page/s]\n"
     ]
    },
    {
     "name": "stdout",
     "output_type": "stream",
     "text": [
      "Saved chunks to ..\\data\\experiments\\chunks_700_overlap100\\all_pdfs_varsity_cleaned_part4_chunks.jsonl\n",
      "\n",
      "Processing all_pdfs_varsity_cleaned_part5.json ...\n"
     ]
    },
    {
     "name": "stderr",
     "output_type": "stream",
     "text": [
      "Chunking all_pdfs_varsity_cleaned_part5.json: 100%|██████████| 200/200 [00:00<00:00, 14429.53page/s]\n"
     ]
    },
    {
     "name": "stdout",
     "output_type": "stream",
     "text": [
      "Saved chunks to ..\\data\\experiments\\chunks_700_overlap100\\all_pdfs_varsity_cleaned_part5_chunks.jsonl\n",
      "\n",
      "Processing all_pdfs_varsity_cleaned_part6.json ...\n"
     ]
    },
    {
     "name": "stderr",
     "output_type": "stream",
     "text": [
      "Chunking all_pdfs_varsity_cleaned_part6.json: 100%|██████████| 200/200 [00:00<00:00, 13112.73page/s]\n"
     ]
    },
    {
     "name": "stdout",
     "output_type": "stream",
     "text": [
      "Saved chunks to ..\\data\\experiments\\chunks_700_overlap100\\all_pdfs_varsity_cleaned_part6_chunks.jsonl\n",
      "\n",
      "Processing all_pdfs_varsity_cleaned_part7.json ...\n"
     ]
    },
    {
     "name": "stderr",
     "output_type": "stream",
     "text": [
      "Chunking all_pdfs_varsity_cleaned_part7.json: 100%|██████████| 200/200 [00:00<00:00, 15689.03page/s]\n"
     ]
    },
    {
     "name": "stdout",
     "output_type": "stream",
     "text": [
      "Saved chunks to ..\\data\\experiments\\chunks_700_overlap100\\all_pdfs_varsity_cleaned_part7_chunks.jsonl\n",
      "\n",
      "Processing all_pdfs_varsity_cleaned_part8.json ...\n"
     ]
    },
    {
     "name": "stderr",
     "output_type": "stream",
     "text": [
      "Chunking all_pdfs_varsity_cleaned_part8.json: 100%|██████████| 200/200 [00:00<00:00, 16609.13page/s]\n"
     ]
    },
    {
     "name": "stdout",
     "output_type": "stream",
     "text": [
      "Saved chunks to ..\\data\\experiments\\chunks_700_overlap100\\all_pdfs_varsity_cleaned_part8_chunks.jsonl\n",
      "\n",
      "Processing all_pdfs_varsity_cleaned_part9.json ...\n"
     ]
    },
    {
     "name": "stderr",
     "output_type": "stream",
     "text": [
      "Chunking all_pdfs_varsity_cleaned_part9.json: 100%|██████████| 200/200 [00:00<00:00, 16110.25page/s]\n"
     ]
    },
    {
     "name": "stdout",
     "output_type": "stream",
     "text": [
      "Saved chunks to ..\\data\\experiments\\chunks_700_overlap100\\all_pdfs_varsity_cleaned_part9_chunks.jsonl\n",
      "\n",
      "Running experiment: chunk_size=750, overlap=100\n",
      "\n",
      "Processing all_pdfs_sebi_education_cleaned_part1.json ...\n"
     ]
    },
    {
     "name": "stderr",
     "output_type": "stream",
     "text": [
      "Chunking all_pdfs_sebi_education_cleaned_part1.json: 100%|██████████| 200/200 [00:00<00:00, 30848.41page/s]\n"
     ]
    },
    {
     "name": "stdout",
     "output_type": "stream",
     "text": [
      "Saved chunks to ..\\data\\experiments\\chunks_750_overlap100\\all_pdfs_sebi_education_cleaned_part1_chunks.jsonl\n",
      "\n",
      "Processing all_pdfs_sebi_education_cleaned_part2.json ...\n"
     ]
    },
    {
     "name": "stderr",
     "output_type": "stream",
     "text": [
      "Chunking all_pdfs_sebi_education_cleaned_part2.json: 100%|██████████| 200/200 [00:00<00:00, 38750.04page/s]\n"
     ]
    },
    {
     "name": "stdout",
     "output_type": "stream",
     "text": [
      "Saved chunks to ..\\data\\experiments\\chunks_750_overlap100\\all_pdfs_sebi_education_cleaned_part2_chunks.jsonl\n",
      "\n",
      "Processing all_pdfs_sebi_education_cleaned_part3.json ...\n"
     ]
    },
    {
     "name": "stderr",
     "output_type": "stream",
     "text": [
      "Chunking all_pdfs_sebi_education_cleaned_part3.json: 100%|██████████| 200/200 [00:00<00:00, 891.70page/s] \n"
     ]
    },
    {
     "name": "stdout",
     "output_type": "stream",
     "text": [
      "Saved chunks to ..\\data\\experiments\\chunks_750_overlap100\\all_pdfs_sebi_education_cleaned_part3_chunks.jsonl\n",
      "\n",
      "Processing all_pdfs_sebi_education_cleaned_part4.json ...\n"
     ]
    },
    {
     "name": "stderr",
     "output_type": "stream",
     "text": [
      "Chunking all_pdfs_sebi_education_cleaned_part4.json: 100%|██████████| 143/143 [00:00<00:00, 1038.43page/s]\n"
     ]
    },
    {
     "name": "stdout",
     "output_type": "stream",
     "text": [
      "Saved chunks to ..\\data\\experiments\\chunks_750_overlap100\\all_pdfs_sebi_education_cleaned_part4_chunks.jsonl\n",
      "\n",
      "Processing all_pdfs_varsity_cleaned_part1.json ...\n"
     ]
    },
    {
     "name": "stderr",
     "output_type": "stream",
     "text": [
      "Chunking all_pdfs_varsity_cleaned_part1.json: 100%|██████████| 200/200 [00:00<00:00, 878.65page/s] \n"
     ]
    },
    {
     "name": "stdout",
     "output_type": "stream",
     "text": [
      "Saved chunks to ..\\data\\experiments\\chunks_750_overlap100\\all_pdfs_varsity_cleaned_part1_chunks.jsonl\n",
      "\n",
      "Processing all_pdfs_varsity_cleaned_part10.json ...\n"
     ]
    },
    {
     "name": "stderr",
     "output_type": "stream",
     "text": [
      "Chunking all_pdfs_varsity_cleaned_part10.json: 100%|██████████| 200/200 [00:00<00:00, 5033.88page/s]\n"
     ]
    },
    {
     "name": "stdout",
     "output_type": "stream",
     "text": [
      "Saved chunks to ..\\data\\experiments\\chunks_750_overlap100\\all_pdfs_varsity_cleaned_part10_chunks.jsonl\n",
      "\n",
      "Processing all_pdfs_varsity_cleaned_part11.json ...\n"
     ]
    },
    {
     "name": "stderr",
     "output_type": "stream",
     "text": [
      "Chunking all_pdfs_varsity_cleaned_part11.json: 100%|██████████| 186/186 [00:00<00:00, 16488.93page/s]\n"
     ]
    },
    {
     "name": "stdout",
     "output_type": "stream",
     "text": [
      "Saved chunks to ..\\data\\experiments\\chunks_750_overlap100\\all_pdfs_varsity_cleaned_part11_chunks.jsonl\n",
      "\n",
      "Processing all_pdfs_varsity_cleaned_part2.json ...\n"
     ]
    },
    {
     "name": "stderr",
     "output_type": "stream",
     "text": [
      "Chunking all_pdfs_varsity_cleaned_part2.json: 100%|██████████| 200/200 [00:00<00:00, 11606.35page/s]\n"
     ]
    },
    {
     "name": "stdout",
     "output_type": "stream",
     "text": [
      "Saved chunks to ..\\data\\experiments\\chunks_750_overlap100\\all_pdfs_varsity_cleaned_part2_chunks.jsonl\n",
      "\n",
      "Processing all_pdfs_varsity_cleaned_part3.json ...\n"
     ]
    },
    {
     "name": "stderr",
     "output_type": "stream",
     "text": [
      "Chunking all_pdfs_varsity_cleaned_part3.json: 100%|██████████| 200/200 [00:00<00:00, 12506.50page/s]\n"
     ]
    },
    {
     "name": "stdout",
     "output_type": "stream",
     "text": [
      "Saved chunks to ..\\data\\experiments\\chunks_750_overlap100\\all_pdfs_varsity_cleaned_part3_chunks.jsonl\n",
      "\n",
      "Processing all_pdfs_varsity_cleaned_part4.json ...\n"
     ]
    },
    {
     "name": "stderr",
     "output_type": "stream",
     "text": [
      "Chunking all_pdfs_varsity_cleaned_part4.json: 100%|██████████| 200/200 [00:00<00:00, 13828.67page/s]\n"
     ]
    },
    {
     "name": "stdout",
     "output_type": "stream",
     "text": [
      "Saved chunks to ..\\data\\experiments\\chunks_750_overlap100\\all_pdfs_varsity_cleaned_part4_chunks.jsonl\n",
      "\n",
      "Processing all_pdfs_varsity_cleaned_part5.json ...\n"
     ]
    },
    {
     "name": "stderr",
     "output_type": "stream",
     "text": [
      "Chunking all_pdfs_varsity_cleaned_part5.json: 100%|██████████| 200/200 [00:00<00:00, 17387.52page/s]\n"
     ]
    },
    {
     "name": "stdout",
     "output_type": "stream",
     "text": [
      "Saved chunks to ..\\data\\experiments\\chunks_750_overlap100\\all_pdfs_varsity_cleaned_part5_chunks.jsonl\n",
      "\n",
      "Processing all_pdfs_varsity_cleaned_part6.json ...\n"
     ]
    },
    {
     "name": "stderr",
     "output_type": "stream",
     "text": [
      "Chunking all_pdfs_varsity_cleaned_part6.json: 100%|██████████| 200/200 [00:00<00:00, 15409.75page/s]\n"
     ]
    },
    {
     "name": "stdout",
     "output_type": "stream",
     "text": [
      "Saved chunks to ..\\data\\experiments\\chunks_750_overlap100\\all_pdfs_varsity_cleaned_part6_chunks.jsonl\n",
      "\n",
      "Processing all_pdfs_varsity_cleaned_part7.json ...\n"
     ]
    },
    {
     "name": "stderr",
     "output_type": "stream",
     "text": [
      "Chunking all_pdfs_varsity_cleaned_part7.json: 100%|██████████| 200/200 [00:00<00:00, 16076.29page/s]\n"
     ]
    },
    {
     "name": "stdout",
     "output_type": "stream",
     "text": [
      "Saved chunks to ..\\data\\experiments\\chunks_750_overlap100\\all_pdfs_varsity_cleaned_part7_chunks.jsonl\n",
      "\n",
      "Processing all_pdfs_varsity_cleaned_part8.json ...\n"
     ]
    },
    {
     "name": "stderr",
     "output_type": "stream",
     "text": [
      "Chunking all_pdfs_varsity_cleaned_part8.json: 100%|██████████| 200/200 [00:00<00:00, 14882.39page/s]\n"
     ]
    },
    {
     "name": "stdout",
     "output_type": "stream",
     "text": [
      "Saved chunks to ..\\data\\experiments\\chunks_750_overlap100\\all_pdfs_varsity_cleaned_part8_chunks.jsonl\n",
      "\n",
      "Processing all_pdfs_varsity_cleaned_part9.json ...\n"
     ]
    },
    {
     "name": "stderr",
     "output_type": "stream",
     "text": [
      "Chunking all_pdfs_varsity_cleaned_part9.json: 100%|██████████| 200/200 [00:00<00:00, 15698.13page/s]\n"
     ]
    },
    {
     "name": "stdout",
     "output_type": "stream",
     "text": [
      "Saved chunks to ..\\data\\experiments\\chunks_750_overlap100\\all_pdfs_varsity_cleaned_part9_chunks.jsonl\n",
      "\n",
      "Running experiment: chunk_size=800, overlap=100\n",
      "\n",
      "Processing all_pdfs_sebi_education_cleaned_part1.json ...\n"
     ]
    },
    {
     "name": "stderr",
     "output_type": "stream",
     "text": [
      "Chunking all_pdfs_sebi_education_cleaned_part1.json: 100%|██████████| 200/200 [00:00<00:00, 16088.31page/s]\n"
     ]
    },
    {
     "name": "stdout",
     "output_type": "stream",
     "text": [
      "Saved chunks to ..\\data\\experiments\\chunks_800_overlap100\\all_pdfs_sebi_education_cleaned_part1_chunks.jsonl\n",
      "\n",
      "Processing all_pdfs_sebi_education_cleaned_part2.json ...\n"
     ]
    },
    {
     "name": "stderr",
     "output_type": "stream",
     "text": [
      "Chunking all_pdfs_sebi_education_cleaned_part2.json: 100%|██████████| 200/200 [00:00<00:00, 15936.41page/s]\n"
     ]
    },
    {
     "name": "stdout",
     "output_type": "stream",
     "text": [
      "Saved chunks to ..\\data\\experiments\\chunks_800_overlap100\\all_pdfs_sebi_education_cleaned_part2_chunks.jsonl\n",
      "\n",
      "Processing all_pdfs_sebi_education_cleaned_part3.json ...\n"
     ]
    },
    {
     "name": "stderr",
     "output_type": "stream",
     "text": [
      "Chunking all_pdfs_sebi_education_cleaned_part3.json: 100%|██████████| 200/200 [00:00<00:00, 11599.29page/s]\n"
     ]
    },
    {
     "name": "stdout",
     "output_type": "stream",
     "text": [
      "Saved chunks to ..\\data\\experiments\\chunks_800_overlap100\\all_pdfs_sebi_education_cleaned_part3_chunks.jsonl\n",
      "\n",
      "Processing all_pdfs_sebi_education_cleaned_part4.json ...\n"
     ]
    },
    {
     "name": "stderr",
     "output_type": "stream",
     "text": [
      "Chunking all_pdfs_sebi_education_cleaned_part4.json: 100%|██████████| 143/143 [00:00<00:00, 8754.97page/s]\n"
     ]
    },
    {
     "name": "stdout",
     "output_type": "stream",
     "text": [
      "Saved chunks to ..\\data\\experiments\\chunks_800_overlap100\\all_pdfs_sebi_education_cleaned_part4_chunks.jsonl\n",
      "\n",
      "Processing all_pdfs_varsity_cleaned_part1.json ...\n"
     ]
    },
    {
     "name": "stderr",
     "output_type": "stream",
     "text": [
      "Chunking all_pdfs_varsity_cleaned_part1.json: 100%|██████████| 200/200 [00:00<00:00, 1668.85page/s]\n"
     ]
    },
    {
     "name": "stdout",
     "output_type": "stream",
     "text": [
      "Saved chunks to ..\\data\\experiments\\chunks_800_overlap100\\all_pdfs_varsity_cleaned_part1_chunks.jsonl\n",
      "\n",
      "Processing all_pdfs_varsity_cleaned_part10.json ...\n"
     ]
    },
    {
     "name": "stderr",
     "output_type": "stream",
     "text": [
      "Chunking all_pdfs_varsity_cleaned_part10.json: 100%|██████████| 200/200 [00:00<00:00, 2515.17page/s]\n"
     ]
    },
    {
     "name": "stdout",
     "output_type": "stream",
     "text": [
      "Saved chunks to ..\\data\\experiments\\chunks_800_overlap100\\all_pdfs_varsity_cleaned_part10_chunks.jsonl\n",
      "\n",
      "Processing all_pdfs_varsity_cleaned_part11.json ...\n"
     ]
    },
    {
     "name": "stderr",
     "output_type": "stream",
     "text": [
      "Chunking all_pdfs_varsity_cleaned_part11.json: 100%|██████████| 186/186 [00:00<00:00, 2626.41page/s]\n"
     ]
    },
    {
     "name": "stdout",
     "output_type": "stream",
     "text": [
      "Saved chunks to ..\\data\\experiments\\chunks_800_overlap100\\all_pdfs_varsity_cleaned_part11_chunks.jsonl\n",
      "\n",
      "Processing all_pdfs_varsity_cleaned_part2.json ...\n"
     ]
    },
    {
     "name": "stderr",
     "output_type": "stream",
     "text": [
      "Chunking all_pdfs_varsity_cleaned_part2.json: 100%|██████████| 200/200 [00:00<00:00, 7366.31page/s]\n"
     ]
    },
    {
     "name": "stdout",
     "output_type": "stream",
     "text": [
      "Saved chunks to ..\\data\\experiments\\chunks_800_overlap100\\all_pdfs_varsity_cleaned_part2_chunks.jsonl\n",
      "\n",
      "Processing all_pdfs_varsity_cleaned_part3.json ...\n"
     ]
    },
    {
     "name": "stderr",
     "output_type": "stream",
     "text": [
      "Chunking all_pdfs_varsity_cleaned_part3.json: 100%|██████████| 200/200 [00:00<00:00, 7672.67page/s]\n"
     ]
    },
    {
     "name": "stdout",
     "output_type": "stream",
     "text": [
      "Saved chunks to ..\\data\\experiments\\chunks_800_overlap100\\all_pdfs_varsity_cleaned_part3_chunks.jsonl\n",
      "\n",
      "Processing all_pdfs_varsity_cleaned_part4.json ...\n"
     ]
    },
    {
     "name": "stderr",
     "output_type": "stream",
     "text": [
      "Chunking all_pdfs_varsity_cleaned_part4.json: 100%|██████████| 200/200 [00:00<00:00, 7150.19page/s]\n"
     ]
    },
    {
     "name": "stdout",
     "output_type": "stream",
     "text": [
      "Saved chunks to ..\\data\\experiments\\chunks_800_overlap100\\all_pdfs_varsity_cleaned_part4_chunks.jsonl\n",
      "\n",
      "Processing all_pdfs_varsity_cleaned_part5.json ...\n"
     ]
    },
    {
     "name": "stderr",
     "output_type": "stream",
     "text": [
      "Chunking all_pdfs_varsity_cleaned_part5.json: 100%|██████████| 200/200 [00:00<00:00, 6774.95page/s]"
     ]
    },
    {
     "name": "stdout",
     "output_type": "stream",
     "text": [
      "Saved chunks to ..\\data\\experiments\\chunks_800_overlap100\\all_pdfs_varsity_cleaned_part5_chunks.jsonl\n",
      "\n",
      "Processing all_pdfs_varsity_cleaned_part6.json ...\n"
     ]
    },
    {
     "name": "stderr",
     "output_type": "stream",
     "text": [
      "\n",
      "Chunking all_pdfs_varsity_cleaned_part6.json: 100%|██████████| 200/200 [00:00<00:00, 3263.28page/s]\n"
     ]
    },
    {
     "name": "stdout",
     "output_type": "stream",
     "text": [
      "Saved chunks to ..\\data\\experiments\\chunks_800_overlap100\\all_pdfs_varsity_cleaned_part6_chunks.jsonl\n",
      "\n",
      "Processing all_pdfs_varsity_cleaned_part7.json ...\n"
     ]
    },
    {
     "name": "stderr",
     "output_type": "stream",
     "text": [
      "Chunking all_pdfs_varsity_cleaned_part7.json: 100%|██████████| 200/200 [00:00<00:00, 4285.94page/s]\n"
     ]
    },
    {
     "name": "stdout",
     "output_type": "stream",
     "text": [
      "Saved chunks to ..\\data\\experiments\\chunks_800_overlap100\\all_pdfs_varsity_cleaned_part7_chunks.jsonl\n",
      "\n",
      "Processing all_pdfs_varsity_cleaned_part8.json ...\n"
     ]
    },
    {
     "name": "stderr",
     "output_type": "stream",
     "text": [
      "Chunking all_pdfs_varsity_cleaned_part8.json: 100%|██████████| 200/200 [00:00<00:00, 13985.91page/s]\n"
     ]
    },
    {
     "name": "stdout",
     "output_type": "stream",
     "text": [
      "Saved chunks to ..\\data\\experiments\\chunks_800_overlap100\\all_pdfs_varsity_cleaned_part8_chunks.jsonl\n",
      "\n",
      "Processing all_pdfs_varsity_cleaned_part9.json ...\n"
     ]
    },
    {
     "name": "stderr",
     "output_type": "stream",
     "text": [
      "Chunking all_pdfs_varsity_cleaned_part9.json: 100%|██████████| 200/200 [00:00<00:00, 3498.96page/s]\n"
     ]
    },
    {
     "name": "stdout",
     "output_type": "stream",
     "text": [
      "Saved chunks to ..\\data\\experiments\\chunks_800_overlap100\\all_pdfs_varsity_cleaned_part9_chunks.jsonl\n",
      "\n",
      "Running experiment: chunk_size=900, overlap=120\n",
      "\n",
      "Processing all_pdfs_sebi_education_cleaned_part1.json ...\n"
     ]
    },
    {
     "name": "stderr",
     "output_type": "stream",
     "text": [
      "Chunking all_pdfs_sebi_education_cleaned_part1.json: 100%|██████████| 200/200 [00:00<00:00, 38283.17page/s]\n"
     ]
    },
    {
     "name": "stdout",
     "output_type": "stream",
     "text": [
      "Saved chunks to ..\\data\\experiments\\chunks_900_overlap120\\all_pdfs_sebi_education_cleaned_part1_chunks.jsonl\n",
      "\n",
      "Processing all_pdfs_sebi_education_cleaned_part2.json ...\n"
     ]
    },
    {
     "name": "stderr",
     "output_type": "stream",
     "text": [
      "Chunking all_pdfs_sebi_education_cleaned_part2.json: 100%|██████████| 200/200 [00:00<00:00, 37842.78page/s]\n"
     ]
    },
    {
     "name": "stdout",
     "output_type": "stream",
     "text": [
      "Saved chunks to ..\\data\\experiments\\chunks_900_overlap120\\all_pdfs_sebi_education_cleaned_part2_chunks.jsonl\n",
      "\n",
      "Processing all_pdfs_sebi_education_cleaned_part3.json ...\n"
     ]
    },
    {
     "name": "stderr",
     "output_type": "stream",
     "text": [
      "Chunking all_pdfs_sebi_education_cleaned_part3.json: 100%|██████████| 200/200 [00:00<00:00, 34993.36page/s]\n"
     ]
    },
    {
     "name": "stdout",
     "output_type": "stream",
     "text": [
      "Saved chunks to ..\\data\\experiments\\chunks_900_overlap120\\all_pdfs_sebi_education_cleaned_part3_chunks.jsonl\n",
      "\n",
      "Processing all_pdfs_sebi_education_cleaned_part4.json ...\n"
     ]
    },
    {
     "name": "stderr",
     "output_type": "stream",
     "text": [
      "Chunking all_pdfs_sebi_education_cleaned_part4.json: 100%|██████████| 143/143 [00:00<00:00, 23842.64page/s]\n"
     ]
    },
    {
     "name": "stdout",
     "output_type": "stream",
     "text": [
      "Saved chunks to ..\\data\\experiments\\chunks_900_overlap120\\all_pdfs_sebi_education_cleaned_part4_chunks.jsonl\n",
      "\n",
      "Processing all_pdfs_varsity_cleaned_part1.json ...\n"
     ]
    },
    {
     "name": "stderr",
     "output_type": "stream",
     "text": [
      "Chunking all_pdfs_varsity_cleaned_part1.json: 100%|██████████| 200/200 [00:00<00:00, 13741.23page/s]\n"
     ]
    },
    {
     "name": "stdout",
     "output_type": "stream",
     "text": [
      "Saved chunks to ..\\data\\experiments\\chunks_900_overlap120\\all_pdfs_varsity_cleaned_part1_chunks.jsonl\n",
      "\n",
      "Processing all_pdfs_varsity_cleaned_part10.json ...\n"
     ]
    },
    {
     "name": "stderr",
     "output_type": "stream",
     "text": [
      "Chunking all_pdfs_varsity_cleaned_part10.json: 100%|██████████| 200/200 [00:00<00:00, 7569.37page/s]\n"
     ]
    },
    {
     "name": "stdout",
     "output_type": "stream",
     "text": [
      "Saved chunks to ..\\data\\experiments\\chunks_900_overlap120\\all_pdfs_varsity_cleaned_part10_chunks.jsonl\n",
      "\n",
      "Processing all_pdfs_varsity_cleaned_part11.json ...\n"
     ]
    },
    {
     "name": "stderr",
     "output_type": "stream",
     "text": [
      "Chunking all_pdfs_varsity_cleaned_part11.json: 100%|██████████| 186/186 [00:00<00:00, 486.21page/s]\n"
     ]
    },
    {
     "name": "stdout",
     "output_type": "stream",
     "text": [
      "Saved chunks to ..\\data\\experiments\\chunks_900_overlap120\\all_pdfs_varsity_cleaned_part11_chunks.jsonl\n",
      "\n",
      "Processing all_pdfs_varsity_cleaned_part2.json ...\n"
     ]
    },
    {
     "name": "stderr",
     "output_type": "stream",
     "text": [
      "Chunking all_pdfs_varsity_cleaned_part2.json: 100%|██████████| 200/200 [00:00<00:00, 1435.47page/s]"
     ]
    },
    {
     "name": "stdout",
     "output_type": "stream",
     "text": [
      "Saved chunks to ..\\data\\experiments\\chunks_900_overlap120\\all_pdfs_varsity_cleaned_part2_chunks.jsonl\n",
      "\n",
      "Processing all_pdfs_varsity_cleaned_part3.json ...\n"
     ]
    },
    {
     "name": "stderr",
     "output_type": "stream",
     "text": [
      "\n",
      "Chunking all_pdfs_varsity_cleaned_part3.json: 100%|██████████| 200/200 [00:00<00:00, 4188.13page/s]\n"
     ]
    },
    {
     "name": "stdout",
     "output_type": "stream",
     "text": [
      "Saved chunks to ..\\data\\experiments\\chunks_900_overlap120\\all_pdfs_varsity_cleaned_part3_chunks.jsonl\n",
      "\n",
      "Processing all_pdfs_varsity_cleaned_part4.json ...\n"
     ]
    },
    {
     "name": "stderr",
     "output_type": "stream",
     "text": [
      "Chunking all_pdfs_varsity_cleaned_part4.json: 100%|██████████| 200/200 [00:00<00:00, 6608.64page/s]\n"
     ]
    },
    {
     "name": "stdout",
     "output_type": "stream",
     "text": [
      "Saved chunks to ..\\data\\experiments\\chunks_900_overlap120\\all_pdfs_varsity_cleaned_part4_chunks.jsonl\n",
      "\n",
      "Processing all_pdfs_varsity_cleaned_part5.json ...\n"
     ]
    },
    {
     "name": "stderr",
     "output_type": "stream",
     "text": [
      "Chunking all_pdfs_varsity_cleaned_part5.json: 100%|██████████| 200/200 [00:00<00:00, 10543.35page/s]\n"
     ]
    },
    {
     "name": "stdout",
     "output_type": "stream",
     "text": [
      "Saved chunks to ..\\data\\experiments\\chunks_900_overlap120\\all_pdfs_varsity_cleaned_part5_chunks.jsonl\n",
      "\n",
      "Processing all_pdfs_varsity_cleaned_part6.json ...\n"
     ]
    },
    {
     "name": "stderr",
     "output_type": "stream",
     "text": [
      "Chunking all_pdfs_varsity_cleaned_part6.json: 100%|██████████| 200/200 [00:00<00:00, 3613.86page/s]\n"
     ]
    },
    {
     "name": "stdout",
     "output_type": "stream",
     "text": [
      "Saved chunks to ..\\data\\experiments\\chunks_900_overlap120\\all_pdfs_varsity_cleaned_part6_chunks.jsonl\n",
      "\n",
      "Processing all_pdfs_varsity_cleaned_part7.json ...\n"
     ]
    },
    {
     "name": "stderr",
     "output_type": "stream",
     "text": [
      "Chunking all_pdfs_varsity_cleaned_part7.json: 100%|██████████| 200/200 [00:00<00:00, 6719.59page/s]\n"
     ]
    },
    {
     "name": "stdout",
     "output_type": "stream",
     "text": [
      "Saved chunks to ..\\data\\experiments\\chunks_900_overlap120\\all_pdfs_varsity_cleaned_part7_chunks.jsonl\n",
      "\n",
      "Processing all_pdfs_varsity_cleaned_part8.json ...\n"
     ]
    },
    {
     "name": "stderr",
     "output_type": "stream",
     "text": [
      "Chunking all_pdfs_varsity_cleaned_part8.json: 100%|██████████| 200/200 [00:00<00:00, 7722.47page/s]\n"
     ]
    },
    {
     "name": "stdout",
     "output_type": "stream",
     "text": [
      "Saved chunks to ..\\data\\experiments\\chunks_900_overlap120\\all_pdfs_varsity_cleaned_part8_chunks.jsonl\n",
      "\n",
      "Processing all_pdfs_varsity_cleaned_part9.json ...\n"
     ]
    },
    {
     "name": "stderr",
     "output_type": "stream",
     "text": [
      "Chunking all_pdfs_varsity_cleaned_part9.json: 100%|██████████| 200/200 [00:00<00:00, 10224.90page/s]\n"
     ]
    },
    {
     "name": "stdout",
     "output_type": "stream",
     "text": [
      "Saved chunks to ..\\data\\experiments\\chunks_900_overlap120\\all_pdfs_varsity_cleaned_part9_chunks.jsonl\n",
      "\n",
      "Running experiment: chunk_size=1000, overlap=120\n",
      "\n",
      "Processing all_pdfs_sebi_education_cleaned_part1.json ...\n"
     ]
    },
    {
     "name": "stderr",
     "output_type": "stream",
     "text": [
      "Chunking all_pdfs_sebi_education_cleaned_part1.json: 100%|██████████| 200/200 [00:00<00:00, 31421.54page/s]\n"
     ]
    },
    {
     "name": "stdout",
     "output_type": "stream",
     "text": [
      "Saved chunks to ..\\data\\experiments\\chunks_1000_overlap120\\all_pdfs_sebi_education_cleaned_part1_chunks.jsonl\n",
      "\n",
      "Processing all_pdfs_sebi_education_cleaned_part2.json ...\n"
     ]
    },
    {
     "name": "stderr",
     "output_type": "stream",
     "text": [
      "Chunking all_pdfs_sebi_education_cleaned_part2.json: 100%|██████████| 200/200 [00:00<00:00, 95108.93page/s]\n"
     ]
    },
    {
     "name": "stdout",
     "output_type": "stream",
     "text": [
      "Saved chunks to ..\\data\\experiments\\chunks_1000_overlap120\\all_pdfs_sebi_education_cleaned_part2_chunks.jsonl\n",
      "\n",
      "Processing all_pdfs_sebi_education_cleaned_part3.json ...\n"
     ]
    },
    {
     "name": "stderr",
     "output_type": "stream",
     "text": [
      "Chunking all_pdfs_sebi_education_cleaned_part3.json: 100%|██████████| 200/200 [00:00<00:00, 68261.11page/s]\n"
     ]
    },
    {
     "name": "stdout",
     "output_type": "stream",
     "text": [
      "Saved chunks to ..\\data\\experiments\\chunks_1000_overlap120\\all_pdfs_sebi_education_cleaned_part3_chunks.jsonl\n",
      "\n",
      "Processing all_pdfs_sebi_education_cleaned_part4.json ...\n"
     ]
    },
    {
     "name": "stderr",
     "output_type": "stream",
     "text": [
      "Chunking all_pdfs_sebi_education_cleaned_part4.json: 100%|██████████| 143/143 [00:00<00:00, 32958.87page/s]\n"
     ]
    },
    {
     "name": "stdout",
     "output_type": "stream",
     "text": [
      "Saved chunks to ..\\data\\experiments\\chunks_1000_overlap120\\all_pdfs_sebi_education_cleaned_part4_chunks.jsonl\n",
      "\n",
      "Processing all_pdfs_varsity_cleaned_part1.json ...\n"
     ]
    },
    {
     "name": "stderr",
     "output_type": "stream",
     "text": [
      "Chunking all_pdfs_varsity_cleaned_part1.json: 100%|██████████| 200/200 [00:00<00:00, 32603.71page/s]\n"
     ]
    },
    {
     "name": "stdout",
     "output_type": "stream",
     "text": [
      "Saved chunks to ..\\data\\experiments\\chunks_1000_overlap120\\all_pdfs_varsity_cleaned_part1_chunks.jsonl\n",
      "\n",
      "Processing all_pdfs_varsity_cleaned_part10.json ...\n"
     ]
    },
    {
     "name": "stderr",
     "output_type": "stream",
     "text": [
      "Chunking all_pdfs_varsity_cleaned_part10.json: 100%|██████████| 200/200 [00:00<00:00, 43926.31page/s]\n"
     ]
    },
    {
     "name": "stdout",
     "output_type": "stream",
     "text": [
      "Saved chunks to ..\\data\\experiments\\chunks_1000_overlap120\\all_pdfs_varsity_cleaned_part10_chunks.jsonl\n",
      "\n",
      "Processing all_pdfs_varsity_cleaned_part11.json ...\n"
     ]
    },
    {
     "name": "stderr",
     "output_type": "stream",
     "text": [
      "Chunking all_pdfs_varsity_cleaned_part11.json: 100%|██████████| 186/186 [00:00<00:00, 29287.85page/s]\n"
     ]
    },
    {
     "name": "stdout",
     "output_type": "stream",
     "text": [
      "Saved chunks to ..\\data\\experiments\\chunks_1000_overlap120\\all_pdfs_varsity_cleaned_part11_chunks.jsonl\n",
      "\n",
      "Processing all_pdfs_varsity_cleaned_part2.json ...\n"
     ]
    },
    {
     "name": "stderr",
     "output_type": "stream",
     "text": [
      "Chunking all_pdfs_varsity_cleaned_part2.json: 100%|██████████| 200/200 [00:00<00:00, 30152.07page/s]\n"
     ]
    },
    {
     "name": "stdout",
     "output_type": "stream",
     "text": [
      "Saved chunks to ..\\data\\experiments\\chunks_1000_overlap120\\all_pdfs_varsity_cleaned_part2_chunks.jsonl\n",
      "\n",
      "Processing all_pdfs_varsity_cleaned_part3.json ...\n"
     ]
    },
    {
     "name": "stderr",
     "output_type": "stream",
     "text": [
      "Chunking all_pdfs_varsity_cleaned_part3.json: 100%|██████████| 200/200 [00:00<00:00, 32524.07page/s]\n"
     ]
    },
    {
     "name": "stdout",
     "output_type": "stream",
     "text": [
      "Saved chunks to ..\\data\\experiments\\chunks_1000_overlap120\\all_pdfs_varsity_cleaned_part3_chunks.jsonl\n",
      "\n",
      "Processing all_pdfs_varsity_cleaned_part4.json ...\n"
     ]
    },
    {
     "name": "stderr",
     "output_type": "stream",
     "text": [
      "Chunking all_pdfs_varsity_cleaned_part4.json: 100%|██████████| 200/200 [00:00<00:00, 36094.01page/s]\n"
     ]
    },
    {
     "name": "stdout",
     "output_type": "stream",
     "text": [
      "Saved chunks to ..\\data\\experiments\\chunks_1000_overlap120\\all_pdfs_varsity_cleaned_part4_chunks.jsonl\n",
      "\n",
      "Processing all_pdfs_varsity_cleaned_part5.json ...\n"
     ]
    },
    {
     "name": "stderr",
     "output_type": "stream",
     "text": [
      "Chunking all_pdfs_varsity_cleaned_part5.json: 100%|██████████| 200/200 [00:00<00:00, 39104.08page/s]\n"
     ]
    },
    {
     "name": "stdout",
     "output_type": "stream",
     "text": [
      "Saved chunks to ..\\data\\experiments\\chunks_1000_overlap120\\all_pdfs_varsity_cleaned_part5_chunks.jsonl\n",
      "\n",
      "Processing all_pdfs_varsity_cleaned_part6.json ...\n"
     ]
    },
    {
     "name": "stderr",
     "output_type": "stream",
     "text": [
      "Chunking all_pdfs_varsity_cleaned_part6.json: 100%|██████████| 200/200 [00:00<00:00, 37117.73page/s]\n"
     ]
    },
    {
     "name": "stdout",
     "output_type": "stream",
     "text": [
      "Saved chunks to ..\\data\\experiments\\chunks_1000_overlap120\\all_pdfs_varsity_cleaned_part6_chunks.jsonl\n",
      "\n",
      "Processing all_pdfs_varsity_cleaned_part7.json ...\n"
     ]
    },
    {
     "name": "stderr",
     "output_type": "stream",
     "text": [
      "Chunking all_pdfs_varsity_cleaned_part7.json: 100%|██████████| 200/200 [00:00<00:00, 36774.40page/s]\n"
     ]
    },
    {
     "name": "stdout",
     "output_type": "stream",
     "text": [
      "Saved chunks to ..\\data\\experiments\\chunks_1000_overlap120\\all_pdfs_varsity_cleaned_part7_chunks.jsonl\n",
      "\n",
      "Processing all_pdfs_varsity_cleaned_part8.json ...\n"
     ]
    },
    {
     "name": "stderr",
     "output_type": "stream",
     "text": [
      "Chunking all_pdfs_varsity_cleaned_part8.json: 100%|██████████| 200/200 [00:00<00:00, 41775.94page/s]\n"
     ]
    },
    {
     "name": "stdout",
     "output_type": "stream",
     "text": [
      "Saved chunks to ..\\data\\experiments\\chunks_1000_overlap120\\all_pdfs_varsity_cleaned_part8_chunks.jsonl\n",
      "\n",
      "Processing all_pdfs_varsity_cleaned_part9.json ...\n"
     ]
    },
    {
     "name": "stderr",
     "output_type": "stream",
     "text": [
      "Chunking all_pdfs_varsity_cleaned_part9.json: 100%|██████████| 200/200 [00:00<00:00, 42311.15page/s]"
     ]
    },
    {
     "name": "stdout",
     "output_type": "stream",
     "text": [
      "Saved chunks to ..\\data\\experiments\\chunks_1000_overlap120\\all_pdfs_varsity_cleaned_part9_chunks.jsonl\n"
     ]
    },
    {
     "name": "stderr",
     "output_type": "stream",
     "text": [
      "\n"
     ]
    },
    {
     "name": "stdout",
     "output_type": "stream",
     "text": [
      "\n",
      "Running experiment: chunk_size=1200, overlap=150\n",
      "\n",
      "Processing all_pdfs_sebi_education_cleaned_part1.json ...\n"
     ]
    },
    {
     "name": "stderr",
     "output_type": "stream",
     "text": [
      "Chunking all_pdfs_sebi_education_cleaned_part1.json: 100%|██████████| 200/200 [00:00<00:00, 41790.50page/s]\n"
     ]
    },
    {
     "name": "stdout",
     "output_type": "stream",
     "text": [
      "Saved chunks to ..\\data\\experiments\\chunks_1200_overlap150\\all_pdfs_sebi_education_cleaned_part1_chunks.jsonl\n",
      "\n",
      "Processing all_pdfs_sebi_education_cleaned_part2.json ...\n"
     ]
    },
    {
     "name": "stderr",
     "output_type": "stream",
     "text": [
      "Chunking all_pdfs_sebi_education_cleaned_part2.json: 100%|██████████| 200/200 [00:00<00:00, 69184.40page/s]\n"
     ]
    },
    {
     "name": "stdout",
     "output_type": "stream",
     "text": [
      "Saved chunks to ..\\data\\experiments\\chunks_1200_overlap150\\all_pdfs_sebi_education_cleaned_part2_chunks.jsonl\n",
      "\n",
      "Processing all_pdfs_sebi_education_cleaned_part3.json ...\n"
     ]
    },
    {
     "name": "stderr",
     "output_type": "stream",
     "text": [
      "Chunking all_pdfs_sebi_education_cleaned_part3.json: 100%|██████████| 200/200 [00:00<00:00, 74618.47page/s]\n"
     ]
    },
    {
     "name": "stdout",
     "output_type": "stream",
     "text": [
      "Saved chunks to ..\\data\\experiments\\chunks_1200_overlap150\\all_pdfs_sebi_education_cleaned_part3_chunks.jsonl\n",
      "\n",
      "Processing all_pdfs_sebi_education_cleaned_part4.json ...\n"
     ]
    },
    {
     "name": "stderr",
     "output_type": "stream",
     "text": [
      "Chunking all_pdfs_sebi_education_cleaned_part4.json: 100%|██████████| 143/143 [00:00<00:00, 33321.42page/s]\n"
     ]
    },
    {
     "name": "stdout",
     "output_type": "stream",
     "text": [
      "Saved chunks to ..\\data\\experiments\\chunks_1200_overlap150\\all_pdfs_sebi_education_cleaned_part4_chunks.jsonl\n",
      "\n",
      "Processing all_pdfs_varsity_cleaned_part1.json ...\n"
     ]
    },
    {
     "name": "stderr",
     "output_type": "stream",
     "text": [
      "Chunking all_pdfs_varsity_cleaned_part1.json: 100%|██████████| 200/200 [00:00<00:00, 36882.73page/s]\n"
     ]
    },
    {
     "name": "stdout",
     "output_type": "stream",
     "text": [
      "Saved chunks to ..\\data\\experiments\\chunks_1200_overlap150\\all_pdfs_varsity_cleaned_part1_chunks.jsonl\n",
      "\n",
      "Processing all_pdfs_varsity_cleaned_part10.json ...\n"
     ]
    },
    {
     "name": "stderr",
     "output_type": "stream",
     "text": [
      "Chunking all_pdfs_varsity_cleaned_part10.json: 100%|██████████| 200/200 [00:00<00:00, 54813.17page/s]\n"
     ]
    },
    {
     "name": "stdout",
     "output_type": "stream",
     "text": [
      "Saved chunks to ..\\data\\experiments\\chunks_1200_overlap150\\all_pdfs_varsity_cleaned_part10_chunks.jsonl\n",
      "\n",
      "Processing all_pdfs_varsity_cleaned_part11.json ...\n"
     ]
    },
    {
     "name": "stderr",
     "output_type": "stream",
     "text": [
      "Chunking all_pdfs_varsity_cleaned_part11.json: 100%|██████████| 186/186 [00:00<00:00, 37389.91page/s]\n"
     ]
    },
    {
     "name": "stdout",
     "output_type": "stream",
     "text": [
      "Saved chunks to ..\\data\\experiments\\chunks_1200_overlap150\\all_pdfs_varsity_cleaned_part11_chunks.jsonl\n",
      "\n",
      "Processing all_pdfs_varsity_cleaned_part2.json ...\n"
     ]
    },
    {
     "name": "stderr",
     "output_type": "stream",
     "text": [
      "Chunking all_pdfs_varsity_cleaned_part2.json: 100%|██████████| 200/200 [00:00<00:00, 30236.85page/s]\n"
     ]
    },
    {
     "name": "stdout",
     "output_type": "stream",
     "text": [
      "Saved chunks to ..\\data\\experiments\\chunks_1200_overlap150\\all_pdfs_varsity_cleaned_part2_chunks.jsonl\n",
      "\n",
      "Processing all_pdfs_varsity_cleaned_part3.json ...\n"
     ]
    },
    {
     "name": "stderr",
     "output_type": "stream",
     "text": [
      "Chunking all_pdfs_varsity_cleaned_part3.json: 100%|██████████| 200/200 [00:00<00:00, 35599.25page/s]\n"
     ]
    },
    {
     "name": "stdout",
     "output_type": "stream",
     "text": [
      "Saved chunks to ..\\data\\experiments\\chunks_1200_overlap150\\all_pdfs_varsity_cleaned_part3_chunks.jsonl\n",
      "\n",
      "Processing all_pdfs_varsity_cleaned_part4.json ...\n"
     ]
    },
    {
     "name": "stderr",
     "output_type": "stream",
     "text": [
      "Chunking all_pdfs_varsity_cleaned_part4.json: 100%|██████████| 200/200 [00:00<00:00, 43556.82page/s]\n"
     ]
    },
    {
     "name": "stdout",
     "output_type": "stream",
     "text": [
      "Saved chunks to ..\\data\\experiments\\chunks_1200_overlap150\\all_pdfs_varsity_cleaned_part4_chunks.jsonl\n",
      "\n",
      "Processing all_pdfs_varsity_cleaned_part5.json ...\n"
     ]
    },
    {
     "name": "stderr",
     "output_type": "stream",
     "text": [
      "Chunking all_pdfs_varsity_cleaned_part5.json: 100%|██████████| 200/200 [00:00<00:00, 27180.14page/s]\n"
     ]
    },
    {
     "name": "stdout",
     "output_type": "stream",
     "text": [
      "Saved chunks to ..\\data\\experiments\\chunks_1200_overlap150\\all_pdfs_varsity_cleaned_part5_chunks.jsonl\n",
      "\n",
      "Processing all_pdfs_varsity_cleaned_part6.json ...\n"
     ]
    },
    {
     "name": "stderr",
     "output_type": "stream",
     "text": [
      "Chunking all_pdfs_varsity_cleaned_part6.json: 100%|██████████| 200/200 [00:00<00:00, 24165.61page/s]\n"
     ]
    },
    {
     "name": "stdout",
     "output_type": "stream",
     "text": [
      "Saved chunks to ..\\data\\experiments\\chunks_1200_overlap150\\all_pdfs_varsity_cleaned_part6_chunks.jsonl\n",
      "\n",
      "Processing all_pdfs_varsity_cleaned_part7.json ...\n"
     ]
    },
    {
     "name": "stderr",
     "output_type": "stream",
     "text": [
      "Chunking all_pdfs_varsity_cleaned_part7.json: 100%|██████████| 200/200 [00:00<00:00, 31481.68page/s]\n"
     ]
    },
    {
     "name": "stdout",
     "output_type": "stream",
     "text": [
      "Saved chunks to ..\\data\\experiments\\chunks_1200_overlap150\\all_pdfs_varsity_cleaned_part7_chunks.jsonl\n",
      "\n",
      "Processing all_pdfs_varsity_cleaned_part8.json ...\n"
     ]
    },
    {
     "name": "stderr",
     "output_type": "stream",
     "text": [
      "Chunking all_pdfs_varsity_cleaned_part8.json: 100%|██████████| 200/200 [00:00<00:00, 28562.80page/s]\n"
     ]
    },
    {
     "name": "stdout",
     "output_type": "stream",
     "text": [
      "Saved chunks to ..\\data\\experiments\\chunks_1200_overlap150\\all_pdfs_varsity_cleaned_part8_chunks.jsonl\n",
      "\n",
      "Processing all_pdfs_varsity_cleaned_part9.json ...\n"
     ]
    },
    {
     "name": "stderr",
     "output_type": "stream",
     "text": [
      "Chunking all_pdfs_varsity_cleaned_part9.json: 100%|██████████| 200/200 [00:00<00:00, 43405.82page/s]\n"
     ]
    },
    {
     "name": "stdout",
     "output_type": "stream",
     "text": [
      "Saved chunks to ..\\data\\experiments\\chunks_1200_overlap150\\all_pdfs_varsity_cleaned_part9_chunks.jsonl\n",
      "\n",
      "Running experiment: chunk_size=1500, overlap=200\n",
      "\n",
      "Processing all_pdfs_sebi_education_cleaned_part1.json ...\n"
     ]
    },
    {
     "name": "stderr",
     "output_type": "stream",
     "text": [
      "Chunking all_pdfs_sebi_education_cleaned_part1.json: 100%|██████████| 200/200 [00:00<00:00, 76685.33page/s]\n"
     ]
    },
    {
     "name": "stdout",
     "output_type": "stream",
     "text": [
      "Saved chunks to ..\\data\\experiments\\chunks_1500_overlap200\\all_pdfs_sebi_education_cleaned_part1_chunks.jsonl\n",
      "\n",
      "Processing all_pdfs_sebi_education_cleaned_part2.json ...\n"
     ]
    },
    {
     "name": "stderr",
     "output_type": "stream",
     "text": [
      "Chunking all_pdfs_sebi_education_cleaned_part2.json: 100%|██████████| 200/200 [00:00<00:00, 144755.96page/s]\n"
     ]
    },
    {
     "name": "stdout",
     "output_type": "stream",
     "text": [
      "Saved chunks to ..\\data\\experiments\\chunks_1500_overlap200\\all_pdfs_sebi_education_cleaned_part2_chunks.jsonl\n",
      "\n",
      "Processing all_pdfs_sebi_education_cleaned_part3.json ...\n"
     ]
    },
    {
     "name": "stderr",
     "output_type": "stream",
     "text": [
      "Chunking all_pdfs_sebi_education_cleaned_part3.json: 100%|██████████| 200/200 [00:00<00:00, 82695.27page/s]\n"
     ]
    },
    {
     "name": "stdout",
     "output_type": "stream",
     "text": [
      "Saved chunks to ..\\data\\experiments\\chunks_1500_overlap200\\all_pdfs_sebi_education_cleaned_part3_chunks.jsonl\n",
      "\n",
      "Processing all_pdfs_sebi_education_cleaned_part4.json ...\n"
     ]
    },
    {
     "name": "stderr",
     "output_type": "stream",
     "text": [
      "Chunking all_pdfs_sebi_education_cleaned_part4.json: 100%|██████████| 143/143 [00:00<00:00, 42906.18page/s]\n"
     ]
    },
    {
     "name": "stdout",
     "output_type": "stream",
     "text": [
      "Saved chunks to ..\\data\\experiments\\chunks_1500_overlap200\\all_pdfs_sebi_education_cleaned_part4_chunks.jsonl\n",
      "\n",
      "Processing all_pdfs_varsity_cleaned_part1.json ...\n"
     ]
    },
    {
     "name": "stderr",
     "output_type": "stream",
     "text": [
      "Chunking all_pdfs_varsity_cleaned_part1.json: 100%|██████████| 200/200 [00:00<00:00, 40842.34page/s]\n"
     ]
    },
    {
     "name": "stdout",
     "output_type": "stream",
     "text": [
      "Saved chunks to ..\\data\\experiments\\chunks_1500_overlap200\\all_pdfs_varsity_cleaned_part1_chunks.jsonl\n",
      "\n",
      "Processing all_pdfs_varsity_cleaned_part10.json ...\n"
     ]
    },
    {
     "name": "stderr",
     "output_type": "stream",
     "text": [
      "Chunking all_pdfs_varsity_cleaned_part10.json: 100%|██████████| 200/200 [00:00<00:00, 58751.98page/s]\n"
     ]
    },
    {
     "name": "stdout",
     "output_type": "stream",
     "text": [
      "Saved chunks to ..\\data\\experiments\\chunks_1500_overlap200\\all_pdfs_varsity_cleaned_part10_chunks.jsonl\n",
      "\n",
      "Processing all_pdfs_varsity_cleaned_part11.json ...\n"
     ]
    },
    {
     "name": "stderr",
     "output_type": "stream",
     "text": [
      "Chunking all_pdfs_varsity_cleaned_part11.json: 100%|██████████| 186/186 [00:00<00:00, 38253.43page/s]\n"
     ]
    },
    {
     "name": "stdout",
     "output_type": "stream",
     "text": [
      "Saved chunks to ..\\data\\experiments\\chunks_1500_overlap200\\all_pdfs_varsity_cleaned_part11_chunks.jsonl\n",
      "\n",
      "Processing all_pdfs_varsity_cleaned_part2.json ...\n"
     ]
    },
    {
     "name": "stderr",
     "output_type": "stream",
     "text": [
      "Chunking all_pdfs_varsity_cleaned_part2.json: 100%|██████████| 200/200 [00:00<00:00, 39313.00page/s]\n"
     ]
    },
    {
     "name": "stdout",
     "output_type": "stream",
     "text": [
      "Saved chunks to ..\\data\\experiments\\chunks_1500_overlap200\\all_pdfs_varsity_cleaned_part2_chunks.jsonl\n",
      "\n",
      "Processing all_pdfs_varsity_cleaned_part3.json ...\n"
     ]
    },
    {
     "name": "stderr",
     "output_type": "stream",
     "text": [
      "Chunking all_pdfs_varsity_cleaned_part3.json: 100%|██████████| 200/200 [00:00<00:00, 33511.54page/s]\n"
     ]
    },
    {
     "name": "stdout",
     "output_type": "stream",
     "text": [
      "Saved chunks to ..\\data\\experiments\\chunks_1500_overlap200\\all_pdfs_varsity_cleaned_part3_chunks.jsonl\n",
      "\n",
      "Processing all_pdfs_varsity_cleaned_part4.json ...\n"
     ]
    },
    {
     "name": "stderr",
     "output_type": "stream",
     "text": [
      "Chunking all_pdfs_varsity_cleaned_part4.json: 100%|██████████| 200/200 [00:00<00:00, 35390.49page/s]\n"
     ]
    },
    {
     "name": "stdout",
     "output_type": "stream",
     "text": [
      "Saved chunks to ..\\data\\experiments\\chunks_1500_overlap200\\all_pdfs_varsity_cleaned_part4_chunks.jsonl\n",
      "\n",
      "Processing all_pdfs_varsity_cleaned_part5.json ...\n"
     ]
    },
    {
     "name": "stderr",
     "output_type": "stream",
     "text": [
      "Chunking all_pdfs_varsity_cleaned_part5.json: 100%|██████████| 200/200 [00:00<00:00, 40505.11page/s]\n"
     ]
    },
    {
     "name": "stdout",
     "output_type": "stream",
     "text": [
      "Saved chunks to ..\\data\\experiments\\chunks_1500_overlap200\\all_pdfs_varsity_cleaned_part5_chunks.jsonl\n",
      "\n",
      "Processing all_pdfs_varsity_cleaned_part6.json ...\n"
     ]
    },
    {
     "name": "stderr",
     "output_type": "stream",
     "text": [
      "Chunking all_pdfs_varsity_cleaned_part6.json: 100%|██████████| 200/200 [00:00<00:00, 48626.79page/s]\n"
     ]
    },
    {
     "name": "stdout",
     "output_type": "stream",
     "text": [
      "Saved chunks to ..\\data\\experiments\\chunks_1500_overlap200\\all_pdfs_varsity_cleaned_part6_chunks.jsonl\n",
      "\n",
      "Processing all_pdfs_varsity_cleaned_part7.json ...\n"
     ]
    },
    {
     "name": "stderr",
     "output_type": "stream",
     "text": [
      "Chunking all_pdfs_varsity_cleaned_part7.json: 100%|██████████| 200/200 [00:00<00:00, 49569.27page/s]\n"
     ]
    },
    {
     "name": "stdout",
     "output_type": "stream",
     "text": [
      "Saved chunks to ..\\data\\experiments\\chunks_1500_overlap200\\all_pdfs_varsity_cleaned_part7_chunks.jsonl\n",
      "\n",
      "Processing all_pdfs_varsity_cleaned_part8.json ...\n"
     ]
    },
    {
     "name": "stderr",
     "output_type": "stream",
     "text": [
      "Chunking all_pdfs_varsity_cleaned_part8.json: 100%|██████████| 200/200 [00:00<00:00, 38140.44page/s]\n"
     ]
    },
    {
     "name": "stdout",
     "output_type": "stream",
     "text": [
      "Saved chunks to ..\\data\\experiments\\chunks_1500_overlap200\\all_pdfs_varsity_cleaned_part8_chunks.jsonl\n",
      "\n",
      "Processing all_pdfs_varsity_cleaned_part9.json ...\n"
     ]
    },
    {
     "name": "stderr",
     "output_type": "stream",
     "text": [
      "Chunking all_pdfs_varsity_cleaned_part9.json: 100%|██████████| 200/200 [00:00<00:00, 49481.55page/s]"
     ]
    },
    {
     "name": "stdout",
     "output_type": "stream",
     "text": [
      "Saved chunks to ..\\data\\experiments\\chunks_1500_overlap200\\all_pdfs_varsity_cleaned_part9_chunks.jsonl\n"
     ]
    },
    {
     "name": "stderr",
     "output_type": "stream",
     "text": [
      "\n"
     ]
    },
    {
     "name": "stdout",
     "output_type": "stream",
     "text": [
      "\n",
      "All experiments completed!\n"
     ]
    }
   ],
   "source": [
    "# Dictionary to store experiment statistics\n",
    "experiment_stats = []\n",
    "\n",
    "for config in experiment_configs:\n",
    "    print(f\"\\nRunning experiment: chunk_size={config['chunk_size']}, overlap={config['overlap']}\")\n",
    "\n",
    "    # Create a subfolder for each experiment\n",
    "    exp_output_dir = PROCESSED_DIR / f\"chunks_{config['chunk_size']}_overlap{config['overlap']}\"\n",
    "    exp_output_dir.mkdir(parents=True, exist_ok=True)\n",
    "\n",
    "    # Run streaming chunker\n",
    "    chunk_docs_streaming(\n",
    "        input_folder=str(INTERIM_DIR),\n",
    "        output_folder=str(exp_output_dir),\n",
    "        chunk_size=config['chunk_size'],\n",
    "        overlap=config['overlap'],\n",
    "        jsonl_output=jsonl_output,\n",
    "        batch_size=100\n",
    "    )\n",
    "\n",
    "    # Collect statistics for analysis\n",
    "    num_chunks = 0\n",
    "    total_chars = 0\n",
    "    for file in exp_output_dir.glob(\"*.jsonl\"):\n",
    "        with open(file, \"r\", encoding=\"utf-8\") as f:\n",
    "            for line in f:\n",
    "                data = json.loads(line)\n",
    "                num_chunks += 1\n",
    "                total_chars += len(data.get(\"chunk_content\", \"\"))\n",
    "    \n",
    "    avg_chunk_length = total_chars / max(num_chunks, 1)\n",
    "    experiment_stats.append({\n",
    "        \"chunk_size\": config['chunk_size'],\n",
    "        \"overlap\": config['overlap'],\n",
    "        \"num_chunks\": num_chunks,\n",
    "        \"avg_chunk_length\": avg_chunk_length\n",
    "    })\n",
    "\n",
    "print(\"\\nAll experiments completed!\")\n"
   ]
  },
  {
   "cell_type": "markdown",
   "id": "f8286f94",
   "metadata": {},
   "source": [
    "## 4️. Compare Experiments\n",
    "\n",
    "We will visualize and compare the results in a DataFrame.\n"
   ]
  },
  {
   "cell_type": "code",
   "execution_count": 11,
   "id": "531d4f5d",
   "metadata": {},
   "outputs": [
    {
     "data": {
      "text/html": [
       "<style type=\"text/css\">\n",
       "</style>\n",
       "<table id=\"T_4e06c\">\n",
       "  <caption>Chunking Experiment Results</caption>\n",
       "  <thead>\n",
       "    <tr>\n",
       "      <th class=\"blank level0\" >&nbsp;</th>\n",
       "      <th id=\"T_4e06c_level0_col0\" class=\"col_heading level0 col0\" >chunk_size</th>\n",
       "      <th id=\"T_4e06c_level0_col1\" class=\"col_heading level0 col1\" >overlap</th>\n",
       "      <th id=\"T_4e06c_level0_col2\" class=\"col_heading level0 col2\" >num_chunks</th>\n",
       "      <th id=\"T_4e06c_level0_col3\" class=\"col_heading level0 col3\" >avg_chunk_length</th>\n",
       "    </tr>\n",
       "  </thead>\n",
       "  <tbody>\n",
       "    <tr>\n",
       "      <th id=\"T_4e06c_level0_row0\" class=\"row_heading level0 row0\" >0</th>\n",
       "      <td id=\"T_4e06c_row0_col0\" class=\"data row0 col0\" >100</td>\n",
       "      <td id=\"T_4e06c_row0_col1\" class=\"data row0 col1\" >20</td>\n",
       "      <td id=\"T_4e06c_row0_col2\" class=\"data row0 col2\" >39200</td>\n",
       "      <td id=\"T_4e06c_row0_col3\" class=\"data row0 col3\" >95.1</td>\n",
       "    </tr>\n",
       "    <tr>\n",
       "      <th id=\"T_4e06c_level0_row1\" class=\"row_heading level0 row1\" >1</th>\n",
       "      <td id=\"T_4e06c_row1_col0\" class=\"data row1 col0\" >150</td>\n",
       "      <td id=\"T_4e06c_row1_col1\" class=\"data row1 col1\" >30</td>\n",
       "      <td id=\"T_4e06c_row1_col2\" class=\"data row1 col2\" >26651</td>\n",
       "      <td id=\"T_4e06c_row1_col3\" class=\"data row1 col3\" >139.4</td>\n",
       "    </tr>\n",
       "    <tr>\n",
       "      <th id=\"T_4e06c_level0_row2\" class=\"row_heading level0 row2\" >2</th>\n",
       "      <td id=\"T_4e06c_row2_col0\" class=\"data row2 col0\" >200</td>\n",
       "      <td id=\"T_4e06c_row2_col1\" class=\"data row2 col1\" >40</td>\n",
       "      <td id=\"T_4e06c_row2_col2\" class=\"data row2 col2\" >20349</td>\n",
       "      <td id=\"T_4e06c_row2_col3\" class=\"data row2 col3\" >181.9</td>\n",
       "    </tr>\n",
       "    <tr>\n",
       "      <th id=\"T_4e06c_level0_row3\" class=\"row_heading level0 row3\" >3</th>\n",
       "      <td id=\"T_4e06c_row3_col0\" class=\"data row3 col0\" >250</td>\n",
       "      <td id=\"T_4e06c_row3_col1\" class=\"data row3 col1\" >50</td>\n",
       "      <td id=\"T_4e06c_row3_col2\" class=\"data row3 col2\" >16574</td>\n",
       "      <td id=\"T_4e06c_row3_col3\" class=\"data row3 col3\" >222.3</td>\n",
       "    </tr>\n",
       "    <tr>\n",
       "      <th id=\"T_4e06c_level0_row4\" class=\"row_heading level0 row4\" >4</th>\n",
       "      <td id=\"T_4e06c_row4_col0\" class=\"data row4 col0\" >300</td>\n",
       "      <td id=\"T_4e06c_row4_col1\" class=\"data row4 col1\" >50</td>\n",
       "      <td id=\"T_4e06c_row4_col2\" class=\"data row4 col2\" >13532</td>\n",
       "      <td id=\"T_4e06c_row4_col3\" class=\"data row4 col3\" >261.5</td>\n",
       "    </tr>\n",
       "    <tr>\n",
       "      <th id=\"T_4e06c_level0_row5\" class=\"row_heading level0 row5\" >5</th>\n",
       "      <td id=\"T_4e06c_row5_col0\" class=\"data row5 col0\" >350</td>\n",
       "      <td id=\"T_4e06c_row5_col1\" class=\"data row5 col1\" >60</td>\n",
       "      <td id=\"T_4e06c_row5_col2\" class=\"data row5 col2\" >11924</td>\n",
       "      <td id=\"T_4e06c_row5_col3\" class=\"data row5 col3\" >297.3</td>\n",
       "    </tr>\n",
       "    <tr>\n",
       "      <th id=\"T_4e06c_level0_row6\" class=\"row_heading level0 row6\" >6</th>\n",
       "      <td id=\"T_4e06c_row6_col0\" class=\"data row6 col0\" >400</td>\n",
       "      <td id=\"T_4e06c_row6_col1\" class=\"data row6 col1\" >60</td>\n",
       "      <td id=\"T_4e06c_row6_col2\" class=\"data row6 col2\" >10365</td>\n",
       "      <td id=\"T_4e06c_row6_col3\" class=\"data row6 col3\" >333.3</td>\n",
       "    </tr>\n",
       "    <tr>\n",
       "      <th id=\"T_4e06c_level0_row7\" class=\"row_heading level0 row7\" >7</th>\n",
       "      <td id=\"T_4e06c_row7_col0\" class=\"data row7 col0\" >450</td>\n",
       "      <td id=\"T_4e06c_row7_col1\" class=\"data row7 col1\" >75</td>\n",
       "      <td id=\"T_4e06c_row7_col2\" class=\"data row7 col2\" >9543</td>\n",
       "      <td id=\"T_4e06c_row7_col3\" class=\"data row7 col3\" >366.8</td>\n",
       "    </tr>\n",
       "    <tr>\n",
       "      <th id=\"T_4e06c_level0_row8\" class=\"row_heading level0 row8\" >8</th>\n",
       "      <td id=\"T_4e06c_row8_col0\" class=\"data row8 col0\" >500</td>\n",
       "      <td id=\"T_4e06c_row8_col1\" class=\"data row8 col1\" >50</td>\n",
       "      <td id=\"T_4e06c_row8_col2\" class=\"data row8 col2\" >8221</td>\n",
       "      <td id=\"T_4e06c_row8_col3\" class=\"data row8 col3\" >399.0</td>\n",
       "    </tr>\n",
       "    <tr>\n",
       "      <th id=\"T_4e06c_level0_row9\" class=\"row_heading level0 row9\" >9</th>\n",
       "      <td id=\"T_4e06c_row9_col0\" class=\"data row9 col0\" >500</td>\n",
       "      <td id=\"T_4e06c_row9_col1\" class=\"data row9 col1\" >100</td>\n",
       "      <td id=\"T_4e06c_row9_col2\" class=\"data row9 col2\" >9045</td>\n",
       "      <td id=\"T_4e06c_row9_col3\" class=\"data row9 col3\" >398.6</td>\n",
       "    </tr>\n",
       "    <tr>\n",
       "      <th id=\"T_4e06c_level0_row10\" class=\"row_heading level0 row10\" >10</th>\n",
       "      <td id=\"T_4e06c_row10_col0\" class=\"data row10 col0\" >550</td>\n",
       "      <td id=\"T_4e06c_row10_col1\" class=\"data row10 col1\" >100</td>\n",
       "      <td id=\"T_4e06c_row10_col2\" class=\"data row10 col2\" >8221</td>\n",
       "      <td id=\"T_4e06c_row10_col3\" class=\"data row10 col3\" >428.9</td>\n",
       "    </tr>\n",
       "    <tr>\n",
       "      <th id=\"T_4e06c_level0_row11\" class=\"row_heading level0 row11\" >11</th>\n",
       "      <td id=\"T_4e06c_row11_col0\" class=\"data row11 col0\" >600</td>\n",
       "      <td id=\"T_4e06c_row11_col1\" class=\"data row11 col1\" >100</td>\n",
       "      <td id=\"T_4e06c_row11_col2\" class=\"data row11 col2\" >7566</td>\n",
       "      <td id=\"T_4e06c_row11_col3\" class=\"data row11 col3\" >457.9</td>\n",
       "    </tr>\n",
       "    <tr>\n",
       "      <th id=\"T_4e06c_level0_row12\" class=\"row_heading level0 row12\" >12</th>\n",
       "      <td id=\"T_4e06c_row12_col0\" class=\"data row12 col0\" >650</td>\n",
       "      <td id=\"T_4e06c_row12_col1\" class=\"data row12 col1\" >100</td>\n",
       "      <td id=\"T_4e06c_row12_col2\" class=\"data row12 col2\" >7016</td>\n",
       "      <td id=\"T_4e06c_row12_col3\" class=\"data row12 col3\" >486.1</td>\n",
       "    </tr>\n",
       "    <tr>\n",
       "      <th id=\"T_4e06c_level0_row13\" class=\"row_heading level0 row13\" >13</th>\n",
       "      <td id=\"T_4e06c_row13_col0\" class=\"data row13 col0\" >700</td>\n",
       "      <td id=\"T_4e06c_row13_col1\" class=\"data row13 col1\" >100</td>\n",
       "      <td id=\"T_4e06c_row13_col2\" class=\"data row13 col2\" >6555</td>\n",
       "      <td id=\"T_4e06c_row13_col3\" class=\"data row13 col3\" >513.4</td>\n",
       "    </tr>\n",
       "    <tr>\n",
       "      <th id=\"T_4e06c_level0_row14\" class=\"row_heading level0 row14\" >14</th>\n",
       "      <td id=\"T_4e06c_row14_col0\" class=\"data row14 col0\" >750</td>\n",
       "      <td id=\"T_4e06c_row14_col1\" class=\"data row14 col1\" >100</td>\n",
       "      <td id=\"T_4e06c_row14_col2\" class=\"data row14 col2\" >6171</td>\n",
       "      <td id=\"T_4e06c_row14_col3\" class=\"data row14 col3\" >539.7</td>\n",
       "    </tr>\n",
       "    <tr>\n",
       "      <th id=\"T_4e06c_level0_row15\" class=\"row_heading level0 row15\" >15</th>\n",
       "      <td id=\"T_4e06c_row15_col0\" class=\"data row15 col0\" >800</td>\n",
       "      <td id=\"T_4e06c_row15_col1\" class=\"data row15 col1\" >100</td>\n",
       "      <td id=\"T_4e06c_row15_col2\" class=\"data row15 col2\" >5846</td>\n",
       "      <td id=\"T_4e06c_row15_col3\" class=\"data row15 col3\" >564.2</td>\n",
       "    </tr>\n",
       "    <tr>\n",
       "      <th id=\"T_4e06c_level0_row16\" class=\"row_heading level0 row16\" >16</th>\n",
       "      <td id=\"T_4e06c_row16_col0\" class=\"data row16 col0\" >900</td>\n",
       "      <td id=\"T_4e06c_row16_col1\" class=\"data row16 col1\" >120</td>\n",
       "      <td id=\"T_4e06c_row16_col2\" class=\"data row16 col2\" >5383</td>\n",
       "      <td id=\"T_4e06c_row16_col3\" class=\"data row16 col3\" >612.8</td>\n",
       "    </tr>\n",
       "    <tr>\n",
       "      <th id=\"T_4e06c_level0_row17\" class=\"row_heading level0 row17\" >17</th>\n",
       "      <td id=\"T_4e06c_row17_col0\" class=\"data row17 col0\" >1000</td>\n",
       "      <td id=\"T_4e06c_row17_col1\" class=\"data row17 col1\" >120</td>\n",
       "      <td id=\"T_4e06c_row17_col2\" class=\"data row17 col2\" >4934</td>\n",
       "      <td id=\"T_4e06c_row17_col3\" class=\"data row17 col3\" >658.5</td>\n",
       "    </tr>\n",
       "    <tr>\n",
       "      <th id=\"T_4e06c_level0_row18\" class=\"row_heading level0 row18\" >18</th>\n",
       "      <td id=\"T_4e06c_row18_col0\" class=\"data row18 col0\" >1200</td>\n",
       "      <td id=\"T_4e06c_row18_col1\" class=\"data row18 col1\" >150</td>\n",
       "      <td id=\"T_4e06c_row18_col2\" class=\"data row18 col2\" >4407</td>\n",
       "      <td id=\"T_4e06c_row18_col3\" class=\"data row18 col3\" >732.3</td>\n",
       "    </tr>\n",
       "    <tr>\n",
       "      <th id=\"T_4e06c_level0_row19\" class=\"row_heading level0 row19\" >19</th>\n",
       "      <td id=\"T_4e06c_row19_col0\" class=\"data row19 col0\" >1500</td>\n",
       "      <td id=\"T_4e06c_row19_col1\" class=\"data row19 col1\" >200</td>\n",
       "      <td id=\"T_4e06c_row19_col2\" class=\"data row19 col2\" >3883</td>\n",
       "      <td id=\"T_4e06c_row19_col3\" class=\"data row19 col3\" >822.6</td>\n",
       "    </tr>\n",
       "  </tbody>\n",
       "</table>\n"
      ],
      "text/plain": [
       "<pandas.io.formats.style.Styler at 0x21883633a10>"
      ]
     },
     "execution_count": 11,
     "metadata": {},
     "output_type": "execute_result"
    }
   ],
   "source": [
    "# Convert experiment_stats to DataFrame\n",
    "df_stats = pd.DataFrame(experiment_stats)\n",
    "\n",
    "# Sort for readability\n",
    "df_stats = df_stats.sort_values(by=[\"chunk_size\", \"overlap\"]).reset_index(drop=True)\n",
    "\n",
    "# Display table in Jupyter Notebook\n",
    "df_stats.style.format({\n",
    "    \"chunk_size\": \"{:.0f}\",\n",
    "    \"overlap\": \"{:.0f}\",\n",
    "    \"num_chunks\": \"{:.0f}\",\n",
    "    \"avg_chunk_length\": \"{:.1f}\"\n",
    "}).set_caption(\"Chunking Experiment Results\")\n",
    "\n"
   ]
  },
  {
   "cell_type": "markdown",
   "id": "2f79c54b",
   "metadata": {},
   "source": [
    "### Analysis Notes\n",
    "\n",
    "- **Number of chunks:** Smaller chunk size → more chunks\n",
    "- **Average chunk length:** Should be close to `chunk_size` minus overlap\n",
    "- **Overlap effect:** Larger overlap → slightly longer average chunk content, some redundancy\n",
    "- Use these stats to decide the **best baseline for embeddings and RAG retrieval**\n"
   ]
  },
  {
   "cell_type": "markdown",
   "id": "5a43981b",
   "metadata": {},
   "source": [
    "## 5️. Preview Chunks\n",
    "\n",
    "We can inspect a few chunks from one of the experiment folders to ensure semantic integrity.\n"
   ]
  },
  {
   "cell_type": "code",
   "execution_count": 5,
   "id": "53bf3713",
   "metadata": {},
   "outputs": [
    {
     "name": "stdout",
     "output_type": "stream",
     "text": [
      "Previewing first 3 chunks from all_pdfs_sebi_education_cleaned_part1_chunks.jsonl:\n",
      "\n",
      "--- Chunk 1 ---\n",
      "Buyback of and Open Offer of Shares \n",
      "\n",
      "--- Chunk 2 ---\n",
      "Information contained in this presentation is as onAugust 31, 2021.This presentation may be used with the permissionof SEBI and only for non-profit awarenessprograms,This presentation is only for Educational andAwareness Programs and not for any legalinterpretations. Disclaimer 2 \n",
      "\n",
      "--- Chunk 3 ---\n",
      "Buyback of Securities \n",
      "\n"
     ]
    }
   ],
   "source": [
    "# Pick one experiment folder to inspect\n",
    "sample_folder = PROCESSED_DIR / f\"chunks_500_overlap50\"\n",
    "sample_file = list(sample_folder.glob(\"*.jsonl\"))[0]\n",
    "\n",
    "print(f\"Previewing first 3 chunks from {sample_file.name}:\\n\")\n",
    "\n",
    "with open(sample_file, \"r\", encoding=\"utf-8\") as f:\n",
    "    for i, line in enumerate(f):\n",
    "        if i >= 3:\n",
    "            break\n",
    "        chunk_data = json.loads(line)\n",
    "        print(f\"--- Chunk {i+1} ---\")\n",
    "        print(chunk_data[\"chunk_content\"][:500], \"\\n\")  # show first 500 chars\n"
   ]
  },
  {
   "cell_type": "markdown",
   "id": "710835fd",
   "metadata": {},
   "source": [
    "## 6. Visualizing Chunking Experiment Results\n",
    "\n",
    "We will visualize how **chunk size** and **overlap** affect:\n",
    "\n",
    "- Number of chunks generated\n",
    "- Average chunk length\n"
   ]
  },
  {
   "cell_type": "code",
   "execution_count": 9,
   "id": "534c5122",
   "metadata": {},
   "outputs": [
    {
     "name": "stderr",
     "output_type": "stream",
     "text": [
      "C:\\Users\\tejpa\\AppData\\Local\\Temp\\ipykernel_2344\\310550626.py:10: UserWarning: \n",
      "The palette list has fewer values (7) than needed (10) and will cycle, which may produce an uninterpretable plot.\n",
      "  sns.lineplot(\n"
     ]
    },
    {
     "data": {
      "image/png": "[encoded data removed]",
      "text/plain": [
       "<Figure size 1000x600 with 1 Axes>"
      ]
     },
     "metadata": {},
     "output_type": "display_data"
    }
   ],
   "source": [
    "# Convert experiment_stats to DataFrame\n",
    "df_stats = pd.DataFrame(experiment_stats)\n",
    "\n",
    "# Set seaborn style for better aesthetics\n",
    "sns.set(style=\"whitegrid\", font_scale=1.2)\n",
    "custom_colors = [\"#1f77b4\", \"#ff7f0e\", \"#2ca02c\", \"#d62728\", \"#9467bd\", \"#8c564b\", \"#e377c2\"]\n",
    "\n",
    "# Plot 1: Number of Chunks vs Chunk Size\n",
    "plt.figure(figsize=(10,6))\n",
    "sns.lineplot(\n",
    "    data=df_stats,\n",
    "    x=\"chunk_size\",\n",
    "    y=\"num_chunks\",\n",
    "    hue=\"overlap\",\n",
    "    marker=\"o\",\n",
    "    palette=custom_colors,\n",
    ")\n",
    "plt.title(\"Number of Chunks vs Chunk Size (Different Overlaps)\")\n",
    "plt.xlabel(\"Chunk Size\")\n",
    "plt.ylabel(\"Number of Chunks\")\n",
    "plt.legend(title=\"Overlap\")\n",
    "plt.show()"
   ]
  },
  {
   "cell_type": "code",
   "execution_count": 10,
   "id": "8cb0e336",
   "metadata": {},
   "outputs": [
    {
     "name": "stderr",
     "output_type": "stream",
     "text": [
      "C:\\Users\\tejpa\\AppData\\Local\\Temp\\ipykernel_2344\\1417432902.py:3: UserWarning: \n",
      "The palette list has fewer values (7) than needed (10) and will cycle, which may produce an uninterpretable plot.\n",
      "  sns.lineplot(\n"
     ]
    },
    {
     "data": {
      "image/png": "[encoded data removed]",
      "text/plain": [
       "<Figure size 1000x600 with 1 Axes>"
      ]
     },
     "metadata": {},
     "output_type": "display_data"
    }
   ],
   "source": [
    "# Plot 2: Average Chunk Length vs Chunk Size\n",
    "plt.figure(figsize=(10,6))\n",
    "sns.lineplot(\n",
    "    data=df_stats,\n",
    "    x=\"chunk_size\",\n",
    "    y=\"avg_chunk_length\",\n",
    "    hue=\"overlap\",\n",
    "    marker=\"o\",\n",
    "    palette=custom_colors\n",
    ")\n",
    "plt.title(\"Average Chunk Length vs Chunk Size (Different Overlaps)\")\n",
    "plt.xlabel(\"Chunk Size\")\n",
    "plt.ylabel(\"Average Chunk Length\")\n",
    "plt.legend(title=\"Overlap\")\n",
    "plt.show()"
   ]
  },
  {
   "cell_type": "markdown",
   "id": "e79c8f54",
   "metadata": {},
   "source": [
    "## 7. Observations & Conclusion\n",
    "\n",
    "After conducting a series of chunking experiments, we've observed several key trends and insights that inform best practices for chunk size and overlap in Retrieval-Augmented Generation (RAG) systems.\n",
    "\n",
    "### 1. Effect of Chunk Size\n",
    "\n",
    "- **Smaller chunk sizes (100–300 characters):**\n",
    "\n",
    "  - **Advantages:**\n",
    "    - Provide **higher granularity**, beneficial for fine-grained retrieval tasks.\n",
    "    - Facilitate precise matching, especially for fact-based queries.\n",
    "  - **Disadvantages:**\n",
    "    - Result in a **larger number of chunks**, increasing embedding and storage costs.\n",
    "    - May lead to **loss of context**, as chunks might not capture sufficient surrounding information.\n",
    "\n",
    "- **Medium chunk sizes (300–500 characters):**\n",
    "\n",
    "  - **Advantages:**\n",
    "    - Offer a **balanced trade-off** between context preservation and retrieval granularity.\n",
    "    - Suitable for general-purpose RAG applications.\n",
    "  - **Disadvantages:**\n",
    "    - Still result in a moderate number of chunks, though more manageable than smaller sizes.\n",
    "\n",
    "- **Larger chunk sizes (600–1500 characters):**\n",
    "  - **Advantages:**\n",
    "    - Preserve **longer context**, which can be advantageous for complex queries requiring multi-sentence reasoning.\n",
    "    - Reduce the total number of chunks, lowering embedding and storage costs.\n",
    "  - **Disadvantages:**\n",
    "    - Risk of including **irrelevant content**, potentially reducing retrieval precision.\n",
    "    - May lead to **increased retrieval latency** due to larger chunk sizes.\n",
    "\n",
    "### 2. Effect of Overlap\n",
    "\n",
    "- **Smaller overlaps (20–50 characters):**\n",
    "\n",
    "  - **Advantages:**\n",
    "    - Reduce redundancy between consecutive chunks.\n",
    "    - Lower storage and embedding costs.\n",
    "  - **Disadvantages:**\n",
    "    - May break **semantic continuity**, especially for sentences spanning chunk boundaries.\n",
    "\n",
    "- **Larger overlaps (100–200 characters):**\n",
    "  - **Advantages:**\n",
    "    - Preserve **context across chunks**, ensuring important sentences or terms aren’t split.\n",
    "    - Improve **retrieval quality** for queries that rely on contextual understanding.\n",
    "  - **Disadvantages:**\n",
    "    - Slightly increase storage and computational costs due to redundant text.\n",
    "\n",
    "### 3. Trade-offs\n",
    "\n",
    "- **Granularity vs Cost:**\n",
    "\n",
    "  - Smaller chunks → better for precise retrieval but increase embeddings and storage cost.\n",
    "  - Larger chunks → fewer embeddings but potential loss in retrieval precision due to extra irrelevant content.\n",
    "\n",
    "- **Context vs Redundancy:**\n",
    "  - Larger overlaps → better context retention but higher redundancy.\n",
    "  - Smaller overlaps → lower redundancy but may lose context across chunk boundaries.\n",
    "\n",
    "### 4. Recommended Baseline\n",
    "\n",
    "Based on the experiments and visualizations, a good starting point for **initial RAG experiments** is:\n",
    "\n",
    "- **Chunk Size:** 500 characters\n",
    "- **Overlap:** 100 characters\n",
    "\n",
    "This configuration balances:\n",
    "\n",
    "- Adequate context for retrieval\n",
    "- Manageable number of chunks\n",
    "- Reasonable embedding and storage costs\n",
    "\n",
    "### 5. Next Steps\n",
    "\n",
    "- Use the selected baseline to **generate embeddings** for all chunks.\n",
    "- Store embeddings in **ChromaDB or FAISS**.\n",
    "- Begin **building concept graphs** for explainability.\n",
    "- Fine-tune chunking parameters further if retrieval performance requires optimization.\n",
    "\n",
    "---\n",
    "\n",
    "**Summary:**  \n",
    "This experiment helps in making **data-driven decisions** about chunking strategy, ensuring that downstream RAG and concept graph modules perform effectively while keeping resource usage under control.\n"
   ]
  },
  {
   "cell_type": "markdown",
   "id": "dc1f3584",
   "metadata": {},
   "source": [
    "## 8. Reference: Research on Chunk Size in RAG\n",
    "\n",
    "To support our findings, we refer to a research study that systematically evaluates the impact of chunk sizes on retrieval performance in RAG applications:\n",
    "\n",
    "**Paper:** \"Evaluating the Optimal Document Chunk Size for a RAG Application\"  \n",
    "**Author:** Harshad Suryawanshi  \n",
    "**Published:** 2024  \n",
    "**Source:** [Medium Article](https://harshadsuryawanshi.medium.com/evaluating-the-optimal-document-chunk-size-for-a-rag-application-9cb482365bbf)\n",
    "\n",
    "**Key Insights:**\n",
    "\n",
    "- **Smaller chunk sizes (e.g., 25 tokens):**\n",
    "\n",
    "  - Higher **precision** in retrieval due to fine-grained matching.\n",
    "  - Risk of **loss of context**, leading to incomplete answers.\n",
    "\n",
    "- **Medium chunk sizes (e.g., 200 tokens):**\n",
    "\n",
    "  - Balanced **context relevancy**, capturing sufficient information for accurate retrieval.\n",
    "  - Suitable for tasks requiring both precision and context.\n",
    "\n",
    "- **Larger chunk sizes (e.g., 1024 tokens):**\n",
    "  - Broader **context coverage**, beneficial for complex queries.\n",
    "  - Risk of **redundancy** and decreased retrieval efficiency.\n",
    "\n",
    "**Takeaway:**  \n",
    "The study reinforces our experimental observation: choosing the right chunk size is a **trade-off between granularity, context preservation, and computational efficiency**. For initial RAG experiments, medium chunk sizes with moderate overlap often provide the best balance.\n"
   ]
  }
 ],
 "metadata": {
  "kernelspec": {
   "display_name": "venv",
   "language": "python",
   "name": "python3"
  },
  "language_info": {
   "codemirror_mode": {
    "name": "ipython",
    "version": 3
   },
   "file_extension": ".py",
   "mimetype": "text/x-python",
   "name": "python",
   "nbconvert_exporter": "python",
   "pygments_lexer": "ipython3",
   "version": "3.13.3"
  }
 },
 "nbformat": 4,
 "nbformat_minor": 5
}
